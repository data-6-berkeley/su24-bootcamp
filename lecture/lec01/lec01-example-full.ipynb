{
 "cells": [
  {
   "cell_type": "code",
   "execution_count": 1,
   "id": "da875720",
   "metadata": {},
   "outputs": [
    {
     "data": {
      "text/plain": [
       "13"
      ]
     },
     "execution_count": 1,
     "metadata": {},
     "output_type": "execute_result"
    }
   ],
   "source": [
    "13"
   ]
  },
  {
   "cell_type": "code",
   "execution_count": 2,
   "id": "03779852",
   "metadata": {},
   "outputs": [
    {
     "data": {
      "text/plain": [
       "8"
      ]
     },
     "execution_count": 2,
     "metadata": {},
     "output_type": "execute_result"
    }
   ],
   "source": [
    "2 ** 3"
   ]
  },
  {
   "cell_type": "code",
   "execution_count": 3,
   "id": "491760e8",
   "metadata": {},
   "outputs": [
    {
     "data": {
      "text/plain": [
       "9"
      ]
     },
     "execution_count": 3,
     "metadata": {},
     "output_type": "execute_result"
    }
   ],
   "source": [
    "3 ** 2"
   ]
  },
  {
   "cell_type": "code",
   "execution_count": 4,
   "id": "b558966d",
   "metadata": {},
   "outputs": [
    {
     "data": {
      "text/plain": [
       "3.0"
      ]
     },
     "execution_count": 4,
     "metadata": {},
     "output_type": "execute_result"
    }
   ],
   "source": [
    "9 ** 0.5"
   ]
  },
  {
   "cell_type": "code",
   "execution_count": 7,
   "id": "44f956d6",
   "metadata": {},
   "outputs": [
    {
     "data": {
      "text/plain": [
       "1"
      ]
     },
     "execution_count": 7,
     "metadata": {},
     "output_type": "execute_result"
    }
   ],
   "source": [
    "15 % 2"
   ]
  },
  {
   "cell_type": "code",
   "execution_count": 8,
   "id": "5fd08703",
   "metadata": {},
   "outputs": [
    {
     "data": {
      "text/plain": [
       "0"
      ]
     },
     "execution_count": 8,
     "metadata": {},
     "output_type": "execute_result"
    }
   ],
   "source": [
    "15 % 3"
   ]
  },
  {
   "cell_type": "code",
   "execution_count": 9,
   "id": "a1ab4ebc",
   "metadata": {},
   "outputs": [
    {
     "data": {
      "text/plain": [
       "3"
      ]
     },
     "execution_count": 9,
     "metadata": {},
     "output_type": "execute_result"
    }
   ],
   "source": [
    "15 % 6"
   ]
  },
  {
   "cell_type": "code",
   "execution_count": 12,
   "id": "a254e3c2",
   "metadata": {},
   "outputs": [
    {
     "data": {
      "text/plain": [
       "3"
      ]
     },
     "execution_count": 12,
     "metadata": {},
     "output_type": "execute_result"
    }
   ],
   "source": [
    "# hello!!!!\n",
    "15 % 6\n",
    "# test"
   ]
  },
  {
   "cell_type": "code",
   "execution_count": 13,
   "id": "7c2abd5c",
   "metadata": {
    "scrolled": true
   },
   "outputs": [
    {
     "data": {
      "text/plain": [
       "0.07173"
      ]
     },
     "execution_count": 13,
     "metadata": {},
     "output_type": "execute_result"
    }
   ],
   "source": [
    "# population: 331,501,080\n",
    "# tb cases: 7,173\n",
    "# goal: 2.16\n",
    "\n",
    "# cases per (???? persons)\n",
    "7173 / 100000 * "
   ]
  },
  {
   "cell_type": "code",
   "execution_count": 14,
   "id": "68778ecf",
   "metadata": {
    "scrolled": false
   },
   "outputs": [
    {
     "data": {
      "text/plain": [
       "3315.0108"
      ]
     },
     "execution_count": 14,
     "metadata": {},
     "output_type": "execute_result"
    }
   ],
   "source": [
    "# approach 1\n",
    "# 1. number of 100k groups in 2020\n",
    "331501080/100000"
   ]
  },
  {
   "cell_type": "code",
   "execution_count": 15,
   "id": "8a2a62e5",
   "metadata": {},
   "outputs": [
    {
     "data": {
      "text/plain": [
       "2.163793855513231"
      ]
     },
     "execution_count": 15,
     "metadata": {},
     "output_type": "execute_result"
    }
   ],
   "source": [
    "# 2. divide number of cases by # of 100k groups\n",
    "7173 / 3315.0108"
   ]
  },
  {
   "cell_type": "code",
   "execution_count": 21,
   "id": "7a35bccd",
   "metadata": {},
   "outputs": [
    {
     "data": {
      "text/plain": [
       "2.1637938555132306"
      ]
     },
     "execution_count": 21,
     "metadata": {},
     "output_type": "execute_result"
    }
   ],
   "source": [
    "# approach 2\n",
    "# number of cases / pop * 100000\n",
    "7173 / 331501080 * 100000"
   ]
  },
  {
   "cell_type": "code",
   "execution_count": 33,
   "id": "2a2919d4",
   "metadata": {},
   "outputs": [
    {
     "data": {
      "text/plain": [
       "305"
      ]
     },
     "execution_count": 33,
     "metadata": {},
     "output_type": "execute_result"
    }
   ],
   "source": [
    "3 + (2 ** 9) - 15 * 14 // 1"
   ]
  },
  {
   "cell_type": "code",
   "execution_count": 28,
   "id": "df76b566",
   "metadata": {
    "scrolled": true
   },
   "outputs": [
    {
     "data": {
      "text/plain": [
       "306.0"
      ]
     },
     "execution_count": 28,
     "metadata": {},
     "output_type": "execute_result"
    }
   ],
   "source": [
    "3 + (2 ** 9) - 15.0000000 * 14 + 1"
   ]
  },
  {
   "cell_type": "code",
   "execution_count": 29,
   "id": "17bf1bc4",
   "metadata": {},
   "outputs": [
    {
     "data": {
      "text/plain": [
       "0.03"
      ]
     },
     "execution_count": 29,
     "metadata": {},
     "output_type": "execute_result"
    }
   ],
   "source": [
    "3 * 10 ** -2"
   ]
  },
  {
   "cell_type": "code",
   "execution_count": 31,
   "id": "a1a00932",
   "metadata": {},
   "outputs": [
    {
     "data": {
      "text/plain": [
       "3e-234"
      ]
     },
     "execution_count": 31,
     "metadata": {},
     "output_type": "execute_result"
    }
   ],
   "source": [
    "3e-234"
   ]
  },
  {
   "cell_type": "code",
   "execution_count": 41,
   "id": "e75ec2af",
   "metadata": {
    "scrolled": false
   },
   "outputs": [
    {
     "data": {
      "text/plain": [
       "157"
      ]
     },
     "execution_count": 41,
     "metadata": {},
     "output_type": "execute_result"
    }
   ],
   "source": [
    "154 + 3"
   ]
  },
  {
   "cell_type": "code",
   "execution_count": 42,
   "id": "9657d500",
   "metadata": {},
   "outputs": [
    {
     "data": {
      "text/plain": [
       "'1543'"
      ]
     },
     "execution_count": 42,
     "metadata": {},
     "output_type": "execute_result"
    }
   ],
   "source": [
    "'154' + '3'"
   ]
  },
  {
   "cell_type": "code",
   "execution_count": 44,
   "id": "034f058d",
   "metadata": {},
   "outputs": [
    {
     "data": {
      "text/plain": [
       "28"
      ]
     },
     "execution_count": 44,
     "metadata": {},
     "output_type": "execute_result"
    }
   ],
   "source": [
    "len(\"Tuskegee University, Alabama\")"
   ]
  },
  {
   "cell_type": "code",
   "execution_count": 47,
   "id": "99032dcb",
   "metadata": {},
   "outputs": [
    {
     "data": {
      "text/plain": [
       "5"
      ]
     },
     "execution_count": 47,
     "metadata": {},
     "output_type": "execute_result"
    }
   ],
   "source": [
    "len(\"hi ''\")"
   ]
  },
  {
   "cell_type": "code",
   "execution_count": 48,
   "id": "da5d85a8",
   "metadata": {},
   "outputs": [
    {
     "data": {
      "text/plain": [
       "5"
      ]
     },
     "execution_count": 48,
     "metadata": {},
     "output_type": "execute_result"
    }
   ],
   "source": [
    "len('Hello')"
   ]
  },
  {
   "cell_type": "code",
   "execution_count": 50,
   "id": "c57c04fe",
   "metadata": {},
   "outputs": [
    {
     "data": {
      "text/plain": [
       "'gobears!!!'"
      ]
     },
     "execution_count": 50,
     "metadata": {},
     "output_type": "execute_result"
    }
   ],
   "source": [
    "\"go\" + \"bears\" + \"!!!\""
   ]
  },
  {
   "cell_type": "code",
   "execution_count": 51,
   "id": "c9d535b2",
   "metadata": {},
   "outputs": [
    {
     "data": {
      "text/plain": [
       "'1504'"
      ]
     },
     "execution_count": 51,
     "metadata": {},
     "output_type": "execute_result"
    }
   ],
   "source": [
    "'150' + '4'"
   ]
  },
  {
   "cell_type": "code",
   "execution_count": 52,
   "id": "a0bebc3c",
   "metadata": {},
   "outputs": [
    {
     "data": {
      "text/plain": [
       "154"
      ]
     },
     "execution_count": 52,
     "metadata": {},
     "output_type": "execute_result"
    }
   ],
   "source": [
    "150 + 4"
   ]
  },
  {
   "cell_type": "code",
   "execution_count": 53,
   "id": "baf668cf",
   "metadata": {},
   "outputs": [
    {
     "ename": "TypeError",
     "evalue": "can only concatenate str (not \"int\") to str",
     "output_type": "error",
     "traceback": [
      "\u001b[0;31m---------------------------------------------------------------------------\u001b[0m",
      "\u001b[0;31mTypeError\u001b[0m                                 Traceback (most recent call last)",
      "Input \u001b[0;32mIn [53]\u001b[0m, in \u001b[0;36m<cell line: 1>\u001b[0;34m()\u001b[0m\n\u001b[0;32m----> 1\u001b[0m \u001b[38;5;124;43m'\u001b[39;49m\u001b[38;5;124;43m150\u001b[39;49m\u001b[38;5;124;43m'\u001b[39;49m\u001b[43m \u001b[49m\u001b[38;5;241;43m+\u001b[39;49m\u001b[43m \u001b[49m\u001b[38;5;241;43m4\u001b[39;49m\n",
      "\u001b[0;31mTypeError\u001b[0m: can only concatenate str (not \"int\") to str"
     ]
    }
   ],
   "source": [
    "'150' + 4"
   ]
  },
  {
   "cell_type": "code",
   "execution_count": 58,
   "id": "00555158",
   "metadata": {},
   "outputs": [
    {
     "data": {
      "text/plain": [
       "7"
      ]
     },
     "execution_count": 58,
     "metadata": {},
     "output_type": "execute_result"
    }
   ],
   "source": [
    "'150' + '4'\n",
    "3 + 4"
   ]
  },
  {
   "cell_type": "markdown",
   "id": "62437aca",
   "metadata": {},
   "source": [
    "Hello, World!"
   ]
  },
  {
   "cell_type": "code",
   "execution_count": 55,
   "id": "55c33efa",
   "metadata": {},
   "outputs": [
    {
     "data": {
      "text/plain": [
       "'1504'"
      ]
     },
     "execution_count": 55,
     "metadata": {},
     "output_type": "execute_result"
    }
   ],
   "source": [
    "'150' + '4'\n"
   ]
  },
  {
   "cell_type": "code",
   "execution_count": 56,
   "id": "e47e7046",
   "metadata": {},
   "outputs": [
    {
     "data": {
      "text/plain": [
       "7"
      ]
     },
     "execution_count": 56,
     "metadata": {},
     "output_type": "execute_result"
    }
   ],
   "source": [
    "3 + 4"
   ]
  },
  {
   "cell_type": "code",
   "execution_count": null,
   "id": "69293b84",
   "metadata": {},
   "outputs": [],
   "source": []
  }
 ],
 "metadata": {
  "kernelspec": {
   "display_name": "Python 3 (ipykernel)",
   "language": "python",
   "name": "python3"
  },
  "language_info": {
   "codemirror_mode": {
    "name": "ipython",
    "version": 3
   },
   "file_extension": ".py",
   "mimetype": "text/x-python",
   "name": "python",
   "nbconvert_exporter": "python",
   "pygments_lexer": "ipython3",
   "version": "3.11.3"
  }
 },
 "nbformat": 4,
 "nbformat_minor": 5
}
