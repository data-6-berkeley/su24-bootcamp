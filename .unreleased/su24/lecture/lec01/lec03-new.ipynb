{
 "cells": [
  {
   "cell_type": "markdown",
   "id": "c5e0f26a",
   "metadata": {},
   "source": [
    "# Lecture 3 – Variables and Types\n",
    "## Data 6, Summer 2022"
   ]
  },
  {
   "cell_type": "markdown",
   "id": "2cc97d80",
   "metadata": {},
   "source": [
    "## Names, Variables, Assignment Statements"
   ]
  },
  {
   "cell_type": "code",
   "execution_count": null,
   "id": "a18a2564",
   "metadata": {},
   "outputs": [],
   "source": [
    "x = 3"
   ]
  },
  {
   "cell_type": "code",
   "execution_count": null,
   "id": "7a63eaac",
   "metadata": {},
   "outputs": [],
   "source": [
    "x"
   ]
  },
  {
   "cell_type": "code",
   "execution_count": null,
   "id": "f6e2b566",
   "metadata": {},
   "outputs": [],
   "source": [
    "# A common format, to explore more in lab\n",
    "x = 3\n",
    "x"
   ]
  },
  {
   "cell_type": "markdown",
   "id": "fded9a66",
   "metadata": {},
   "source": [
    "<br/>\n",
    "\n",
    "The `=` in Python is not like the `=` in math!"
   ]
  },
  {
   "cell_type": "code",
   "execution_count": null,
   "id": "abee354c",
   "metadata": {},
   "outputs": [],
   "source": [
    "# syntax error\n",
    "3 = x"
   ]
  },
  {
   "cell_type": "code",
   "execution_count": null,
   "id": "b18b1f03",
   "metadata": {},
   "outputs": [],
   "source": [
    "x = 2\n",
    "x = x + 1\n",
    "x"
   ]
  },
  {
   "cell_type": "markdown",
   "id": "772b6a4d",
   "metadata": {},
   "source": [
    "<br/>\n",
    "\n",
    "### Quick Check\n",
    "\n",
    "For each of the below cells, what is the output?"
   ]
  },
  {
   "cell_type": "code",
   "execution_count": null,
   "id": "356b501e",
   "metadata": {},
   "outputs": [],
   "source": [
    "side_length = 5\n",
    "area = side_length ** 2\n",
    "side_length = side_length + 2"
   ]
  },
  {
   "cell_type": "code",
   "execution_count": null,
   "id": "ecf35904",
   "metadata": {},
   "outputs": [],
   "source": [
    "side_length"
   ]
  },
  {
   "cell_type": "code",
   "execution_count": null,
   "id": "14e22991",
   "metadata": {},
   "outputs": [],
   "source": [
    "area"
   ]
  },
  {
   "cell_type": "markdown",
   "id": "91da8490",
   "metadata": {},
   "source": [
    "<br/>"
   ]
  },
  {
   "cell_type": "code",
   "execution_count": null,
   "id": "37b0a452",
   "metadata": {},
   "outputs": [],
   "source": [
    "turtle + 5"
   ]
  },
  {
   "cell_type": "markdown",
   "id": "43ca9179",
   "metadata": {},
   "source": [
    "<br/><br/>\n",
    "\n",
    "## Strings"
   ]
  },
  {
   "cell_type": "code",
   "execution_count": 1,
   "id": "b379dc8f",
   "metadata": {},
   "outputs": [
    {
     "data": {
      "text/plain": [
       "int"
      ]
     },
     "execution_count": 1,
     "metadata": {},
     "output_type": "execute_result"
    }
   ],
   "source": [
    "cases_2019 = 2111\n",
    "type(cases_2019)"
   ]
  },
  {
   "cell_type": "code",
   "execution_count": 2,
   "id": "4e6bffe7",
   "metadata": {},
   "outputs": [
    {
     "data": {
      "text/plain": [
       "float"
      ]
     },
     "execution_count": 2,
     "metadata": {},
     "output_type": "execute_result"
    }
   ],
   "source": [
    "incidence_2019 = 5.35\n",
    "type(incidence_2019)"
   ]
  },
  {
   "cell_type": "code",
   "execution_count": 3,
   "id": "575e7e5c",
   "metadata": {},
   "outputs": [
    {
     "data": {
      "text/plain": [
       "5.35"
      ]
     },
     "execution_count": 3,
     "metadata": {},
     "output_type": "execute_result"
    }
   ],
   "source": [
    "incidence_2020 = 4.32\n",
    "incidence_2021 = 4.46\n",
    "max(incidence_2019, incidence_2020,\n",
    "    incidence_2021)"
   ]
  },
  {
   "cell_type": "code",
   "execution_count": 4,
   "id": "172581a9",
   "metadata": {},
   "outputs": [
    {
     "data": {
      "text/plain": [
       "str"
      ]
     },
     "execution_count": 4,
     "metadata": {},
     "output_type": "execute_result"
    }
   ],
   "source": [
    "state = \"California\"\n",
    "type(state)"
   ]
  },
  {
   "cell_type": "markdown",
   "id": "4ef8e337",
   "metadata": {},
   "source": [
    "<br/><br/>"
   ]
  },
  {
   "cell_type": "code",
   "execution_count": 1,
   "id": "e72e4df8",
   "metadata": {},
   "outputs": [
    {
     "data": {
      "text/plain": [
       "34"
      ]
     },
     "execution_count": 1,
     "metadata": {},
     "output_type": "execute_result"
    }
   ],
   "source": [
    "len(\"University of California, Berkeley\")"
   ]
  },
  {
   "cell_type": "code",
   "execution_count": 2,
   "id": "bee5ca97",
   "metadata": {},
   "outputs": [
    {
     "data": {
      "text/plain": [
       "0"
      ]
     },
     "execution_count": 2,
     "metadata": {},
     "output_type": "execute_result"
    }
   ],
   "source": [
    "empty = ''\n",
    "len(empty)"
   ]
  },
  {
   "cell_type": "code",
   "execution_count": 3,
   "id": "fcb683f7",
   "metadata": {},
   "outputs": [
    {
     "data": {
      "text/plain": [
       "'go bears!!!'"
      ]
     },
     "execution_count": 3,
     "metadata": {},
     "output_type": "execute_result"
    }
   ],
   "source": [
    "\"go \" + \"bears\" + \"!!!\""
   ]
  },
  {
   "cell_type": "markdown",
   "id": "a045c4d9",
   "metadata": {},
   "source": [
    "### Typecasting"
   ]
  },
  {
   "cell_type": "code",
   "execution_count": null,
   "id": "d54383c8",
   "metadata": {},
   "outputs": [],
   "source": [
    "# If a float is passed: cuts off decimal\n",
    "int(3.92)"
   ]
  },
  {
   "cell_type": "code",
   "execution_count": null,
   "id": "8c1bd993",
   "metadata": {},
   "outputs": [],
   "source": [
    "int(-2.99)"
   ]
  },
  {
   "cell_type": "code",
   "execution_count": null,
   "id": "d1c5fdf6",
   "metadata": {},
   "outputs": [],
   "source": [
    "int(\"-5\")       "
   ]
  },
  {
   "cell_type": "code",
   "execution_count": null,
   "id": "8a056ac5",
   "metadata": {},
   "outputs": [],
   "source": [
    "# If a string is passed, it must represent an int\n",
    "int(\"41\")"
   ]
  },
  {
   "cell_type": "code",
   "execution_count": null,
   "id": "1ede928b",
   "metadata": {},
   "outputs": [],
   "source": [
    "float(3)"
   ]
  },
  {
   "cell_type": "code",
   "execution_count": null,
   "id": "41391527",
   "metadata": {},
   "outputs": [],
   "source": [
    "float(\"3.14159265\")"
   ]
  },
  {
   "cell_type": "code",
   "execution_count": null,
   "id": "439cf4fa",
   "metadata": {},
   "outputs": [],
   "source": [
    "float(-19.0)"
   ]
  },
  {
   "cell_type": "code",
   "execution_count": null,
   "id": "ea535e6c",
   "metadata": {},
   "outputs": [],
   "source": [
    "float(-14.0 + \"3.0\")"
   ]
  },
  {
   "cell_type": "code",
   "execution_count": null,
   "id": "5ededff0",
   "metadata": {},
   "outputs": [],
   "source": [
    "str(13 + 14 + 15/2)"
   ]
  },
  {
   "cell_type": "code",
   "execution_count": null,
   "id": "db963b2a",
   "metadata": {},
   "outputs": [],
   "source": [
    "str(\"1\")"
   ]
  },
  {
   "cell_type": "markdown",
   "id": "cacd5e11",
   "metadata": {},
   "source": [
    "<br/><br/>\n",
    "\n",
    "## Print"
   ]
  },
  {
   "cell_type": "code",
   "execution_count": null,
   "id": "48b2b02d",
   "metadata": {},
   "outputs": [],
   "source": [
    "biggest_num = max(5, 2, -1)\n",
    "biggest_num * 10"
   ]
  },
  {
   "cell_type": "code",
   "execution_count": null,
   "id": "2f86487d",
   "metadata": {},
   "outputs": [],
   "source": [
    "print(10 * max(5, 2, -1))"
   ]
  },
  {
   "cell_type": "code",
   "execution_count": null,
   "id": "d613eb40",
   "metadata": {},
   "outputs": [],
   "source": [
    "print(\"10x Biggest number:\")\n",
    "10 * max(5, 2, -1)"
   ]
  },
  {
   "cell_type": "code",
   "execution_count": null,
   "id": "4c0146a4",
   "metadata": {},
   "outputs": [],
   "source": [
    "\"hello\""
   ]
  },
  {
   "cell_type": "code",
   "execution_count": null,
   "id": "3c8fc7b4",
   "metadata": {},
   "outputs": [],
   "source": [
    "print(2)"
   ]
  },
  {
   "cell_type": "code",
   "execution_count": 4,
   "id": "7437c125",
   "metadata": {},
   "outputs": [
    {
     "name": "stdout",
     "output_type": "stream",
     "text": [
      "2\n",
      "Hello, world!\n"
     ]
    }
   ],
   "source": [
    "print(2)\n",
    "print(\"Hello, world!\")"
   ]
  },
  {
   "cell_type": "code",
   "execution_count": null,
   "id": "0dfc3665",
   "metadata": {},
   "outputs": [],
   "source": [
    "x = 3\n",
    "y = 4\n",
    "print(x, \"+\", y, \"is equal to\", x + y)"
   ]
  },
  {
   "cell_type": "markdown",
   "id": "33ab1df9",
   "metadata": {},
   "source": [
    "<br/><br/>\n",
    "\n",
    "# Practice\n",
    "\n",
    "Sometimes, we will include extra practice problems at the end for you to work on after class. These are not required or graded in any way, but they're highly recommended.\n",
    "\n",
    "To see the solution for a given problem, you can click the triangle next to \"Answer\"."
   ]
  },
  {
   "cell_type": "markdown",
   "id": "9ec29371",
   "metadata": {},
   "source": [
    "### Question 1\n",
    "\n",
    "WITHOUT running any code, what does the following expression evaluate to?\n",
    "\n",
    "```py\n",
    "max(min(14, 15), abs(16 - min(17, max(-5, 15), -9)))\n",
    "```\n",
    "\n",
    "You should write out your thought process on paper."
   ]
  },
  {
   "cell_type": "markdown",
   "id": "489b0b67",
   "metadata": {},
   "source": [
    "<details>\n",
    "    <summary>Answer</summary>\n",
    "    25\n",
    "</details>"
   ]
  },
  {
   "cell_type": "markdown",
   "id": "080cdd79",
   "metadata": {},
   "source": [
    "## Question 3\n",
    "\n",
    "Assign the variable `q3` to a string that reads `'Lisa Jobs is 45 years old and lives in Canada.'`\n",
    "\n",
    "You **MUST** use the four variables defined below to create the string. This is similar to the example on slide 50 of the lecture.\n",
    "\n",
    "_Hint: You will need to cast the variable `age` to an integer so that you can change it from 42 to 45._"
   ]
  },
  {
   "cell_type": "code",
   "execution_count": null,
   "id": "6c54850a",
   "metadata": {},
   "outputs": [],
   "source": [
    "first_name = 'Lisa'\n",
    "last_name = 'Jobs'\n",
    "age = \"42\"\n",
    "location = 'Canada'\n",
    "\n",
    "q3 = ... # YOUR CODE HERE"
   ]
  },
  {
   "cell_type": "markdown",
   "id": "0352d54e",
   "metadata": {},
   "source": [
    "<details>\n",
    "    <summary>Answer</summary>\n",
    "    <code>q3 = first_name + ' ' + last_name + ' is ' + str(int(age) + 3) + ' years old and lives in ' + location + '.'</code>\n",
    "</details>"
   ]
  }
 ],
 "metadata": {
  "kernelspec": {
   "display_name": "Python 3 (ipykernel)",
   "language": "python",
   "name": "python3"
  },
  "language_info": {
   "codemirror_mode": {
    "name": "ipython",
    "version": 3
   },
   "file_extension": ".py",
   "mimetype": "text/x-python",
   "name": "python",
   "nbconvert_exporter": "python",
   "pygments_lexer": "ipython3",
   "version": "3.9.10"
  }
 },
 "nbformat": 4,
 "nbformat_minor": 5
}
