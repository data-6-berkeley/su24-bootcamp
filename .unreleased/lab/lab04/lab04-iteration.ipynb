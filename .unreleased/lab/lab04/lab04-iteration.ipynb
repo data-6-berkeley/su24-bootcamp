{
 "cells": [
  {
   "cell_type": "code",
   "execution_count": 1,
   "id": "4f6f7835",
   "metadata": {
    "deletable": false,
    "editable": false
   },
   "outputs": [],
   "source": [
    "# Initialize Otter\n",
    "import otter\n",
    "grader = otter.Notebook(\"lab04-iteration.ipynb\")"
   ]
  },
  {
   "cell_type": "code",
   "execution_count": 2,
   "id": "c98b1718",
   "metadata": {},
   "outputs": [],
   "source": [
    "# run this cell\n",
    "import numpy as np"
   ]
  },
  {
   "cell_type": "markdown",
   "id": "d34d459a",
   "metadata": {},
   "source": [
    "# Lab 04: Loops\n",
    "\n",
    "Goals of Lab 4:\n",
    "* Build a mental model for `for` and `while` loops\n",
    "* Write code with `while`\n",
    "* Write code with `for`\n",
    "* Learn more about `np.arange`\n",
    "\n",
    "**Data 6 note**: Data 6 only uses `for` loops and does not use `while` loops. However, both are commonly used in programming, and understanding `while` will get you more comfortable with `for`.\n",
    "\n",
    "**Remember**: Run the Otter cell *and* the NumPy cell at the top of this page!"
   ]
  },
  {
   "cell_type": "markdown",
   "id": "d6e0bf70",
   "metadata": {},
   "source": [
    "\n",
    "<br/><br/>\n",
    "<hr style=\"border: 5px solid #003262;\" />\n",
    "<hr style=\"border: 1px solid #fdb515;\" />\n",
    "\n",
    "# Part 1, Tutorial: Two Different Types of Loops\n",
    "\n",
    "From [CS 88 Lab 01](https://cs88-website.github.io/sp22/lab/lab01/).\n",
    "\n",
    "There are two main types of loops, the while and for loop. They are both used to run a block of code an arbitrary number of times, however, they have different ways of doing it. Take a look at the differences in the table below.\n",
    "\n",
    "### While Loops\n",
    "\n",
    "Structure: \n",
    "```\n",
    "<initialization statements>\n",
    "while <predicate expression>:\n",
    "    <body statements>\n",
    "```\n",
    "\n",
    "Evaluation:\n",
    "1. Evaluate the `<predicate expression>`. If it's satisfied (the expression evaluates to a True boolean value) go to step 2, otherwise exit loop.\n",
    "2. Execute the `<body statements>`.\n",
    "3. Repeat steps 1 and 2 in order until the `<predicate expression>` is *not* satisfied<br/>(i.e., until the `<predicate expression;>` evaluates to a `False` value). | \n",
    "\n",
    "Example: "
   ]
  },
  {
   "cell_type": "code",
   "execution_count": 4,
   "id": "0635707c",
   "metadata": {},
   "outputs": [
    {
     "name": "stdout",
     "output_type": "stream",
     "text": [
      "0\n",
      "1\n",
      "2\n"
     ]
    }
   ],
   "source": [
    "# just run this cell\n",
    "i = 0\n",
    "while i <= 2:\n",
    "    print(i)\n",
    "    i = i + 1"
   ]
  },
  {
   "cell_type": "code",
   "execution_count": 5,
   "id": "e9c92638-ee42-4aef-b4ca-0799139f5be0",
   "metadata": {},
   "outputs": [
    {
     "data": {
      "text/plain": [
       "3"
      ]
     },
     "execution_count": 5,
     "metadata": {},
     "output_type": "execute_result"
    }
   ],
   "source": [
    "i"
   ]
  },
  {
   "cell_type": "markdown",
   "id": "9017c93c",
   "metadata": {},
   "source": [
    "Notes: \n",
    "* Normally, the `<predicate expression>` will rely on one or many of the variables defined in the `<initialization statements>`.\n",
    "* Lastly, the `<body statements>` will have an \"update\", which will bring make the `<predicate expression>` tend toward a `False` value so there isn't an infinite loop.\n",
    "* There are some execptions to these previous two rules, but they will rarely be used in this class."
   ]
  },
  {
   "cell_type": "markdown",
   "id": "df87cd35",
   "metadata": {},
   "source": [
    "### For Loops\n",
    "\n",
    "We cover a very specific type of for-loop in this course:\n",
    "\n",
    "```\n",
    "<initialization statements>\n",
    "for <name> in np.arange(n):\n",
    "    <body statements>\n",
    "```\n",
    "\n",
    "1. Let `n` be an integer value. Bind the counter, `<name>`, to 0.\n",
    "1. If `<name> >= n`, exit the loop.\n",
    "1. Execute the `<body statements>`.\n",
    "1. Bind counter `<name>` to `<name> + 1`.\n",
    "1. Continue steps 2 through 4.\n",
    "\n",
    "Notes:\n",
    "* The for-loop effectively repeats the loop body `n` times, where every pass through, the `<name>` binds to the number of times the loop has been executed so far.\n",
    "* The `<body statements>` doesn't update the `<name>` because step 4 has the update already.\n",
    "* The function `np.arange()` is from the NumPy package, which we will see more in Data 6. For now, just make sure that you have run the `import numpy as np` line at the top of this program.\n",
    "* There are other structures to the for loop, which we won't cover in this class.\n",
    "\n",
    "Example (compare/contrast it to the while loop example!):"
   ]
  },
  {
   "cell_type": "code",
   "execution_count": 6,
   "id": "3f1c6894",
   "metadata": {},
   "outputs": [
    {
     "name": "stdout",
     "output_type": "stream",
     "text": [
      "0\n",
      "1\n",
      "2\n"
     ]
    }
   ],
   "source": [
    "for i in np.arange(3):\n",
    "    print(i)"
   ]
  },
  {
   "cell_type": "code",
   "execution_count": 8,
   "id": "84fdd777-bc48-4e85-a36d-6a3064e3e1df",
   "metadata": {},
   "outputs": [
    {
     "data": {
      "text/plain": [
       "array([0, 1, 2])"
      ]
     },
     "execution_count": 8,
     "metadata": {},
     "output_type": "execute_result"
    }
   ],
   "source": [
    "np.arange(3)"
   ]
  },
  {
   "cell_type": "markdown",
   "id": "3afc46d1",
   "metadata": {},
   "source": [
    "**Note**: If you're getting `NameError: name 'np' is not defined`, make sure to import the NumPy `np` module at the top of this page."
   ]
  },
  {
   "cell_type": "markdown",
   "id": "f5096aa1",
   "metadata": {},
   "source": [
    "\n",
    "<br/><br/>\n",
    "<hr style=\"border: 5px solid #003262;\" />\n",
    "<hr style=\"border: 1px solid #fdb515;\" />\n",
    "\n",
    "# Part 2: What Would Python Do? (WWPD)\n",
    "\n",
    "From [CS 88 Lab 01](https://cs88-website.github.io/sp22/lab/lab01/).\n",
    "\n",
    "\n",
    "# Question 1\n",
    "\n",
    "What would Python do? **Please try doing this by hand before running the cell itself.**\n",
    "\n",
    "### Question 1a"
   ]
  },
  {
   "cell_type": "code",
   "execution_count": 9,
   "id": "14442b01",
   "metadata": {},
   "outputs": [
    {
     "name": "stdout",
     "output_type": "stream",
     "text": [
      "2\n",
      "1\n",
      "0\n",
      "-1\n"
     ]
    }
   ],
   "source": [
    "n = 3\n",
    "while n >= 0:\n",
    "    n -= 1\n",
    "    print(n)"
   ]
  },
  {
   "cell_type": "markdown",
   "id": "0fafd31d",
   "metadata": {},
   "source": [
    "### Question 1b\n",
    "\n",
    "**Hint for the below cell:** Make sure your while loop conditions eventually evaluate to a false value, or they'll never stop! Pressing the Stop\" button at the top of the notebook will stop the Python kernel."
   ]
  },
  {
   "cell_type": "code",
   "execution_count": 10,
   "id": "0604fd14",
   "metadata": {
    "scrolled": true
   },
   "outputs": [
    {
     "name": "stdout",
     "output_type": "stream",
     "text": [
      "positive?\n",
      "positive?\n",
      "positive?\n",
      "positive?\n",
      "positive?\n",
      "positive?\n",
      "positive?\n",
      "positive?\n",
      "positive?\n"
     ]
    }
   ],
   "source": [
    "positive = 27\n",
    "while positive:\n",
    "    print(\"positive?\")\n",
    "    positive -= 3"
   ]
  },
  {
   "cell_type": "markdown",
   "id": "7b648f42",
   "metadata": {},
   "source": [
    "Before proceeding, please comment out the above cell line-by-line, or by selecting all and pressing `Ctrl-/`. If you don't, then restarting kernel + running all cells will produce an infinite loop."
   ]
  },
  {
   "cell_type": "markdown",
   "id": "41f4d7e0",
   "metadata": {},
   "source": [
    "### Question 1c"
   ]
  },
  {
   "cell_type": "code",
   "execution_count": 1,
   "id": "545e5fe6",
   "metadata": {
    "scrolled": true
   },
   "outputs": [
    {
     "name": "stdout",
     "output_type": "stream",
     "text": [
      "-12\n",
      "-9\n",
      "-6\n",
      "0\n"
     ]
    }
   ],
   "source": [
    "positive = -9\n",
    "negative = -12\n",
    "while negative:\n",
    "    if positive:\n",
    "         print(negative)\n",
    "    else:\n",
    "        print(positive)\n",
    "    positive += 3\n",
    "    negative += 3"
   ]
  },
  {
   "cell_type": "markdown",
   "id": "a34b7021",
   "metadata": {},
   "source": [
    "<br/><br/>\n",
    "\n",
    "---\n",
    "\n",
    "# Question 2\n",
    "\n",
    "Adapted from Stanford's [CS 106A Assignment 2](https://web.stanford.edu/class/archive/cs/cs106a/cs106a.1226/handouts/07-assignment2.html).\n",
    "\n",
    "In this question, you will trace code and compare `while` with `for` loops. In both parts, try writing down what the Python cell will print **by hand** before running the code.\n",
    "\n",
    "## Question 2a\n",
    "\n",
    "What will the following code print?"
   ]
  },
  {
   "cell_type": "code",
   "execution_count": 11,
   "id": "24c74f2a",
   "metadata": {},
   "outputs": [
    {
     "name": "stdout",
     "output_type": "stream",
     "text": [
      "x = 1\n",
      "3.5\n",
      "x = 2\n",
      "3.5\n",
      "x = 4\n",
      "3.5\n",
      "x = 8\n",
      "3.5\n",
      "x = 16\n",
      "3.5\n",
      "x = 32\n"
     ]
    }
   ],
   "source": [
    "def mystery():\n",
    "    x = 3\n",
    "    x = 5 - x / 2\n",
    "    print(x)\n",
    "\n",
    "x = 1\n",
    "while x < 20:\n",
    "    print(\"x = \" + str(x))\n",
    "    mystery()\n",
    "    x *= 2\n",
    "print(\"x = \" + str(x))"
   ]
  },
  {
   "cell_type": "markdown",
   "id": "40a14d58",
   "metadata": {},
   "source": [
    "## Question 2b\n",
    "\n",
    "`for` loop. Note that the `mystery()` function was defined when you ran the previous cell.\n",
    "\n",
    "What will the following code print? How is it different from the previous part?"
   ]
  },
  {
   "cell_type": "code",
   "execution_count": 12,
   "id": "db100967-56eb-457c-b3b8-0ccd7368c014",
   "metadata": {},
   "outputs": [
    {
     "data": {
      "text/plain": [
       "array([ 0,  1,  2,  3,  4,  5,  6,  7,  8,  9, 10, 11, 12, 13, 14, 15, 16,\n",
       "       17, 18, 19])"
      ]
     },
     "execution_count": 12,
     "metadata": {},
     "output_type": "execute_result"
    }
   ],
   "source": [
    "np.arange(20)"
   ]
  },
  {
   "cell_type": "code",
   "execution_count": 13,
   "id": "cc382f97",
   "metadata": {},
   "outputs": [
    {
     "name": "stdout",
     "output_type": "stream",
     "text": [
      "x = 1\n",
      "3.5\n",
      "x = 2\n",
      "3.5\n",
      "x = 4\n",
      "3.5\n",
      "x = 8\n",
      "3.5\n",
      "x = 16\n",
      "3.5\n",
      "x = 32\n",
      "3.5\n",
      "x = 64\n",
      "3.5\n",
      "x = 128\n",
      "3.5\n",
      "x = 256\n",
      "3.5\n",
      "x = 512\n",
      "3.5\n",
      "x = 1024\n",
      "3.5\n",
      "x = 2048\n",
      "3.5\n",
      "x = 4096\n",
      "3.5\n",
      "x = 8192\n",
      "3.5\n",
      "x = 16384\n",
      "3.5\n",
      "x = 32768\n",
      "3.5\n",
      "x = 65536\n",
      "3.5\n",
      "x = 131072\n",
      "3.5\n",
      "x = 262144\n",
      "3.5\n",
      "x = 524288\n",
      "3.5\n",
      "x = 1048576\n"
     ]
    }
   ],
   "source": [
    "x = 1\n",
    "for i in np.arange(20):\n",
    "    print(\"x = \" + str(x))\n",
    "    mystery()\n",
    "    #x = x * 2\n",
    "    x *= 2\n",
    "print(\"x = \" + str(x))"
   ]
  },
  {
   "cell_type": "markdown",
   "id": "752a4ef7",
   "metadata": {},
   "source": [
    "<br/><br/>\n",
    "\n",
    "---\n",
    "\n",
    "# Question 3: Square So Slow...\n",
    "\n",
    "From [CS 61A Discussion 01](https://cs61a.org/disc/disc01/).\n",
    "\n",
    "What is the result of evaluating the following code? Make sure to uncomment the line `square(so_slow(5))`.\n",
    "\n",
    "**Hint**: What happens to `x` over time?\n",
    "\n",
    "**Debug note**: To stop running a cell, hit the 'Stop' button (Square icon) above."
   ]
  },
  {
   "cell_type": "code",
   "execution_count": 15,
   "id": "930850cb",
   "metadata": {},
   "outputs": [
    {
     "name": "stdout",
     "output_type": "stream",
     "text": [
      "here!\n"
     ]
    },
    {
     "data": {
      "text/plain": [
       "100.0"
      ]
     },
     "execution_count": 15,
     "metadata": {},
     "output_type": "execute_result"
    }
   ],
   "source": [
    "def square(x):\n",
    "    print(\"here!\")\n",
    "    return x * x\n",
    "\n",
    "def so_slow(num = 5):\n",
    "    x = num\n",
    "    #x = 5\n",
    "    while x < 10:\n",
    "        # x = 10\n",
    "        x = x + 1\n",
    "    return x / 1\n",
    "\n",
    "# uncomment this line \n",
    "square(so_slow(5))"
   ]
  },
  {
   "cell_type": "markdown",
   "id": "c4a7d68b",
   "metadata": {},
   "source": [
    "Before proceeding, please comment out the `square(so_slow(5))` line. If you don't, then restarting kernel + running all cells will produce an infinite loop."
   ]
  },
  {
   "cell_type": "markdown",
   "id": "6b7ec905",
   "metadata": {},
   "source": [
    "\n",
    "<br/><br/>\n",
    "<hr style=\"border: 5px solid #003262;\" />\n",
    "<hr style=\"border: 1px solid #fdb515;\" />\n",
    "\n",
    "\n",
    "# Part 3: Programming Exercises\n",
    "\n",
    "\n",
    "From [CS 88 Discussion 01](https://cs88-website.github.io/sp22/disc/disc01.pdf) and [CS61A Lab 01](https://cs61a.org/lab/lab01/#error-messages), as well as Stanford's [CS 106A Assignment 2](https://web.stanford.edu/class/archive/cs/cs106a/cs106a.1226/handouts/07-assignment2.html)."
   ]
  },
  {
   "cell_type": "markdown",
   "id": "0aba249a",
   "metadata": {},
   "source": [
    "<br/><br/>\n",
    "\n",
    "---\n",
    "\n",
    "# Question 4: Liftoff!\n",
    "\n",
    "Implement the below \"liftoff\" functions that print out the calls for a spaceship that is about to launch. Countdown the numbers from 10 to 1 and then write \"Liftoff!\"\n",
    "\n",
    "**Note 1**: Note the blank line between each printed number! You can achieve this with a call to `print()` with no arguments.\n",
    "\n",
    "**Note 2**  there is no autograder for this function! When running the cell below, a correct implementation will output nothing and print the following:\n",
    "\n",
    "\n",
    "```\n",
    "10\n",
    "\n",
    "9\n",
    "\n",
    "8\n",
    "\n",
    "7\n",
    "\n",
    "6\n",
    "\n",
    "5\n",
    "\n",
    "4\n",
    "\n",
    "3\n",
    "\n",
    "2\n",
    "\n",
    "1\n",
    "\n",
    "Liftoff!\n",
    "```\n",
    "\n",
    "## Question 4a\n",
    "\n",
    "First, try implementing the `liftoff_while` function with a `while` loop.\n",
    "\n",
    "**Debugging note**: If your code gets stuck, stop the cell with the \"Stop\" (Square) button above."
   ]
  },
  {
   "cell_type": "code",
   "execution_count": 16,
   "id": "6d55b84e",
   "metadata": {
    "scrolled": true,
    "tags": []
   },
   "outputs": [
    {
     "name": "stdout",
     "output_type": "stream",
     "text": [
      "10\n",
      "\n",
      "9\n",
      "\n",
      "8\n",
      "\n",
      "7\n",
      "\n",
      "6\n",
      "\n",
      "5\n",
      "\n",
      "4\n",
      "\n",
      "3\n",
      "\n",
      "2\n",
      "\n",
      "1\n",
      "\n",
      "Liftoff!\n"
     ]
    }
   ],
   "source": [
    "def liftoff_while():\n",
    "    i = 10\n",
    "    \n",
    "    while i >=1:\n",
    "        print(i)\n",
    "        print()\n",
    "        i -= 1\n",
    "        \n",
    "    print(\"Liftoff!\")\n",
    "\n",
    "liftoff_while()"
   ]
  },
  {
   "cell_type": "markdown",
   "id": "6ff2df24",
   "metadata": {},
   "source": [
    "## Question 4b\n",
    "\n",
    "Next, try implementing the `liftoff_for` function with a `for` loop."
   ]
  },
  {
   "cell_type": "code",
   "execution_count": null,
   "id": "93d67012",
   "metadata": {
    "tags": []
   },
   "outputs": [],
   "source": [
    "def liftoff_for():\n",
    "    ...\n",
    "\n",
    "liftoff_for()"
   ]
  },
  {
   "cell_type": "code",
   "execution_count": 21,
   "id": "90efaf61-b7b9-4e5b-998d-f821752ed07f",
   "metadata": {},
   "outputs": [
    {
     "data": {
      "text/plain": [
       "array([0, 1, 2, 3, 4, 5, 6, 7, 8, 9])"
      ]
     },
     "execution_count": 21,
     "metadata": {},
     "output_type": "execute_result"
    }
   ],
   "source": [
    "np.arange(10)"
   ]
  },
  {
   "cell_type": "code",
   "execution_count": 23,
   "id": "1e2bf981-18db-43e7-a733-a18f0ac2af37",
   "metadata": {},
   "outputs": [
    {
     "data": {
      "text/plain": [
       "array([ 1,  2,  3,  4,  5,  6,  7,  8,  9, 10])"
      ]
     },
     "execution_count": 23,
     "metadata": {},
     "output_type": "execute_result"
    },
    {
     "name": "stderr",
     "output_type": "stream",
     "text": [
      "Error in atexit._run_exitfuncs:\n",
      "Traceback (most recent call last):\n",
      "  File \"/opt/conda/lib/python3.9/site-packages/popularity_contest/reporter.py\", line 105, in report_popularity\n",
      "    libraries = get_used_libraries(initial_modules, current_modules)\n",
      "  File \"/opt/conda/lib/python3.9/site-packages/popularity_contest/reporter.py\", line 74, in get_used_libraries\n",
      "    all_packages = get_all_packages()\n",
      "  File \"/opt/conda/lib/python3.9/site-packages/popularity_contest/reporter.py\", line 51, in get_all_packages\n",
      "    for f in dist.files:\n",
      "TypeError: 'NoneType' object is not iterable\n"
     ]
    }
   ],
   "source": [
    "np.arange(1,11)"
   ]
  },
  {
   "cell_type": "code",
   "execution_count": 20,
   "id": "767d82d5-3587-4ab8-8c68-014a3ce309fb",
   "metadata": {},
   "outputs": [
    {
     "data": {
      "text/plain": [
       "array([10,  9,  8,  7,  6,  5,  4,  3,  2,  1])"
      ]
     },
     "execution_count": 20,
     "metadata": {},
     "output_type": "execute_result"
    }
   ],
   "source": [
    "np.arange(10,0,-1)"
   ]
  },
  {
   "cell_type": "markdown",
   "id": "0771dd0b",
   "metadata": {},
   "source": [
    "## Question 4c\n",
    "\n",
    "Which loop worked better for implementing liftoff, `for` or `while`? What do you think were the tradeoffs?"
   ]
  },
  {
   "cell_type": "markdown",
   "id": "de456aad",
   "metadata": {},
   "source": [
    "_Write your answer, replacing this line._"
   ]
  },
  {
   "cell_type": "markdown",
   "id": "1ef3bdaf",
   "metadata": {},
   "source": [
    "<br/><br/>\n",
    "\n",
    "---\n",
    "\n",
    "# Question 5: Add in Range\n",
    "\n",
    "Complete `add_in_range`, which returns the sum of all integers between `start` and `stop` (inclusive).\n",
    "\n",
    "Your function should correctly evaluate the following:\n",
    "\n",
    "``` \n",
    "add_in_range(3, 5)  # 12\n",
    "add_in_range(1, 10)  # 55\n",
    "```\n",
    "\n",
    "**Note**: Would you use a `for` loop or a `while` loop for this function? Why? (There is no right answer--it is up to you! Try implementing both ways if you have time.)\n",
    "\n",
    "**Note 2**: Make sure that you are using `return` rather than `print`."
   ]
  },
  {
   "cell_type": "code",
   "execution_count": null,
   "id": "6e7c9823",
   "metadata": {
    "tags": []
   },
   "outputs": [],
   "source": [
    "def add_in_range(start, stop):\n",
    "    ...\n",
    "\n",
    "# edit the below line as needed for testing\n",
    "add_in_range(3, 5)"
   ]
  },
  {
   "cell_type": "code",
   "execution_count": null,
   "id": "e9898c5b",
   "metadata": {
    "deletable": false,
    "editable": false
   },
   "outputs": [],
   "source": [
    "grader.check(\"q5\")"
   ]
  },
  {
   "cell_type": "markdown",
   "id": "0c0b5278",
   "metadata": {},
   "source": [
    "<br/><br/>\n",
    "\n",
    "---\n",
    "\n",
    "# Question 6: Falling Factorial\n",
    "Let's write a function `falling()`, which is a \"falling\" factorial that takes two arguments, `n` and `k`, and returns the product of `k` consecutive numbers, starting from `n` and working downwards. When `k` is `0`, the function should return `1`.\n",
    "\n",
    "\n",
    "Your function should correctly evaluate the following:\n",
    "\n",
    "``` \n",
    "falling(6, 3)  # return 120, which is 6 * 5 * 4\n",
    "falling(4, 3)  # return 24, which is 4 * 3 * 2\n",
    "falling(4, 1)  # 4\n",
    "falling(4, 0)  # 1\n",
    "```\n",
    "\n",
    "**Note**: Make sure that you are using `return` rather than `print`."
   ]
  },
  {
   "cell_type": "code",
   "execution_count": 4,
   "id": "bb4aae6d",
   "metadata": {
    "tags": []
   },
   "outputs": [
    {
     "data": {
      "text/plain": [
       "120"
      ]
     },
     "execution_count": 4,
     "metadata": {},
     "output_type": "execute_result"
    }
   ],
   "source": [
    "def falling(n, k):\n",
    "    \"\"\"Compute the falling factorial of n to depth k.\"\"\"\n",
    "    total = 1\n",
    "    for i in np.arange(k):\n",
    "        total*=n\n",
    "        n-=1\n",
    "    return total\n",
    "    \n",
    "# edit the below line as needed for testing\n",
    "falling(6, 3)"
   ]
  },
  {
   "cell_type": "code",
   "execution_count": 5,
   "id": "62fc281d",
   "metadata": {
    "deletable": false,
    "editable": false
   },
   "outputs": [
    {
     "data": {
      "text/html": [
       "<p><strong><pre style='display: inline;'>q6</pre></strong> passed! 🌟</p>"
      ],
      "text/plain": [
       "q6 results: All test cases passed!"
      ]
     },
     "execution_count": 5,
     "metadata": {},
     "output_type": "execute_result"
    }
   ],
   "source": [
    "grader.check(\"q6\")"
   ]
  },
  {
   "cell_type": "markdown",
   "id": "29ab71c5",
   "metadata": {},
   "source": [
    "<br/><br/>\n",
    "\n",
    "---\n",
    "\n",
    "# Question 7: Sum Digits\n",
    "\n",
    "From [CS 88 Lab 01](https://cs88-website.github.io/sp22/lab/lab01/).\n",
    "\n",
    "Write a function that takes in a nonnegative integer and sums its digits. (Using integer division `//` and modulo `%` might be helpful here!)\n",
    "\n",
    "Your implementation should correctly evaluate the following:\n",
    "```\n",
    "sum_digits(10)         # returns 1, because 1 + 0 = 1\n",
    "sum_digits(4224)       # returns 12, because 4 + 2 + 2 + 4 = 12\n",
    "sum_digits(1234567890) # 45\n",
    "```"
   ]
  },
  {
   "cell_type": "code",
   "execution_count": 32,
   "id": "4752cb6a",
   "metadata": {
    "tags": []
   },
   "outputs": [
    {
     "data": {
      "text/plain": [
       "45"
      ]
     },
     "execution_count": 32,
     "metadata": {},
     "output_type": "execute_result"
    }
   ],
   "source": [
    "def sum_digits(n):\n",
    "    total = 0\n",
    "    while n > 0:\n",
    "        last_dig = n % 10\n",
    "        total = total + last_dig\n",
    "        n = n // 10\n",
    "    return total\n",
    "\n",
    "# edit the below line as needed for testing\n",
    "sum_digits(1234567890)"
   ]
  },
  {
   "cell_type": "code",
   "execution_count": 30,
   "id": "78d4816b",
   "metadata": {
    "deletable": false,
    "editable": false
   },
   "outputs": [
    {
     "data": {
      "text/html": [
       "<p><strong><pre style='display: inline;'>q7</pre></strong> passed! 🙌</p>"
      ],
      "text/plain": [
       "q7 results: All test cases passed!"
      ]
     },
     "execution_count": 30,
     "metadata": {},
     "output_type": "execute_result"
    }
   ],
   "source": [
    "grader.check(\"q7\")"
   ]
  },
  {
   "cell_type": "markdown",
   "id": "538656c0",
   "metadata": {},
   "source": [
    "<br/><br/>\n",
    "\n",
    "---\n",
    "\n",
    "# Question 8: Fizzbuzz\n",
    "\n",
    "From [CS 61A Discussion 01](https://cs61a.org/disc/disc01/).\n",
    "\n",
    "Implement the fizzbuzz sequence, which prints out a single statement for each number from `1` to `n`. For a number `i`,\n",
    "\n",
    "* If `i` is divisible by 3 only, then we print \"fizz\".\n",
    "* If `i` is divisible by 5 only, then we print \"buzz\".\n",
    "* If `i` is divisible by both 3 and 5, then we print \"fizzbuzz\".\n",
    "* Otherwise, we print the number `i` by itself.\n",
    "\n",
    "Implement `fizzbuzz(n)` below.\n",
    "\n",
    "**Note**  there is no autograder for this function! When running the cell below, a correct implementation will call `fizzbuzz(16)`, output nothing, and print the following:\n",
    "\n",
    "```\n",
    "1\n",
    "2\n",
    "fizz\n",
    "4\n",
    "buzz\n",
    "fizz\n",
    "7\n",
    "8\n",
    "fizz\n",
    "buzz\n",
    "11\n",
    "fizz\n",
    "13\n",
    "14\n",
    "fizzbuzz\n",
    "16\n",
    "```"
   ]
  },
  {
   "cell_type": "code",
   "execution_count": null,
   "id": "c469fbf3",
   "metadata": {
    "scrolled": true,
    "tags": []
   },
   "outputs": [],
   "source": [
    "def fizzbuzz(n):\n",
    "    \"\"\"\n",
    "    This function should only print values. It should not return anything.\n",
    "    \"\"\"\n",
    "    ...\n",
    "\n",
    "\n",
    "# edit the below line as needed for testing\n",
    "fizzbuzz(16)"
   ]
  },
  {
   "cell_type": "markdown",
   "id": "8ae3581f",
   "metadata": {},
   "source": [
    "<br/><br/>\n",
    "\n",
    "---\n",
    "\n",
    "# Question 9: Prime Numbers\n",
    "\n",
    "Write a function that returns `True` if a positive integer `n` is a prime number and `False` otherwise.\n",
    "\n",
    "A prime number $n$ is a number that is not divisible by any numbers other than 1 and $n$ itself. For example, 13 is prime, since it is only divisible by 1 and 13, but 14 is not,\n",
    "since it is divisible by 1, 2, 7, and 14.\n",
    "\n",
    "**Hint**: use the `%` operator: `x % y` returns the remainder of `x` when divided by `y`.\n",
    "\n",
    "Your implementation should correctly evaluate the following:\n",
    "```\n",
    "is_prime(10)   # False\n",
    "is_prime(7)    # True\n",
    "```"
   ]
  },
  {
   "cell_type": "code",
   "execution_count": null,
   "id": "cd868c9a",
   "metadata": {
    "tags": []
   },
   "outputs": [],
   "source": [
    "def is_prime(n):\n",
    "    ...\n",
    "\n",
    "# edit the below line as needed for testing\n",
    "is_prime(10)"
   ]
  },
  {
   "cell_type": "code",
   "execution_count": null,
   "id": "a70cad27",
   "metadata": {
    "deletable": false,
    "editable": false
   },
   "outputs": [],
   "source": [
    "grader.check(\"q9\")"
   ]
  },
  {
   "cell_type": "markdown",
   "id": "8979b1b8",
   "metadata": {},
   "source": [
    "<br/><br/>\n",
    "<hr style=\"border: 5px solid #003262;\" />\n",
    "<hr style=\"border: 1px solid #fdb515;\" />\n",
    "\n",
    "# Part 4: Advanced `np.arange`  for Data 6\n",
    "\n",
    "Last part of this lab! (Part 5 is bonus)\n",
    "\n",
    "### Tutorial \n",
    "\n",
    "You will see a more involved version of the `for` loop in Data 6:\n",
    "\n",
    "```\n",
    "for <name> in np.arange(start, stop, step):\n",
    "    <body statements>\n",
    "```\n",
    "\n",
    "The counter `<name>` binds to the value `start`, then `start + step`, then `start + 2*step`, and so on until `<name> >= stop`.\n",
    "\n",
    "Here's an example:"
   ]
  },
  {
   "cell_type": "code",
   "execution_count": 38,
   "id": "a26aa331",
   "metadata": {},
   "outputs": [
    {
     "name": "stdout",
     "output_type": "stream",
     "text": [
      "13\n",
      "12\n",
      "11\n"
     ]
    }
   ],
   "source": [
    "for i in np.arange(13, 10, -1):\n",
    "    print(i)"
   ]
  },
  {
   "cell_type": "markdown",
   "id": "8a8f2169",
   "metadata": {},
   "source": [
    "Above, note that the last value of `i` to be printed is `9`, because the next value `12` is greater than the stop value of `10`.\n",
    "\n",
    "Here's another example, showing that steps can be taken \"backwards\":"
   ]
  },
  {
   "cell_type": "code",
   "execution_count": 39,
   "id": "3da938e6",
   "metadata": {},
   "outputs": [
    {
     "name": "stdout",
     "output_type": "stream",
     "text": [
      "20\n",
      "19\n",
      "18\n",
      "17\n",
      "16\n"
     ]
    }
   ],
   "source": [
    "for x in np.arange(20, 15, -1):\n",
    "    print(x)"
   ]
  },
  {
   "cell_type": "markdown",
   "id": "53dd25ea",
   "metadata": {},
   "source": [
    "Finally, note that unlike `while` loops, invalid \"ranges\" will simply lead to no loop iterations. The following code will not print anything:"
   ]
  },
  {
   "cell_type": "code",
   "execution_count": 41,
   "id": "eae1ec0e",
   "metadata": {},
   "outputs": [
    {
     "name": "stdout",
     "output_type": "stream",
     "text": [
      "10\n",
      "9\n",
      "8\n",
      "7\n",
      "6\n"
     ]
    }
   ],
   "source": [
    "# no numbers starting from 10 and *increasing* to 5\n",
    "for counter in np.arange(10, 5, -1):\n",
    "    print(counter)"
   ]
  },
  {
   "cell_type": "markdown",
   "id": "b3fbc4dd",
   "metadata": {},
   "source": [
    "<br/><br/>\n",
    "\n",
    "---\n",
    "\n",
    "# Question: More Liftoff\n",
    "\n",
    "Implement the liftoff function below, but now with a `for` loop that uses a customized `np.arange(start, stop, step)` structured `for` loop.\n",
    "\n",
    "A correct implementation will output nothing and print the following:\n",
    "\n",
    "\n",
    "```\n",
    "10\n",
    "\n",
    "9\n",
    "\n",
    "8\n",
    "\n",
    "7\n",
    "\n",
    "6\n",
    "\n",
    "5\n",
    "\n",
    "4\n",
    "\n",
    "3\n",
    "\n",
    "2\n",
    "\n",
    "1\n",
    "\n",
    "Liftoff!\n",
    "```"
   ]
  },
  {
   "cell_type": "code",
   "execution_count": 43,
   "id": "724ef2eb",
   "metadata": {
    "scrolled": true,
    "tags": []
   },
   "outputs": [
    {
     "name": "stdout",
     "output_type": "stream",
     "text": [
      "10\n",
      "\n",
      "9\n",
      "\n",
      "8\n",
      "\n",
      "7\n",
      "\n",
      "6\n",
      "\n",
      "5\n",
      "\n",
      "4\n",
      "\n",
      "3\n",
      "\n",
      "2\n",
      "\n",
      "1\n",
      "\n",
      "Liftoff!\n"
     ]
    }
   ],
   "source": [
    "def liftoff_arange():\n",
    "    for i in np.arange(10,0,-1):\n",
    "        print(i)\n",
    "        print()\n",
    "    print(\"Liftoff!\")\n",
    "\n",
    "liftoff_arange()"
   ]
  },
  {
   "cell_type": "code",
   "execution_count": 44,
   "id": "ca2ce441",
   "metadata": {},
   "outputs": [
    {
     "data": {
      "text/plain": [
       "array([10,  9,  8,  7,  6,  5,  4,  3,  2,  1])"
      ]
     },
     "execution_count": 44,
     "metadata": {},
     "output_type": "execute_result"
    }
   ],
   "source": [
    "np.arange(10,0,-1)"
   ]
  },
  {
   "cell_type": "markdown",
   "id": "e4432a5d",
   "metadata": {},
   "source": [
    "<br/><br/>\n",
    "\n",
    "---\n",
    "\n",
    "# Question: More Add in Range\n",
    "\n",
    "Implement the function below, which returns the sum of all integers between `start` and `stop` (inclusive) but uses a customized `np.arange(start, stop, step)` structured `for` loop.\n",
    "\n",
    "Your function should correctly evaluate the following:\n",
    "\n",
    "``` \n",
    "    add_in_range(3, 5)  # 12\n",
    "    add_in_range(1, 10)  # 55\n",
    "```"
   ]
  },
  {
   "cell_type": "code",
   "execution_count": null,
   "id": "4c5aece7",
   "metadata": {},
   "outputs": [],
   "source": []
  },
  {
   "cell_type": "code",
   "execution_count": 47,
   "id": "b395d856",
   "metadata": {
    "tags": []
   },
   "outputs": [
    {
     "data": {
      "text/plain": [
       "12"
      ]
     },
     "execution_count": 47,
     "metadata": {},
     "output_type": "execute_result"
    }
   ],
   "source": [
    "def add_in_range_arange(start, stop):\n",
    "    total =0\n",
    "    for num in np.arange(start,stop+1):\n",
    "        total+= num\n",
    "    return total\n",
    "\n",
    "# edit the below line as needed for testing\n",
    "add_in_range_arange(3, 5)"
   ]
  },
  {
   "cell_type": "code",
   "execution_count": 48,
   "id": "c7c534c7",
   "metadata": {
    "deletable": false,
    "editable": false
   },
   "outputs": [
    {
     "data": {
      "text/html": [
       "<p><strong><pre style='display: inline;'>q5b</pre></strong> passed! 🎉</p>"
      ],
      "text/plain": [
       "q5b results: All test cases passed!"
      ]
     },
     "execution_count": 48,
     "metadata": {},
     "output_type": "execute_result"
    }
   ],
   "source": [
    "grader.check(\"q5b\")"
   ]
  },
  {
   "cell_type": "markdown",
   "id": "ff5b0ca0",
   "metadata": {},
   "source": [
    "\n",
    "<br/><br/>\n",
    "<hr style=\"border: 5px solid #003262;\" />\n",
    "<hr style=\"border: 1px solid #fdb515;\" />\n",
    "\n",
    "# Part 5, Bonus: More Practice\n",
    "\n",
    "From [CS 88 Lab 01](https://cs88-website.github.io/sp22/lab/lab01/) and [CS61A Lab 01](https://cs61a.org/lab/lab01/#error-messages).\n",
    "\n",
    "There are 6 bonus questions. Feel free to complete any, all, or none of them."
   ]
  },
  {
   "cell_type": "markdown",
   "id": "402106d7",
   "metadata": {},
   "source": [
    "# Question 2 (continued): More WWPD\n",
    "\n",
    "This code tracing question is a continuation of Question 2's WWPD from earlier in this lab. We've included the previous parts of the question below for your convenience."
   ]
  },
  {
   "cell_type": "code",
   "execution_count": null,
   "id": "14c811c1",
   "metadata": {},
   "outputs": [],
   "source": [
    "# question 2a, repasted for your convenience.\n",
    "# just run this cell\n",
    "\n",
    "def mystery():\n",
    "    x = 3\n",
    "    x = 5 - x / 2\n",
    "    print(x)\n",
    "\n",
    "x = 1\n",
    "while x < 20:\n",
    "    print(\"x = \" + str(x))\n",
    "    mystery()\n",
    "    x *= 2\n",
    "print(\"x = \" + str(x))"
   ]
  },
  {
   "cell_type": "code",
   "execution_count": null,
   "id": "94e7df92",
   "metadata": {},
   "outputs": [],
   "source": [
    "# question 2b, repasted for your convenience.\n",
    "# just run this cell\n",
    "\n",
    "x = 1\n",
    "for i in np.arange(20):\n",
    "    print(\"x = \" + str(x))\n",
    "    mystery()\n",
    "    x *= 2\n",
    "print(\"x = \" + str(x))"
   ]
  },
  {
   "cell_type": "markdown",
   "id": "2c6b2bf0",
   "metadata": {},
   "source": [
    "In this case, we will still work with a `for` loop, but now notice that the loop counter variable has changed to `x` (instead of `i`). How does this change what is printed from the below cell?"
   ]
  },
  {
   "cell_type": "code",
   "execution_count": null,
   "id": "243f197a",
   "metadata": {},
   "outputs": [],
   "source": [
    "# question 2c: WWPD?\n",
    "x = 1\n",
    "for x in np.arange(20):\n",
    "    print(\"x = \" + str(x))\n",
    "    mystery()\n",
    "    x *= 2\n",
    "print(\"x = \" + str(x))"
   ]
  },
  {
   "cell_type": "markdown",
   "id": "738d8de6",
   "metadata": {},
   "source": [
    "<br/><br/>\n",
    "\n",
    "---\n",
    "\n",
    "# Question 10: Digit Position Match\n",
    "\n",
    "A number has a digit-position match if the `i`th-to-last digit is `i`. For example, `980` has the `0`th-to-last digit as `0`. Or `98276` has the `2`nd-to-last digit as a `2`.\n",
    "\n",
    "\n",
    "Write a function that determines if a number `n` has a digit-position match at a `k`th-to-last digit `k`.\n",
    "\n",
    "A correct implementation will return the following:\n",
    "```\n",
    "digit_pos_match(980, 0)      # True\n",
    "digit_pos_match(980, 2)      # False\n",
    "digit_pos_match(98276, 2)    # True\n",
    "digit_pos_match(98276, 3)    # False\n",
    "```"
   ]
  },
  {
   "cell_type": "code",
   "execution_count": null,
   "id": "528a43c3",
   "metadata": {
    "tags": []
   },
   "outputs": [],
   "source": [
    "def digit_pos_match(n, k):\n",
    "    ...\n",
    "    \n",
    "digit_pos_match(980, 0)"
   ]
  },
  {
   "cell_type": "markdown",
   "id": "ce80dc18",
   "metadata": {},
   "source": [
    "<br/><br/>\n",
    "\n",
    "---\n",
    "\n",
    "# Question 11: Triangular numbers\n",
    "\n",
    "The $n$th triangular number is defined as the sum of all integers from 1 to $n$, i.e.\n",
    "\n",
    "```\n",
    "1 + 2 + ... + n\n",
    "```\n",
    "\n",
    "The closed-form formula for the $n$th triangular number is\n",
    "\n",
    "```\n",
    "(n + 1) * n / 2\n",
    "```\n",
    "\n",
    "Define the function `triangular_sum`, which takes an integer `n` and returns the sum of the first `n` triangular numbers, while printing each of the triangular numbers between `1` and the `n`th triangular number.\n",
    "\n",
    "A correct implementation will do the following: When the below code is run,\n",
    "```\n",
    "t_sum = triangular_sum(5)\n",
    "t_sum\n",
    "```\n",
    "\n",
    "Python will print:\n",
    "```\n",
    "1\n",
    "3\n",
    "6\n",
    "10\n",
    "15\n",
    "```\n",
    "\n",
    "and output `35`."
   ]
  },
  {
   "cell_type": "code",
   "execution_count": null,
   "id": "88210169",
   "metadata": {
    "tags": []
   },
   "outputs": [],
   "source": [
    "def triangular_sum(n):\n",
    "    ...\n",
    "\n",
    "# edit the below line as needed for testing\n",
    "t_sum = triangular_sum(5)\n",
    "t_sum"
   ]
  },
  {
   "cell_type": "markdown",
   "id": "76b2c138",
   "metadata": {},
   "source": [
    "<br/><br/>\n",
    "\n",
    "---\n",
    "\n",
    "# Question 12: K-Occurrence\n",
    "\n",
    "Complete `k_occurrence`, a function which returns the number of times the digit `k` appears in `num`. `0` is considered to have no digits.\n",
    "\n",
    "A correct implementation will return the following: \n",
    "```\n",
    "k_occurrence(5, 10)    # 0\n",
    "k_occurrence(5, 5115)  # 2\n",
    "k_occurrence(0, 100)   # 2\n",
    "k_occurrence(0, 0)     # 0\n",
    "```"
   ]
  },
  {
   "cell_type": "code",
   "execution_count": null,
   "id": "8940938c",
   "metadata": {
    "tags": []
   },
   "outputs": [],
   "source": [
    "def k_occurrence(k, num):\n",
    "    ...\n",
    "\n",
    "# edit the below line as needed for testing   \n",
    "k_occurrence(5, 10)"
   ]
  },
  {
   "cell_type": "markdown",
   "id": "7f9efe09",
   "metadata": {},
   "source": [
    "<br/><br/>\n",
    "\n",
    "---\n",
    "\n",
    "# Question 13: Double Eights\n",
    "Write a function that takes in a number and determines if the digits contain two adjacent 8s (i.e., two eights in a row).\n",
    "\n",
    "A correct implementation will return the following: \n",
    "\n",
    "```\n",
    "double_eights(8)         # False\n",
    "double_eights(88)        # True\n",
    "double_eights(2882)      # True\n",
    "double_eights(880088)    # True\n",
    "double_eights(12345)     # False\n",
    "double_eights(80808080)  # False\n",
    "```"
   ]
  },
  {
   "cell_type": "code",
   "execution_count": null,
   "id": "86bb70f4",
   "metadata": {
    "tags": []
   },
   "outputs": [],
   "source": [
    "def double_eights(n):\n",
    "    ...\n",
    "\n",
    "# edit the below line as needed for testing   \n",
    "double_eights(8)"
   ]
  },
  {
   "cell_type": "markdown",
   "id": "594d610b",
   "metadata": {},
   "source": [
    "<br/><br/>\n",
    "\n",
    "---\n",
    "\n",
    "# (Challenge) Question 14: Right Triangle\n",
    "Write a function that takes in 3 sides `a`, `b`, and `c` and checks to see if they can be possible lengths of the sides of a right triangle. Recall Pythagorean's Theorem:\n",
    "\n",
    "```\n",
    "x^2 + y^2 = z^2 # where z is the hypotenuse\n",
    "```\n",
    "\n",
    "**Hint**: Find the smallest and largest side first.\n",
    "\n",
    "A correct implementation will return the following:\n",
    "```\n",
    "right_triangle(1, 1, 1)   # False\n",
    "right_triangle(5, 3, 4)   # True\n",
    "right_triangle(8, 10, 6)  # True\n",
    "```"
   ]
  },
  {
   "cell_type": "code",
   "execution_count": null,
   "id": "56bc160a",
   "metadata": {
    "tags": []
   },
   "outputs": [],
   "source": [
    "def right_triangle(a, b, c):\n",
    "    ...\n",
    "\n",
    "# edit the below line as needed for testing   \n",
    "right_triangle(1, 1, 1)"
   ]
  },
  {
   "cell_type": "markdown",
   "id": "70ac8430",
   "metadata": {},
   "source": [
    "### "
   ]
  },
  {
   "cell_type": "markdown",
   "id": "3f21f55f",
   "metadata": {},
   "source": [
    "# Done!\n",
    "\n",
    "That's it! There's nowhere for you to submit this, as labs are not assignments. However, please ask any questions you have with this notebook in lab or on Slack.\n",
    "\n",
    "**Note**: If you are having trouble running the \"check all\" grader cell, make sure you comment out the code for Questions 1b and Question 3! They produce **infinite loops** if left in."
   ]
  },
  {
   "cell_type": "markdown",
   "id": "ee9a8f99",
   "metadata": {
    "deletable": false,
    "editable": false
   },
   "source": [
    "## Submission\n",
    "\n",
    "Make sure you have run all cells in your notebook in order before running the cell below, so that all images/graphs appear in the output. The cell below will generate a zip file for you to submit. **Please save before exporting!**"
   ]
  },
  {
   "cell_type": "code",
   "execution_count": null,
   "id": "cc8f2413",
   "metadata": {
    "deletable": false,
    "editable": false
   },
   "outputs": [],
   "source": [
    "# Save your notebook first, then run this cell to export your submission.\n",
    "grader.export(pdf=False, run_tests=True)"
   ]
  },
  {
   "cell_type": "markdown",
   "id": "76bd779d",
   "metadata": {},
   "source": [
    " "
   ]
  }
 ],
 "metadata": {
  "kernelspec": {
   "display_name": "Python 3 (ipykernel)",
   "language": "python",
   "name": "python3"
  },
  "language_info": {
   "codemirror_mode": {
    "name": "ipython",
    "version": 3
   },
   "file_extension": ".py",
   "mimetype": "text/x-python",
   "name": "python",
   "nbconvert_exporter": "python",
   "pygments_lexer": "ipython3",
   "version": "3.9.15"
  },
  "otter": {
   "OK_FORMAT": true,
   "tests": {
    "q5": {
     "name": "q5",
     "points": 2,
     "suites": [
      {
       "cases": [
        {
         "code": ">>> add_in_range(3, 5) == 12\nTrue",
         "hidden": false,
         "locked": false
        },
        {
         "code": ">>> add_in_range(1, 10) == 55\nTrue",
         "hidden": false,
         "locked": false
        }
       ],
       "scored": true,
       "setup": "",
       "teardown": "",
       "type": "doctest"
      }
     ]
    },
    "q5b": {
     "name": "q5b",
     "points": 2,
     "suites": [
      {
       "cases": [
        {
         "code": ">>> add_in_range_arange(3, 5) == 12\nTrue",
         "hidden": false,
         "locked": false
        },
        {
         "code": ">>> add_in_range_arange(1, 10) == 55\nTrue",
         "hidden": false,
         "locked": false
        }
       ],
       "scored": true,
       "setup": "",
       "teardown": "",
       "type": "doctest"
      }
     ]
    },
    "q6": {
     "name": "q6",
     "points": 2,
     "suites": [
      {
       "cases": [
        {
         "code": ">>> falling(6, 3) == 120\nTrue",
         "hidden": false,
         "locked": false
        },
        {
         "code": ">>> falling(4, 3) == 24\nTrue",
         "hidden": false,
         "locked": false
        },
        {
         "code": ">>> falling(4, 1) == 4\nTrue",
         "hidden": false,
         "locked": false
        },
        {
         "code": ">>> falling(4, 0) == 1\nTrue",
         "hidden": false,
         "locked": false
        }
       ],
       "scored": true,
       "setup": "",
       "teardown": "",
       "type": "doctest"
      }
     ]
    },
    "q7": {
     "name": "q7",
     "points": 2,
     "suites": [
      {
       "cases": [
        {
         "code": ">>> sum_digits(10) == 1\nTrue",
         "hidden": false,
         "locked": false
        },
        {
         "code": ">>> sum_digits(4224) == 12\nTrue",
         "hidden": false,
         "locked": false
        },
        {
         "code": ">>> sum_digits(1234567890) ==  45\nTrue",
         "hidden": false,
         "locked": false
        }
       ],
       "scored": true,
       "setup": "",
       "teardown": "",
       "type": "doctest"
      }
     ]
    },
    "q9": {
     "name": "q9",
     "points": 2,
     "suites": [
      {
       "cases": [
        {
         "code": ">>> is_prime(10) == False\nTrue",
         "hidden": false,
         "locked": false
        },
        {
         "code": ">>> is_prime(7) == True\nTrue",
         "hidden": false,
         "locked": false
        }
       ],
       "scored": true,
       "setup": "",
       "teardown": "",
       "type": "doctest"
      }
     ]
    }
   }
  }
 },
 "nbformat": 4,
 "nbformat_minor": 5
}
