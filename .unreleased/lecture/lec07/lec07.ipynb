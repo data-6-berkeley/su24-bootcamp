{
 "cells": [
  {
   "cell_type": "code",
   "execution_count": null,
   "id": "ee0ec66b",
   "metadata": {
    "id": "ee0ec66b"
   },
   "outputs": [],
   "source": [
    "# run this cell\n",
    "import numpy as np\n",
    "from datascience import *"
   ]
  },
  {
   "cell_type": "markdown",
   "id": "0mUfU2pCkPu6",
   "metadata": {
    "id": "0mUfU2pCkPu6"
   },
   "source": [
    "# Lecture 7: Arrays and Tables\n",
    "\n",
    "Check out the [Data 6 Python Reference Sheet](https://data6.org/su22/reference/)  to see documentation for the Array and Table methods we will cover in this lecture."
   ]
  },
  {
   "cell_type": "markdown",
   "id": "lRV4bDb0kcJJ",
   "metadata": {
    "id": "lRV4bDb0kcJJ"
   },
   "source": [
    "## Part 1: Arrays\n"
   ]
  },
  {
   "cell_type": "markdown",
   "id": "ksjHpvw6kh-9",
   "metadata": {
    "id": "ksjHpvw6kh-9"
   },
   "source": [
    "Arrays are a data type that allow us to store sets or sequences of data.\n",
    "\n"
   ]
  },
  {
   "cell_type": "code",
   "execution_count": null,
   "id": "DMC5mBn0B5_a",
   "metadata": {
    "colab": {
     "base_uri": "https://localhost:8080/"
    },
    "id": "DMC5mBn0B5_a",
    "outputId": "9ebe31c2-1d7f-4781-808a-17b930dcf349"
   },
   "outputs": [],
   "source": [
    "# an example - we can make an array using the make_array function\n",
    "my_array = make_array(1,2,3)\n",
    "my_array"
   ]
  },
  {
   "cell_type": "code",
   "execution_count": null,
   "id": "VLxtjAagB4cN",
   "metadata": {
    "id": "VLxtjAagB4cN"
   },
   "outputs": [],
   "source": [
    "# arrays can contain numbers, texts or booleans\n",
    "text_arr = make_array(\"g\", \"o\", \" \", \"b\", \"e\", \"a\", \"r\", \"s\", \"!\")\n",
    "bool_arr = make_array(True, False, False, True)"
   ]
  },
  {
   "cell_type": "code",
   "execution_count": null,
   "id": "uVRL1nFNpl4p",
   "metadata": {
    "colab": {
     "base_uri": "https://localhost:8080/"
    },
    "id": "uVRL1nFNpl4p",
    "outputId": "5f0dfb6f-74a4-42fe-c2cc-f73068cd24f3"
   },
   "outputs": [],
   "source": [
    "text_arr"
   ]
  },
  {
   "cell_type": "code",
   "execution_count": null,
   "id": "jdMIeuYwpnFG",
   "metadata": {
    "colab": {
     "base_uri": "https://localhost:8080/"
    },
    "id": "jdMIeuYwpnFG",
    "outputId": "bef76ac9-4584-4222-d5f1-7c9422a84491"
   },
   "outputs": [],
   "source": [
    "bool_arr"
   ]
  },
  {
   "cell_type": "markdown",
   "id": "wVvjwpKXqt6m",
   "metadata": {
    "id": "wVvjwpKXqt6m"
   },
   "source": [
    "A special function that allows us to create numerical sequence arrays is the `np.arange` function. This function is part of the numpy module (hence the `np` prefix) and takes in the following parameters (in order):\n",
    "- Start: (INCLUSIVE) the numerical value at which you want your sequence to start (default - 0)\n",
    "- Stop: (EXCLUSIVE) the numerical value right before which your sequence will end\n",
    "- Step: the increment between successive values\n",
    "Output: An array of numbers that form a sequence matching the above criteria. (default - 1)"
   ]
  },
  {
   "cell_type": "code",
   "execution_count": null,
   "id": "pNt3RY5BsKG3",
   "metadata": {
    "colab": {
     "base_uri": "https://localhost:8080/"
    },
    "id": "pNt3RY5BsKG3",
    "outputId": "c666eca2-211d-49d1-f812-36f44af39c27"
   },
   "outputs": [],
   "source": [
    "# here are some examples of the arange call\n",
    "zero_to_ten_3 = np.arange(0, 11, 1)\n",
    "zero_to_ten_3\n",
    "# try change the code above so that zero_to_ten_3 instead gives us the first ten even numbers 2 - 20"
   ]
  },
  {
   "cell_type": "code",
   "execution_count": null,
   "id": "USbqWDoSsg4g",
   "metadata": {
    "colab": {
     "base_uri": "https://localhost:8080/"
    },
    "id": "USbqWDoSsg4g",
    "outputId": "786d0d1c-e7a0-4a3f-e0cc-8ad7ad155e74"
   },
   "outputs": [],
   "source": [
    "# If your desired step is 1, you do not need to specify the step\n",
    "zero_to_ten_2 = np.arange(0, 11)\n",
    "zero_to_ten_2\n",
    "# try change the code above so that zero_to_ten_2 instead gives us the first 20 natural numbers (1-20)"
   ]
  },
  {
   "cell_type": "code",
   "execution_count": null,
   "id": "cR9lTfJHs5JB",
   "metadata": {
    "colab": {
     "base_uri": "https://localhost:8080/"
    },
    "id": "cR9lTfJHs5JB",
    "outputId": "f56e370d-8db9-4e48-8e4f-3c72ec296242"
   },
   "outputs": [],
   "source": [
    "# If your desired start is 0, you do not need to specify a start\n",
    "zero_to_ten = np.arange(11)\n",
    "zero_to_ten\n",
    "# try change the code above so that zero_to_ten instead gives us the first 30 whole numbers (0-29)"
   ]
  },
  {
   "cell_type": "markdown",
   "id": "NwC3v6BotavY",
   "metadata": {
    "id": "NwC3v6BotavY"
   },
   "source": [
    "Arrays must always contain elements of the same type. Take a look at the code below. Without running it, would the array work as is (hint: look at the data types of elements)? Discuss with your neighbour. Now run the cell and examine the output. How is it different from what you input?"
   ]
  },
  {
   "cell_type": "code",
   "execution_count": null,
   "id": "FF-ofp_ntzXO",
   "metadata": {
    "colab": {
     "base_uri": "https://localhost:8080/"
    },
    "id": "FF-ofp_ntzXO",
    "outputId": "d629b849-c4bf-4cab-c323-0e8af556136d"
   },
   "outputs": [],
   "source": [
    "new_array = make_array(1, \"a\", True)\n",
    "new_array"
   ]
  },
  {
   "cell_type": "markdown",
   "id": "CAXMEkvCt7oY",
   "metadata": {
    "id": "CAXMEkvCt7oY"
   },
   "source": [
    "**Array methods**\n",
    "\n",
    "There is a lot of cool stuff you can do with arrays! Here are some methods that you might find handy:\n",
    "\n",
    "`len(array)` - length of an array\n",
    "\n",
    "`array.item(x)` - extract the (x+1)th item in an array (Indices in Python start at 0)\n",
    "\n",
    "`min(array)` - smallest item in an array\n",
    "\n",
    "`max(array)` - largest item in an array\n",
    "\n",
    "`sum(array)` - sum of all elements added together"
   ]
  },
  {
   "cell_type": "code",
   "execution_count": null,
   "id": "TZ8FUpeOufWY",
   "metadata": {
    "colab": {
     "base_uri": "https://localhost:8080/"
    },
    "id": "TZ8FUpeOufWY",
    "outputId": "1b058d3a-1c1c-480c-f459-878d2bb68ec3"
   },
   "outputs": [],
   "source": [
    "example_array = np.arange(2, 100, 20)\n",
    "len(example_array)"
   ]
  },
  {
   "cell_type": "code",
   "execution_count": null,
   "id": "llS_29itusCR",
   "metadata": {
    "colab": {
     "base_uri": "https://localhost:8080/"
    },
    "id": "llS_29itusCR",
    "outputId": "4c596a9d-ef5d-4874-e17b-c3c3d15dd40b"
   },
   "outputs": [],
   "source": [
    "example_array.item(0)\n",
    "# change the above code to instead get the last element of the array"
   ]
  },
  {
   "cell_type": "code",
   "execution_count": null,
   "id": "uncIJ4G4uuTQ",
   "metadata": {
    "colab": {
     "base_uri": "https://localhost:8080/"
    },
    "id": "uncIJ4G4uuTQ",
    "outputId": "60f50783-56e2-40ab-9504-cc2449d7ddc1"
   },
   "outputs": [],
   "source": [
    "min(example_array)"
   ]
  },
  {
   "cell_type": "code",
   "execution_count": null,
   "id": "qMwUCQ6Cu2Y6",
   "metadata": {
    "colab": {
     "base_uri": "https://localhost:8080/"
    },
    "id": "qMwUCQ6Cu2Y6",
    "outputId": "48f41810-6698-4e3b-b5b5-6a1df2ade8a6"
   },
   "outputs": [],
   "source": [
    "max(example_array)"
   ]
  },
  {
   "cell_type": "code",
   "execution_count": null,
   "id": "NTrrgun5HG1r",
   "metadata": {
    "colab": {
     "base_uri": "https://localhost:8080/"
    },
    "id": "NTrrgun5HG1r",
    "outputId": "38310ed3-d160-4565-9efc-55d25e0cb805"
   },
   "outputs": [],
   "source": [
    "sum(example_array)"
   ]
  },
  {
   "cell_type": "code",
   "execution_count": null,
   "id": "QPkSMOkwJ3bW",
   "metadata": {
    "colab": {
     "base_uri": "https://localhost:8080/"
    },
    "id": "QPkSMOkwJ3bW",
    "outputId": "dffe2bfd-2114-4ba8-caaa-7a2969319f94"
   },
   "outputs": [],
   "source": [
    "# Why does this return 3?\n",
    "sum(make_array(True, False, False, True, True))"
   ]
  },
  {
   "cell_type": "markdown",
   "id": "NCZ6APxfvB1W",
   "metadata": {
    "id": "NCZ6APxfvB1W"
   },
   "source": [
    "**Array Arithmetic**\n",
    "\n",
    "Array arithmetic can be branched into two broad categories:\n",
    "\n",
    "- array operated with another array: in this case, operation may only occur if the two arrays have the same lengths and if the elements of each are of the same data type. operation is then carried out element-wise resulting in an output array with the same length as each input array.\n",
    "\n",
    "- array operated with a scalar (constant): operation applied to each element of the array itemwise."
   ]
  },
  {
   "cell_type": "code",
   "execution_count": null,
   "id": "NdC26KPau9NF",
   "metadata": {
    "colab": {
     "base_uri": "https://localhost:8080/"
    },
    "id": "NdC26KPau9NF",
    "outputId": "691fd0ff-6159-4c79-b719-0b4c388b6e1b"
   },
   "outputs": [],
   "source": [
    "# array with antoher array\n",
    "arr1 = make_array(1, 2, 3, 4)\n",
    "arr2 = make_array(10, 20, 30, 40)\n",
    "arr1 + arr2\n",
    "# try to see if there is any mathematical operation you can perform between these two arrays that does not work"
   ]
  },
  {
   "cell_type": "code",
   "execution_count": null,
   "id": "5vrWJsn1v5AL",
   "metadata": {
    "colab": {
     "base_uri": "https://localhost:8080/",
     "height": 204
    },
    "id": "5vrWJsn1v5AL",
    "outputId": "77d91220-47ab-4ce9-962c-96fe21195697"
   },
   "outputs": [],
   "source": [
    "# will this work? discuss with your neighbour before running\n",
    "arr3 = make_array(\"a\", \"b\", \"c\", \"d\")\n",
    "arr1 + arr3"
   ]
  },
  {
   "cell_type": "code",
   "execution_count": null,
   "id": "CQxHO4dnwCYh",
   "metadata": {
    "colab": {
     "base_uri": "https://localhost:8080/",
     "height": 204
    },
    "id": "CQxHO4dnwCYh",
    "outputId": "9f7e6172-08b8-4b6a-8510-e4f98d420fa8"
   },
   "outputs": [],
   "source": [
    "# will this work? discuss with your neighbour before running\n",
    "arr4 = make_array(100, 200, 300)\n",
    "arr2 + arr4"
   ]
  },
  {
   "cell_type": "code",
   "execution_count": null,
   "id": "5Lkde57XwIit",
   "metadata": {
    "colab": {
     "base_uri": "https://localhost:8080/"
    },
    "id": "5Lkde57XwIit",
    "outputId": "17e6c3d1-a9cd-438e-fa0c-dfa19e942b53"
   },
   "outputs": [],
   "source": [
    "# array operated with a constant\n",
    "arr1 + 10\n",
    "# try see if any mathematical operation between the array and constant 10 does not work as described above\n",
    "# what would happen if arr1 is an array of strings? What operation(s) would work then?"
   ]
  },
  {
   "cell_type": "markdown",
   "id": "bd88350a",
   "metadata": {
    "id": "bd88350a"
   },
   "source": [
    "# Tables"
   ]
  },
  {
   "cell_type": "markdown",
   "id": "yXf0Wlp5H0X1",
   "metadata": {
    "id": "yXf0Wlp5H0X1"
   },
   "source": [
    "Another useful way to store data is with tables! The following cell shows how you can create your own Table.\n",
    "\n",
    "When making a Table\n",
    "\n",
    "\n",
    "*   For each column you want to create, you must pass in a column name and an array of data\n",
    "*   All arrays must be of the same length\n",
    "\n",
    "\n",
    "\n"
   ]
  },
  {
   "cell_type": "code",
   "execution_count": null,
   "id": "5QejaE2cHzsu",
   "metadata": {
    "colab": {
     "base_uri": "https://localhost:8080/",
     "height": 175
    },
    "id": "5QejaE2cHzsu",
    "outputId": "a06c2d89-cabf-4d0f-903f-08846e089697"
   },
   "outputs": [],
   "source": [
    "sunya_table = Table().with_columns(\"ice cream flavor\", make_array(\"chocolate\", \"vanilla\", \"stawberry\", \"mint\"),\n",
    "                    \"Ranking\", make_array(1, 2, 4, 3))\n",
    "sunya_table"
   ]
  },
  {
   "cell_type": "markdown",
   "id": "wtnZ9RTFKcHq",
   "metadata": {
    "id": "wtnZ9RTFKcHq"
   },
   "source": [
    "### Practice Question:\n",
    "In the following cell, create a table **my_table** with your own ice cream flavor ranking. You may add/change any flavors, add columns, and change column names."
   ]
  },
  {
   "cell_type": "code",
   "execution_count": null,
   "id": "MzmUiZMGKaWK",
   "metadata": {
    "id": "MzmUiZMGKaWK"
   },
   "outputs": [],
   "source": [
    "my_table = ..."
   ]
  },
  {
   "cell_type": "markdown",
   "id": "Bz8aG4KwKUac",
   "metadata": {
    "id": "Bz8aG4KwKUac"
   },
   "source": [
    "### tbl.sort(column_name_or_index) method\n",
    "This method can be used to sort a table by a particular column. For instance, the following cell sorts the sunya_table by the \"Ranking\" column."
   ]
  },
  {
   "cell_type": "code",
   "execution_count": null,
   "id": "L5KbgBL1NfYk",
   "metadata": {
    "colab": {
     "base_uri": "https://localhost:8080/",
     "height": 175
    },
    "id": "L5KbgBL1NfYk",
    "outputId": "680a011a-4c11-4cfe-dd10-6ae98668dcc8"
   },
   "outputs": [],
   "source": [
    "sunya_table.sort(\"Ranking\")"
   ]
  },
  {
   "cell_type": "markdown",
   "id": "XpuaQ56lNk-R",
   "metadata": {
    "id": "XpuaQ56lNk-R"
   },
   "source": [
    "Now the table is in ascending \"Ranking\" order. We could also sort in descending order by passing in a second optional argument to the .sort method. See below:"
   ]
  },
  {
   "cell_type": "code",
   "execution_count": null,
   "id": "bbJRCz1xODpO",
   "metadata": {
    "colab": {
     "base_uri": "https://localhost:8080/",
     "height": 175
    },
    "id": "bbJRCz1xODpO",
    "outputId": "447025fd-6626-4875-b96b-7dbf005dd586"
   },
   "outputs": [],
   "source": [
    "sunya_table.sort(\"Ranking\", descending = True)"
   ]
  },
  {
   "cell_type": "markdown",
   "id": "pxHBFSV5OVX6",
   "metadata": {
    "id": "pxHBFSV5OVX6"
   },
   "source": [
    "### .sort Practice\n",
    "In the following cell, see what happens when you sort the **my_table** you created earlier by the first column."
   ]
  },
  {
   "cell_type": "code",
   "execution_count": null,
   "id": "z49xZsqCOm6V",
   "metadata": {
    "id": "z49xZsqCOm6V"
   },
   "outputs": [],
   "source": [
    "#sort my_table by first column\n",
    "..."
   ]
  },
  {
   "cell_type": "markdown",
   "id": "opU5HYMVPD2M",
   "metadata": {
    "id": "opU5HYMVPD2M"
   },
   "source": [
    "## Working with Larger Tables\n",
    "While it is useful to create our own data tables, we can also analyze data that we import from outside sources."
   ]
  },
  {
   "cell_type": "markdown",
   "id": "4534f912",
   "metadata": {
    "id": "4534f912"
   },
   "source": [
    "Run the cell below to load the data from our spotify playlist."
   ]
  },
  {
   "cell_type": "code",
   "execution_count": null,
   "id": "40cbf8c2",
   "metadata": {
    "colab": {
     "base_uri": "https://localhost:8080/",
     "height": 1000
    },
    "id": "40cbf8c2",
    "outputId": "2ec7396f-42b9-43c0-a595-d7e4b7971021"
   },
   "outputs": [],
   "source": [
    "#might not load on colab\n",
    "playlist = Table().read_table('playlist.csv')\n",
    "playlist"
   ]
  },
  {
   "cell_type": "markdown",
   "id": "0wXth4LWXPLM",
   "metadata": {
    "id": "0wXth4LWXPLM"
   },
   "source": [
    "## Some Useful Table Methods\n",
    "\n",
    "In the following methods, make sure you replace `tbl` with the name of your table.\n",
    "\n",
    "`tbl.column(column_name_or_index)` -> Returns the values of a column in an array\n",
    "\n",
    "`tbl.select(col1, col2, ...)` ->  Create a copy of a table with only some of the columns. Each column is the column name or index.\n",
    "\n",
    "`tbl.num_rows` -> Returns the number of rows in the Table\n",
    "\n",
    "`tbl.num_columns` -> Returns the number of columns in the Table\n",
    "\n",
    "`tbl.with_column` -> Can be used to concatenate one new column to a table"
   ]
  },
  {
   "cell_type": "code",
   "execution_count": null,
   "id": "Ns91J2JlZ0n-",
   "metadata": {
    "colab": {
     "base_uri": "https://localhost:8080/",
     "height": 169
    },
    "id": "Ns91J2JlZ0n-",
    "outputId": "8c6b5b17-25fb-44d2-dcc1-24ee8fc950d1"
   },
   "outputs": [],
   "source": [
    "playlist.num_rows"
   ]
  },
  {
   "cell_type": "code",
   "execution_count": null,
   "id": "S8i-6znmZ347",
   "metadata": {
    "colab": {
     "base_uri": "https://localhost:8080/",
     "height": 169
    },
    "id": "S8i-6znmZ347",
    "outputId": "36885e3c-ff99-4c59-f3b7-a410bd705540"
   },
   "outputs": [],
   "source": [
    "playlist.num_columns"
   ]
  },
  {
   "cell_type": "markdown",
   "id": "GrsIJGrQZ9af",
   "metadata": {
    "id": "GrsIJGrQZ9af"
   },
   "source": [
    "After running the following two cells, discuss with a partner what the difference is between the .column and .select methods."
   ]
  },
  {
   "cell_type": "code",
   "execution_count": null,
   "id": "-VkjzyzAZ63G",
   "metadata": {
    "id": "-VkjzyzAZ63G"
   },
   "outputs": [],
   "source": [
    "playlist.column(\"track name\")"
   ]
  },
  {
   "cell_type": "code",
   "execution_count": null,
   "id": "3sSAzJ7pZ7ig",
   "metadata": {
    "id": "3sSAzJ7pZ7ig"
   },
   "outputs": [],
   "source": [
    "playlist.select(\"track name\")"
   ]
  },
  {
   "cell_type": "markdown",
   "id": "aq7ibK1saviJ",
   "metadata": {
    "id": "aq7ibK1saviJ"
   },
   "source": [
    "### Practice Problem\n",
    "In the cell below, write one line of code which will output the first element in the \"artist name\" column of our **playlist** table.\n",
    "\n",
    "Hint: Remember the .item array method that we discussed earlier!"
   ]
  },
  {
   "cell_type": "code",
   "execution_count": null,
   "id": "yUPsgXINbLys",
   "metadata": {
    "id": "yUPsgXINbLys"
   },
   "outputs": [],
   "source": [
    "# this cell should output the name of the artist in the first row of playlist\n",
    "\n",
    "..."
   ]
  },
  {
   "cell_type": "markdown",
   "id": "2b42633e",
   "metadata": {
    "id": "2b42633e"
   },
   "source": [
    "### Question: Practice with .with_column"
   ]
  },
  {
   "cell_type": "code",
   "execution_count": null,
   "id": "cc153bc2",
   "metadata": {
    "id": "cc153bc2"
   },
   "outputs": [],
   "source": [
    "#Just run this cell\n",
    "table = playlist.sample(playlist.num_rows, with_replacement=False).take(np.arange(5)).select(0,1,2,10)"
   ]
  },
  {
   "cell_type": "code",
   "execution_count": null,
   "id": "6f51c6cd",
   "metadata": {},
   "outputs": [],
   "source": [
    "table"
   ]
  },
  {
   "cell_type": "markdown",
   "id": "7502a487",
   "metadata": {
    "id": "7502a487"
   },
   "source": [
    "Add a column to `table` describing the data, some ideas: genre, if you know the song, if you like the song\n",
    "\n",
    "Fill in the two arguments in `.with_column()` for first 5 rows in the table"
   ]
  },
  {
   "cell_type": "code",
   "execution_count": null,
   "id": "c05c32ad",
   "metadata": {
    "id": "c05c32ad",
    "scrolled": false
   },
   "outputs": [],
   "source": [
    "table.with_column(..., ...)"
   ]
  },
  {
   "cell_type": "code",
   "execution_count": null,
   "id": "fe01f838",
   "metadata": {
    "id": "fe01f838"
   },
   "outputs": [],
   "source": []
  },
  {
   "cell_type": "code",
   "execution_count": null,
   "id": "a8fdd96f",
   "metadata": {
    "id": "a8fdd96f"
   },
   "outputs": [],
   "source": []
  }
 ],
 "metadata": {
  "colab": {
   "provenance": []
  },
  "kernelspec": {
   "display_name": "Python 3 (ipykernel)",
   "language": "python",
   "name": "python3"
  },
  "language_info": {
   "codemirror_mode": {
    "name": "ipython",
    "version": 3
   },
   "file_extension": ".py",
   "mimetype": "text/x-python",
   "name": "python",
   "nbconvert_exporter": "python",
   "pygments_lexer": "ipython3",
   "version": "3.9.15"
  }
 },
 "nbformat": 4,
 "nbformat_minor": 5
}
