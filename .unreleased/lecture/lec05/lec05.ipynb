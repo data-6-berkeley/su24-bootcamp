{
 "cells": [
  {
   "cell_type": "code",
   "execution_count": null,
   "id": "8295c862",
   "metadata": {},
   "outputs": [],
   "source": [
    "import numpy as np"
   ]
  },
  {
   "cell_type": "markdown",
   "id": "94c1fc81",
   "metadata": {},
   "source": [
    "## Warmup"
   ]
  },
  {
   "cell_type": "code",
   "execution_count": null,
   "id": "8eb1379f",
   "metadata": {},
   "outputs": [],
   "source": [
    "def square_area(s):\n",
    "    ...\n",
    "    "
   ]
  },
  {
   "cell_type": "code",
   "execution_count": null,
   "id": "081797b3",
   "metadata": {},
   "outputs": [],
   "source": [
    "square_area(10)"
   ]
  },
  {
   "cell_type": "code",
   "execution_count": null,
   "id": "0b04cd6d",
   "metadata": {},
   "outputs": [],
   "source": [
    "square_area(-1)"
   ]
  },
  {
   "cell_type": "code",
   "execution_count": null,
   "id": "95a22f19",
   "metadata": {},
   "outputs": [],
   "source": [
    "square_area(0)"
   ]
  },
  {
   "cell_type": "markdown",
   "id": "8cfb5600",
   "metadata": {},
   "source": [
    "## For loops"
   ]
  },
  {
   "cell_type": "code",
   "execution_count": null,
   "id": "e1daece7",
   "metadata": {},
   "outputs": [],
   "source": [
    "print(\"Weekend!\")\n",
    "print(\"Weekday!\")\n",
    "print(\"Weekday!\")\n",
    "print(\"Weekday!\")\n",
    "print(\"Weekday!\")\n",
    "print(\"Weekday!\")\n",
    "print(\"Weekend!\")"
   ]
  },
  {
   "cell_type": "code",
   "execution_count": null,
   "id": "9749510e",
   "metadata": {},
   "outputs": [],
   "source": [
    "print(\"Weekend!\")\n",
    "for i in np.arange(5):\n",
    "    print(\"Weekday!\")\n",
    "print(\"Weekend!\")"
   ]
  },
  {
   "cell_type": "markdown",
   "id": "bafa2e3b",
   "metadata": {},
   "source": [
    "## Quick Check 1"
   ]
  },
  {
   "cell_type": "code",
   "execution_count": null,
   "id": "2d2c7cf0",
   "metadata": {},
   "outputs": [],
   "source": [
    "total = 0\n",
    "for i in np.arange(5):\n",
    "    total += 2 ** 1\n",
    "total"
   ]
  },
  {
   "cell_type": "code",
   "execution_count": null,
   "id": "71ec8781",
   "metadata": {
    "scrolled": true
   },
   "outputs": [],
   "source": [
    "n = 10\n",
    "for i in np.arange(n):\n",
    "    print(i)"
   ]
  },
  {
   "cell_type": "markdown",
   "id": "ec76560b",
   "metadata": {},
   "source": [
    "## Quick Check 2\n",
    "\n",
    "[Python Tutor](https://pythontutor.com/render.html#code=total%20%3D%200%0Afor%20counter%20in%20range%285%29%3A%0A%20%20%20%20total%20%2B%3D%202%20**%20counter%0Atotal&cumulative=false&curInstr=0&heapPrimitives=nevernest&mode=display&origin=opt-frontend.js&py=3&rawInputLstJSON=%5B%5D&textReferences=false)"
   ]
  },
  {
   "cell_type": "code",
   "execution_count": null,
   "id": "78da42c3",
   "metadata": {
    "scrolled": true
   },
   "outputs": [],
   "source": [
    "total = 0\n",
    "for counter in np.arange(5):\n",
    "    total += 2 ** counter\n",
    "total"
   ]
  },
  {
   "cell_type": "markdown",
   "id": "cbebb22b",
   "metadata": {},
   "source": [
    "<br/><br/><br/>\n",
    "\n",
    "## While loops"
   ]
  },
  {
   "cell_type": "code",
   "execution_count": null,
   "id": "c0af5937",
   "metadata": {},
   "outputs": [],
   "source": [
    "print(\"Weekend!\")\n",
    "i = 0\n",
    "while i <= 5:\n",
    "    print(\"Weekday!\")\n",
    "    i += 1\n",
    "print(\"Weekend!\")"
   ]
  },
  {
   "cell_type": "markdown",
   "id": "61178e68",
   "metadata": {},
   "source": [
    "## Quick Check 3"
   ]
  },
  {
   "cell_type": "code",
   "execution_count": null,
   "id": "1b0b606b",
   "metadata": {},
   "outputs": [],
   "source": [
    "for counter in np.arange(5):\n",
    "    print(9 * (counter + 1))"
   ]
  },
  {
   "cell_type": "code",
   "execution_count": null,
   "id": "d4c59bbf",
   "metadata": {},
   "outputs": [],
   "source": [
    "multiplier = 1\n",
    "while multiplier <= 5:\n",
    "    print(9 * multiplier)\n",
    "    multiplier += 1"
   ]
  },
  {
   "cell_type": "markdown",
   "id": "b96c8854",
   "metadata": {},
   "source": [
    "<br/><br/>"
   ]
  },
  {
   "cell_type": "code",
   "execution_count": null,
   "id": "5ec72d79",
   "metadata": {
    "scrolled": true
   },
   "outputs": [],
   "source": [
    "def sum_up_squares(start, end):\n",
    "    counter = start\n",
    "    total = 0\n",
    "    while counter <= end:\n",
    "        total += counter ** 2\n",
    "        counter += 1\n",
    "    return total\n",
    "\n",
    "sum_up_squares(1, 5)"
   ]
  },
  {
   "cell_type": "markdown",
   "id": "b705648e",
   "metadata": {},
   "source": [
    "## Worked Example"
   ]
  },
  {
   "cell_type": "code",
   "execution_count": null,
   "id": "0fad1f01",
   "metadata": {},
   "outputs": [],
   "source": [
    "def log(num, base):\n",
    "    ..."
   ]
  },
  {
   "cell_type": "code",
   "execution_count": null,
   "id": "be3dcafe",
   "metadata": {},
   "outputs": [],
   "source": [
    "log(1000, 10)   # 3"
   ]
  },
  {
   "cell_type": "code",
   "execution_count": null,
   "id": "f7941e8b",
   "metadata": {},
   "outputs": [],
   "source": [
    "log(8, 2)       # 3"
   ]
  },
  {
   "cell_type": "code",
   "execution_count": null,
   "id": "0ccf703b",
   "metadata": {},
   "outputs": [],
   "source": [
    "log(25, 5)      # 2"
   ]
  },
  {
   "cell_type": "code",
   "execution_count": null,
   "id": "ed8d816e",
   "metadata": {},
   "outputs": [],
   "source": [
    "log(1, 2)       # 0"
   ]
  },
  {
   "cell_type": "code",
   "execution_count": null,
   "id": "f6f1c378",
   "metadata": {
    "scrolled": true
   },
   "outputs": [],
   "source": [
    "log(27, 5)      # 3"
   ]
  },
  {
   "cell_type": "code",
   "execution_count": null,
   "id": "ee130b51",
   "metadata": {},
   "outputs": [],
   "source": [
    "log(2.5, 2)"
   ]
  }
 ],
 "metadata": {
  "kernelspec": {
   "display_name": "Python 3 (ipykernel)",
   "language": "python",
   "name": "python3"
  },
  "language_info": {
   "codemirror_mode": {
    "name": "ipython",
    "version": 3
   },
   "file_extension": ".py",
   "mimetype": "text/x-python",
   "name": "python",
   "nbconvert_exporter": "python",
   "pygments_lexer": "ipython3",
   "version": "3.9.15"
  }
 },
 "nbformat": 4,
 "nbformat_minor": 5
}
