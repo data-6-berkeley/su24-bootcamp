{
 "cells": [
  {
   "cell_type": "code",
   "execution_count": 1,
   "id": "4a806ca3",
   "metadata": {},
   "outputs": [],
   "source": [
    "import numpy as np"
   ]
  },
  {
   "cell_type": "markdown",
   "id": "21572701",
   "metadata": {},
   "source": [
    "## Warmup 1"
   ]
  },
  {
   "cell_type": "code",
   "execution_count": 2,
   "id": "4bd5cf72",
   "metadata": {},
   "outputs": [],
   "source": [
    "def summation_for(n):\n",
    "    ...\n",
    "    \n",
    "summation_for(5)"
   ]
  },
  {
   "cell_type": "code",
   "execution_count": 3,
   "id": "bf81441b",
   "metadata": {},
   "outputs": [],
   "source": [
    "def summation_while(n):\n",
    "    ...\n",
    "\n",
    "summation_while(5)"
   ]
  },
  {
   "cell_type": "markdown",
   "id": "3159892b",
   "metadata": {},
   "source": [
    "## Functions as Abstractions"
   ]
  },
  {
   "cell_type": "code",
   "execution_count": 2,
   "id": "eeb64a72",
   "metadata": {},
   "outputs": [],
   "source": [
    "interest =  1 + 0.6 * 2\n",
    "interest2 =  1 + 0.9 * 4\n",
    "interest3 =  1 + 2.1 * 3"
   ]
  },
  {
   "cell_type": "code",
   "execution_count": 3,
   "id": "ad7f662a",
   "metadata": {},
   "outputs": [],
   "source": [
    "def interest(rate,  years):\n",
    "    total = 0\n",
    "    return 1 + rate * years"
   ]
  },
  {
   "cell_type": "code",
   "execution_count": 4,
   "id": "54a65f11",
   "metadata": {},
   "outputs": [
    {
     "data": {
      "text/plain": [
       "2.2"
      ]
     },
     "execution_count": 4,
     "metadata": {},
     "output_type": "execute_result"
    }
   ],
   "source": [
    "interest(0.6, 2)"
   ]
  },
  {
   "cell_type": "markdown",
   "id": "3b89265e",
   "metadata": {},
   "source": [
    "## Default Argument Values"
   ]
  },
  {
   "cell_type": "code",
   "execution_count": 22,
   "id": "85d59e0c",
   "metadata": {},
   "outputs": [],
   "source": [
    "def pressure(v, t, n=6.022e23):\n",
    "    k = 1.38e-23  # Boltzmann's constant\n",
    "    return n * k * t / v"
   ]
  },
  {
   "cell_type": "code",
   "execution_count": 23,
   "id": "bbdeb384",
   "metadata": {},
   "outputs": [
    {
     "data": {
      "text/plain": [
       "2269.974834"
      ]
     },
     "execution_count": 23,
     "metadata": {},
     "output_type": "execute_result"
    }
   ],
   "source": [
    "pressure(1, 273.15)"
   ]
  },
  {
   "cell_type": "code",
   "execution_count": 24,
   "id": "6df084cb",
   "metadata": {},
   "outputs": [
    {
     "data": {
      "text/plain": [
       "6809.924502"
      ]
     },
     "execution_count": 24,
     "metadata": {},
     "output_type": "execute_result"
    }
   ],
   "source": [
    "pressure(1, 273.15, 3 * 6.022e23)"
   ]
  },
  {
   "cell_type": "markdown",
   "id": "4a7e77f6",
   "metadata": {},
   "source": [
    "## Higher-Order Functions\n",
    "\n",
    "### Functions as Arguments"
   ]
  },
  {
   "cell_type": "code",
   "execution_count": 14,
   "id": "b61b6261",
   "metadata": {},
   "outputs": [],
   "source": [
    "def cube(k):\n",
    "    return k ** 3\n",
    "\n",
    "def summation(n, term=simple_fn):\n",
    "    total = 0\n",
    "    for k in np.arange(1, n+1):\n",
    "        total = total + term(k)\n",
    "    return total"
   ]
  },
  {
   "cell_type": "code",
   "execution_count": 10,
   "id": "bc8ebf56",
   "metadata": {},
   "outputs": [],
   "source": [
    "def neg(n):\n",
    "    return -n"
   ]
  },
  {
   "cell_type": "code",
   "execution_count": 9,
   "id": "27636632",
   "metadata": {},
   "outputs": [
    {
     "data": {
      "text/plain": [
       "225"
      ]
     },
     "execution_count": 9,
     "metadata": {},
     "output_type": "execute_result"
    }
   ],
   "source": [
    "summation(5, cube)"
   ]
  },
  {
   "cell_type": "code",
   "execution_count": 15,
   "id": "7929ad65",
   "metadata": {},
   "outputs": [
    {
     "data": {
      "text/plain": [
       "15"
      ]
     },
     "execution_count": 15,
     "metadata": {},
     "output_type": "execute_result"
    }
   ],
   "source": [
    "summation(5)"
   ]
  },
  {
   "cell_type": "code",
   "execution_count": 12,
   "id": "d72ccc53",
   "metadata": {},
   "outputs": [
    {
     "data": {
      "text/plain": [
       "3.041839618929402"
      ]
     },
     "execution_count": 12,
     "metadata": {},
     "output_type": "execute_result"
    }
   ],
   "source": [
    "def complex_fn(k):\n",
    "    return 8/((4*k-3)*(4*k-1))\n",
    "\n",
    "summation(5, complex_fn)"
   ]
  },
  {
   "cell_type": "code",
   "execution_count": 13,
   "id": "44573136",
   "metadata": {},
   "outputs": [
    {
     "data": {
      "text/plain": [
       "15"
      ]
     },
     "execution_count": 13,
     "metadata": {},
     "output_type": "execute_result"
    }
   ],
   "source": [
    "def simple_fn(k):\n",
    "    return k\n",
    "    \n",
    "summation(5, simple_fn)"
   ]
  },
  {
   "cell_type": "markdown",
   "id": "fec974b5",
   "metadata": {},
   "source": [
    "### Default Functions as Arguments"
   ]
  },
  {
   "cell_type": "code",
   "execution_count": null,
   "id": "32243540",
   "metadata": {},
   "outputs": [],
   "source": [
    "# implement summation_w_default(5)"
   ]
  },
  {
   "cell_type": "code",
   "execution_count": 6,
   "id": "ea70df1e",
   "metadata": {},
   "outputs": [],
   "source": [
    "from math import pi, sqrt\n",
    "\n",
    "def area_square(r):\n",
    "    return r * r *1\n",
    "\n",
    "def area_circle(r):\n",
    "    return r * r * pi\n",
    "\n",
    "def area_hexagon(r):\n",
    "    return r * r * (3 * sqrt(3) / 2)"
   ]
  },
  {
   "cell_type": "code",
   "execution_count": 9,
   "id": "4fc4679e",
   "metadata": {},
   "outputs": [],
   "source": [
    "def area(r, shape_constant):\n",
    "    if r < 0:\n",
    "        return 0\n",
    "    return r * r * shape_constant"
   ]
  },
  {
   "cell_type": "code",
   "execution_count": 7,
   "id": "ce356f76",
   "metadata": {},
   "outputs": [],
   "source": [
    "def area_square(r):\n",
    "    return area(r, 1)\n",
    "\n",
    "def area_circle(r):\n",
    "    return area(r, pi)\n",
    "\n",
    "def area_hexagon(r):\n",
    "    return area(r, (3 * sqrt(3) / 2))"
   ]
  },
  {
   "cell_type": "code",
   "execution_count": null,
   "id": "dbfb1e8d",
   "metadata": {},
   "outputs": [],
   "source": []
  },
  {
   "cell_type": "code",
   "execution_count": 27,
   "id": "43b89c64",
   "metadata": {},
   "outputs": [],
   "source": [
    "def make_adder(n):\n",
    "    def adder(k):\n",
    "        return k**n\n",
    "    return adder"
   ]
  },
  {
   "cell_type": "code",
   "execution_count": 28,
   "id": "7ede5856",
   "metadata": {},
   "outputs": [
    {
     "data": {
      "text/plain": [
       "243"
      ]
     },
     "execution_count": 28,
     "metadata": {},
     "output_type": "execute_result"
    }
   ],
   "source": [
    "make_adder(5)(3)"
   ]
  },
  {
   "cell_type": "code",
   "execution_count": 29,
   "id": "215ad8b0",
   "metadata": {},
   "outputs": [],
   "source": [
    "variable = make_adder(10)"
   ]
  },
  {
   "cell_type": "code",
   "execution_count": 30,
   "id": "e8a08282",
   "metadata": {},
   "outputs": [
    {
     "data": {
      "text/plain": [
       "3486784401"
      ]
     },
     "execution_count": 30,
     "metadata": {},
     "output_type": "execute_result"
    }
   ],
   "source": [
    "variable(9)"
   ]
  },
  {
   "cell_type": "code",
   "execution_count": null,
   "id": "c0c7a3f6",
   "metadata": {},
   "outputs": [],
   "source": []
  },
  {
   "cell_type": "code",
   "execution_count": null,
   "id": "a0a3e9b9",
   "metadata": {},
   "outputs": [],
   "source": []
  }
 ],
 "metadata": {
  "kernelspec": {
   "display_name": "Python 3 (ipykernel)",
   "language": "python",
   "name": "python3"
  },
  "language_info": {
   "codemirror_mode": {
    "name": "ipython",
    "version": 3
   },
   "file_extension": ".py",
   "mimetype": "text/x-python",
   "name": "python",
   "nbconvert_exporter": "python",
   "pygments_lexer": "ipython3",
   "version": "3.9.15"
  }
 },
 "nbformat": 4,
 "nbformat_minor": 5
}
