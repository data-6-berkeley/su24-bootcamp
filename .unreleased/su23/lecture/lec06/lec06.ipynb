{
 "cells": [
  {
   "cell_type": "code",
   "execution_count": 3,
   "id": "4a806ca3",
   "metadata": {},
   "outputs": [],
   "source": [
    "import numpy as np"
   ]
  },
  {
   "cell_type": "markdown",
   "id": "21572701",
   "metadata": {},
   "source": [
    "## Warmup 1"
   ]
  },
  {
   "cell_type": "code",
   "execution_count": 11,
   "id": "4bd5cf72",
   "metadata": {},
   "outputs": [
    {
     "data": {
      "text/plain": [
       "15"
      ]
     },
     "execution_count": 11,
     "metadata": {},
     "output_type": "execute_result"
    }
   ],
   "source": [
    "def summation_for(n):\n",
    "    ...\n",
    "    \n",
    "summation_for(5)"
   ]
  },
  {
   "cell_type": "code",
   "execution_count": 13,
   "id": "bf81441b",
   "metadata": {},
   "outputs": [
    {
     "data": {
      "text/plain": [
       "15"
      ]
     },
     "execution_count": 13,
     "metadata": {},
     "output_type": "execute_result"
    }
   ],
   "source": [
    "def summation_while(n):\n",
    "    ...\n",
    "\n",
    "summation_while(5)"
   ]
  },
  {
   "cell_type": "markdown",
   "id": "3159892b",
   "metadata": {},
   "source": [
    "## Functions as Abstractions"
   ]
  },
  {
   "cell_type": "code",
   "execution_count": 15,
   "id": "eeb64a72",
   "metadata": {},
   "outputs": [],
   "source": [
    "interest =  1 + 0.6 * 2\n",
    "interest2 =  1 + 0.9 * 4\n",
    "interest3 =  1 + 2.1 * 3"
   ]
  },
  {
   "cell_type": "code",
   "execution_count": 18,
   "id": "ad7f662a",
   "metadata": {},
   "outputs": [],
   "source": [
    "def interest(rate,  years):\n",
    "    total = 0\n",
    "    return 1 + rate * years"
   ]
  },
  {
   "cell_type": "code",
   "execution_count": 19,
   "id": "54a65f11",
   "metadata": {},
   "outputs": [
    {
     "data": {
      "text/plain": [
       "2.2"
      ]
     },
     "execution_count": 19,
     "metadata": {},
     "output_type": "execute_result"
    }
   ],
   "source": [
    "interest(0.6, 2)"
   ]
  },
  {
   "cell_type": "markdown",
   "id": "3b89265e",
   "metadata": {},
   "source": [
    "## Default Argument Values"
   ]
  },
  {
   "cell_type": "code",
   "execution_count": 22,
   "id": "85d59e0c",
   "metadata": {},
   "outputs": [],
   "source": [
    "def pressure(v, t, n=6.022e23):\n",
    "    k = 1.38e-23  # Boltzmann's constant\n",
    "    return n * k * t / v"
   ]
  },
  {
   "cell_type": "code",
   "execution_count": 23,
   "id": "bbdeb384",
   "metadata": {},
   "outputs": [
    {
     "data": {
      "text/plain": [
       "2269.974834"
      ]
     },
     "execution_count": 23,
     "metadata": {},
     "output_type": "execute_result"
    }
   ],
   "source": [
    "pressure(1, 273.15)"
   ]
  },
  {
   "cell_type": "code",
   "execution_count": 24,
   "id": "6df084cb",
   "metadata": {},
   "outputs": [
    {
     "data": {
      "text/plain": [
       "6809.924502"
      ]
     },
     "execution_count": 24,
     "metadata": {},
     "output_type": "execute_result"
    }
   ],
   "source": [
    "pressure(1, 273.15, 3 * 6.022e23)"
   ]
  },
  {
   "cell_type": "markdown",
   "id": "4a7e77f6",
   "metadata": {},
   "source": [
    "## Higher-Order Functions\n",
    "\n",
    "### Functions as Arguments"
   ]
  },
  {
   "cell_type": "code",
   "execution_count": 9,
   "id": "b61b6261",
   "metadata": {},
   "outputs": [],
   "source": [
    "def cube(k):\n",
    "    return k ** 3\n",
    "\n",
    "def summation(n, term):\n",
    "    total = 0\n",
    "    for k in np.arange(1, n+1):\n",
    "        total = total + term(k)\n",
    "    return total"
   ]
  },
  {
   "cell_type": "code",
   "execution_count": 10,
   "id": "27636632",
   "metadata": {},
   "outputs": [
    {
     "data": {
      "text/plain": [
       "225"
      ]
     },
     "execution_count": 10,
     "metadata": {},
     "output_type": "execute_result"
    }
   ],
   "source": [
    "summation(5, cube)"
   ]
  },
  {
   "cell_type": "code",
   "execution_count": null,
   "id": "d72ccc53",
   "metadata": {},
   "outputs": [],
   "source": [
    "def complex_fn(k):\n",
    "    ...\n",
    "\n",
    "summation(5, complex_fn)"
   ]
  },
  {
   "cell_type": "code",
   "execution_count": null,
   "id": "44573136",
   "metadata": {},
   "outputs": [],
   "source": [
    "def simple_fn(k):\n",
    "    ...\n",
    "    \n",
    "summation(5, simple_fn)"
   ]
  },
  {
   "cell_type": "markdown",
   "id": "fec974b5",
   "metadata": {},
   "source": [
    "### Default Functions as Arguments"
   ]
  },
  {
   "cell_type": "code",
   "execution_count": null,
   "id": "32243540",
   "metadata": {},
   "outputs": [],
   "source": [
    "# implement summation_w_default(5)"
   ]
  }
 ],
 "metadata": {
  "kernelspec": {
   "display_name": "Python 3 (ipykernel)",
   "language": "python",
   "name": "python3"
  },
  "language_info": {
   "codemirror_mode": {
    "name": "ipython",
    "version": 3
   },
   "file_extension": ".py",
   "mimetype": "text/x-python",
   "name": "python",
   "nbconvert_exporter": "python",
   "pygments_lexer": "ipython3",
   "version": "3.9.10"
  }
 },
 "nbformat": 4,
 "nbformat_minor": 5
}
