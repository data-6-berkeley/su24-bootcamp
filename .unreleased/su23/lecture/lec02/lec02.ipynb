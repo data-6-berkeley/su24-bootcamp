{
 "cells": [
  {
   "cell_type": "markdown",
   "id": "c5e0f26a",
   "metadata": {},
   "source": [
    "# Lecture 2 – Names and Booleans\n",
    "## Bootcamp, Summer 2023"
   ]
  },
  {
   "cell_type": "markdown",
   "id": "2cc97d80",
   "metadata": {},
   "source": [
    "## Names (Variables) Assignment Statements"
   ]
  },
  {
   "cell_type": "code",
   "execution_count": null,
   "id": "a18a2564",
   "metadata": {},
   "outputs": [],
   "source": [
    "x = 3"
   ]
  },
  {
   "cell_type": "code",
   "execution_count": null,
   "id": "7a63eaac",
   "metadata": {},
   "outputs": [],
   "source": [
    "x"
   ]
  },
  {
   "cell_type": "code",
   "execution_count": null,
   "id": "f6e2b566",
   "metadata": {},
   "outputs": [],
   "source": [
    "# A common format, to explore more in lab\n",
    "x = 3\n",
    "x"
   ]
  },
  {
   "cell_type": "markdown",
   "id": "fded9a66",
   "metadata": {},
   "source": [
    "<br/>\n",
    "\n",
    "The `=` in Python is not like the `=` in math!"
   ]
  },
  {
   "cell_type": "code",
   "execution_count": null,
   "id": "abee354c",
   "metadata": {},
   "outputs": [],
   "source": [
    "# syntax error\n",
    "3 = x"
   ]
  },
  {
   "cell_type": "code",
   "execution_count": null,
   "id": "b18b1f03",
   "metadata": {},
   "outputs": [],
   "source": [
    "x = 2\n",
    "x = x + 1\n",
    "x"
   ]
  },
  {
   "cell_type": "markdown",
   "id": "772b6a4d",
   "metadata": {},
   "source": [
    "<br/>\n",
    "\n",
    "### Quick Check\n",
    "\n",
    "For each of the below cells, what is the output?"
   ]
  },
  {
   "cell_type": "code",
   "execution_count": null,
   "id": "356b501e",
   "metadata": {},
   "outputs": [],
   "source": [
    "side_length = 5\n",
    "area = side_length ** 2\n",
    "side_length = side_length + 2"
   ]
  },
  {
   "cell_type": "code",
   "execution_count": null,
   "id": "ecf35904",
   "metadata": {},
   "outputs": [],
   "source": [
    "side_length"
   ]
  },
  {
   "cell_type": "code",
   "execution_count": null,
   "id": "14e22991",
   "metadata": {},
   "outputs": [],
   "source": [
    "area"
   ]
  },
  {
   "cell_type": "markdown",
   "id": "91da8490",
   "metadata": {},
   "source": [
    "<br/>"
   ]
  },
  {
   "cell_type": "code",
   "execution_count": null,
   "id": "37b0a452",
   "metadata": {},
   "outputs": [],
   "source": [
    "turtle + 5"
   ]
  },
  {
   "cell_type": "markdown",
   "id": "a045c4d9",
   "metadata": {},
   "source": [
    "### Typecasting"
   ]
  },
  {
   "cell_type": "code",
   "execution_count": null,
   "id": "d54383c8",
   "metadata": {},
   "outputs": [],
   "source": [
    "# If a float is passed: cuts off decimal\n",
    "int(3.92)"
   ]
  },
  {
   "cell_type": "code",
   "execution_count": null,
   "id": "8c1bd993",
   "metadata": {},
   "outputs": [],
   "source": [
    "int(-2.99)"
   ]
  },
  {
   "cell_type": "code",
   "execution_count": null,
   "id": "d1c5fdf6",
   "metadata": {},
   "outputs": [],
   "source": [
    "int(\"-5\")       "
   ]
  },
  {
   "cell_type": "code",
   "execution_count": null,
   "id": "8a056ac5",
   "metadata": {},
   "outputs": [],
   "source": [
    "# If a string is passed, it must represent an int\n",
    "int(\"41\")"
   ]
  },
  {
   "cell_type": "code",
   "execution_count": null,
   "id": "1ede928b",
   "metadata": {},
   "outputs": [],
   "source": [
    "float(3)"
   ]
  },
  {
   "cell_type": "code",
   "execution_count": null,
   "id": "41391527",
   "metadata": {},
   "outputs": [],
   "source": [
    "float(\"3.14159265\")"
   ]
  },
  {
   "cell_type": "code",
   "execution_count": null,
   "id": "439cf4fa",
   "metadata": {},
   "outputs": [],
   "source": [
    "float(-19.0)"
   ]
  },
  {
   "cell_type": "code",
   "execution_count": null,
   "id": "ea535e6c",
   "metadata": {},
   "outputs": [],
   "source": [
    "float(-14.0 + \"3.0\")"
   ]
  },
  {
   "cell_type": "code",
   "execution_count": null,
   "id": "5ededff0",
   "metadata": {},
   "outputs": [],
   "source": [
    "str(13 + 14 + 15/2)"
   ]
  },
  {
   "cell_type": "code",
   "execution_count": null,
   "id": "db963b2a",
   "metadata": {},
   "outputs": [],
   "source": [
    "str(\"1\")"
   ]
  },
  {
   "cell_type": "markdown",
   "id": "cac4f5e1",
   "metadata": {},
   "source": [
    "## Booleans"
   ]
  },
  {
   "cell_type": "code",
   "execution_count": null,
   "id": "8df8fad2",
   "metadata": {},
   "outputs": [],
   "source": [
    "food = True\n",
    "drink = True"
   ]
  },
  {
   "cell_type": "code",
   "execution_count": null,
   "id": "9e19f880",
   "metadata": {},
   "outputs": [],
   "source": [
    "not food or drink"
   ]
  },
  {
   "cell_type": "code",
   "execution_count": null,
   "id": "720bd480",
   "metadata": {},
   "outputs": [],
   "source": [
    "age = 45\n",
    "may_have_mobility_issues = (age >= 0 and age < 2)  or age > 90\n",
    "may_have_mobility_issues"
   ]
  }
 ],
 "metadata": {
  "kernelspec": {
   "display_name": "Python 3 (ipykernel)",
   "language": "python",
   "name": "python3"
  },
  "language_info": {
   "codemirror_mode": {
    "name": "ipython",
    "version": 3
   },
   "file_extension": ".py",
   "mimetype": "text/x-python",
   "name": "python",
   "nbconvert_exporter": "python",
   "pygments_lexer": "ipython3",
   "version": "3.11.3"
  }
 },
 "nbformat": 4,
 "nbformat_minor": 5
}
