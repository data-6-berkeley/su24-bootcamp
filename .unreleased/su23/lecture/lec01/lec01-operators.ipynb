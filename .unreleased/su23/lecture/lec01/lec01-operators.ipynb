{
 "cells": [
  {
   "cell_type": "code",
   "execution_count": null,
   "id": "bfd318ed",
   "metadata": {},
   "outputs": [],
   "source": [
    "10 * 2                 # evaluated, no output\n",
    "6 + (2 * (3 ** 2))     # evaluated, yes output"
   ]
  },
  {
   "cell_type": "markdown",
   "id": "babfeef6",
   "metadata": {},
   "source": [
    "This is a text cell! **Notice** how I can _format_ things\n",
    "\n",
    "### nicely\n",
    "\n",
    "`and also display`\n",
    "\n",
    "<img src=\"https://pngimg.com/uploads/mario/mario_PNG125.png\" width=200>"
   ]
  },
  {
   "cell_type": "markdown",
   "id": "814bf190",
   "metadata": {},
   "source": [
    "<br/><br/><br/><br/><br/><br/><br/>\n",
    "\n",
    "<br/><br/><br/><br/><br/><br/><br/>\n",
    "\n",
    "\n",
    "<br/><br/><br/><br/><br/><br/><br/>\n",
    "\n",
    "## Number types: `int` and `float`"
   ]
  },
  {
   "cell_type": "code",
   "execution_count": null,
   "id": "1ab7be45",
   "metadata": {},
   "outputs": [],
   "source": [
    "2 + 3"
   ]
  },
  {
   "cell_type": "code",
   "execution_count": null,
   "id": "f6047bd1",
   "metadata": {},
   "outputs": [],
   "source": [
    "10 / 2"
   ]
  },
  {
   "cell_type": "code",
   "execution_count": null,
   "id": "e2a2aed2",
   "metadata": {},
   "outputs": [],
   "source": [
    "3 + (2 ** 9) - 15 * 14 + 1 # change one number to float. what happens?"
   ]
  },
  {
   "cell_type": "markdown",
   "id": "20fbe623",
   "metadata": {},
   "source": [
    "<br/><br/>\n",
    "\n",
    "## Division"
   ]
  },
  {
   "cell_type": "code",
   "execution_count": 1,
   "id": "3e1d5d80",
   "metadata": {},
   "outputs": [
    {
     "data": {
      "text/plain": [
       "5.0"
      ]
     },
     "execution_count": 1,
     "metadata": {},
     "output_type": "execute_result"
    }
   ],
   "source": [
    "15 / 3"
   ]
  },
  {
   "cell_type": "code",
   "execution_count": 2,
   "id": "c80d1eab",
   "metadata": {},
   "outputs": [
    {
     "data": {
      "text/plain": [
       "5"
      ]
     },
     "execution_count": 2,
     "metadata": {},
     "output_type": "execute_result"
    }
   ],
   "source": [
    "15 // 3"
   ]
  },
  {
   "cell_type": "code",
   "execution_count": 15,
   "id": "0f1e1f68",
   "metadata": {},
   "outputs": [
    {
     "data": {
      "text/plain": [
       "0"
      ]
     },
     "execution_count": 15,
     "metadata": {},
     "output_type": "execute_result"
    }
   ],
   "source": [
    "15 % 3"
   ]
  },
  {
   "cell_type": "code",
   "execution_count": null,
   "id": "41f9ba01",
   "metadata": {},
   "outputs": [],
   "source": []
  },
  {
   "cell_type": "code",
   "execution_count": 12,
   "id": "e566c160",
   "metadata": {},
   "outputs": [
    {
     "data": {
      "text/plain": [
       "2.6666666666666665"
      ]
     },
     "execution_count": 12,
     "metadata": {},
     "output_type": "execute_result"
    }
   ],
   "source": [
    "16 / 6"
   ]
  },
  {
   "cell_type": "code",
   "execution_count": 13,
   "id": "0b5d01b4",
   "metadata": {},
   "outputs": [
    {
     "data": {
      "text/plain": [
       "2"
      ]
     },
     "execution_count": 13,
     "metadata": {},
     "output_type": "execute_result"
    }
   ],
   "source": [
    "16 // 6"
   ]
  },
  {
   "cell_type": "code",
   "execution_count": 14,
   "id": "f9688c2f",
   "metadata": {},
   "outputs": [
    {
     "data": {
      "text/plain": [
       "4"
      ]
     },
     "execution_count": 14,
     "metadata": {},
     "output_type": "execute_result"
    }
   ],
   "source": [
    "16 % 6"
   ]
  },
  {
   "cell_type": "markdown",
   "id": "0a62555a",
   "metadata": {},
   "source": [
    "<br/><br/>\n",
    "\n",
    "## Floating point"
   ]
  },
  {
   "cell_type": "code",
   "execution_count": 16,
   "id": "4203e941",
   "metadata": {},
   "outputs": [
    {
     "data": {
      "text/plain": [
       "0.6000000000000001"
      ]
     },
     "execution_count": 16,
     "metadata": {},
     "output_type": "execute_result"
    }
   ],
   "source": [
    "# Should be 0.6\n",
    "0.1 + 0.2 + 0.3"
   ]
  },
  {
   "cell_type": "code",
   "execution_count": 17,
   "id": "77fb1813",
   "metadata": {},
   "outputs": [
    {
     "data": {
      "text/plain": [
       "0.2"
      ]
     },
     "execution_count": 17,
     "metadata": {},
     "output_type": "execute_result"
    }
   ],
   "source": [
    "# Should be 0.2\n",
    "0.1 + 0.1"
   ]
  },
  {
   "cell_type": "code",
   "execution_count": 20,
   "id": "caf9f230",
   "metadata": {},
   "outputs": [
    {
     "data": {
      "text/plain": [
       "1.4000000000000001"
      ]
     },
     "execution_count": 20,
     "metadata": {},
     "output_type": "execute_result"
    }
   ],
   "source": [
    "# Should be 1.4\n",
    "0.1 + 0.1 + 0.1 + 1 + 0.1"
   ]
  },
  {
   "cell_type": "code",
   "execution_count": 21,
   "id": "6b21fb62",
   "metadata": {},
   "outputs": [
    {
     "data": {
      "text/plain": [
       "1.4"
      ]
     },
     "execution_count": 21,
     "metadata": {},
     "output_type": "execute_result"
    }
   ],
   "source": [
    "# Doesn't produce an error\n",
    "0.1 + 0.1 + 0.1 + 0.1 + 1"
   ]
  },
  {
   "cell_type": "markdown",
   "id": "5eaca216",
   "metadata": {},
   "source": [
    "<br/><br/>\n",
    "\n",
    "## Strings"
   ]
  },
  {
   "cell_type": "code",
   "execution_count": null,
   "id": "404ea8a5",
   "metadata": {},
   "outputs": [],
   "source": [
    "\"go \" + \"bears\" + \"!!!\""
   ]
  },
  {
   "cell_type": "code",
   "execution_count": null,
   "id": "2609eea9",
   "metadata": {},
   "outputs": [],
   "source": [
    "len(\"University of California, Berkeley\")"
   ]
  },
  {
   "cell_type": "markdown",
   "id": "011f41f1",
   "metadata": {},
   "source": [
    "<br/><br/>\n",
    "\n",
    "## Common Error Messages"
   ]
  },
  {
   "cell_type": "code",
   "execution_count": 22,
   "id": "7e1d7b69",
   "metadata": {},
   "outputs": [
    {
     "ename": "ZeroDivisionError",
     "evalue": "division by zero",
     "output_type": "error",
     "traceback": [
      "\u001b[0;31m---------------------------------------------------------------------------\u001b[0m",
      "\u001b[0;31mZeroDivisionError\u001b[0m                         Traceback (most recent call last)",
      "Input \u001b[0;32mIn [22]\u001b[0m, in \u001b[0;36m<module>\u001b[0;34m\u001b[0m\n\u001b[0;32m----> 1\u001b[0m \u001b[38;5;241;43m5\u001b[39;49m\u001b[38;5;241;43m/\u001b[39;49m\u001b[38;5;241;43m0\u001b[39;49m\n",
      "\u001b[0;31mZeroDivisionError\u001b[0m: division by zero"
     ]
    }
   ],
   "source": [
    "5/0"
   ]
  },
  {
   "cell_type": "code",
   "execution_count": 23,
   "id": "6009a53a",
   "metadata": {},
   "outputs": [
    {
     "ename": "SyntaxError",
     "evalue": "invalid syntax (4162224534.py, line 1)",
     "output_type": "error",
     "traceback": [
      "\u001b[0;36m  Input \u001b[0;32mIn [23]\u001b[0;36m\u001b[0m\n\u001b[0;31m    2 +\u001b[0m\n\u001b[0m       ^\u001b[0m\n\u001b[0;31mSyntaxError\u001b[0m\u001b[0;31m:\u001b[0m invalid syntax\n"
     ]
    }
   ],
   "source": [
    "2 +"
   ]
  },
  {
   "cell_type": "code",
   "execution_count": 24,
   "id": "f88a9df6",
   "metadata": {
    "scrolled": true
   },
   "outputs": [
    {
     "ename": "SyntaxError",
     "evalue": "invalid syntax (4045155691.py, line 1)",
     "output_type": "error",
     "traceback": [
      "\u001b[0;36m  Input \u001b[0;32mIn [24]\u001b[0;36m\u001b[0m\n\u001b[0;31m    3 ** / 4\u001b[0m\n\u001b[0m         ^\u001b[0m\n\u001b[0;31mSyntaxError\u001b[0m\u001b[0;31m:\u001b[0m invalid syntax\n"
     ]
    }
   ],
   "source": [
    "3 ** / 4"
   ]
  }
 ],
 "metadata": {
  "kernelspec": {
   "display_name": "Python 3 (ipykernel)",
   "language": "python",
   "name": "python3"
  },
  "language_info": {
   "codemirror_mode": {
    "name": "ipython",
    "version": 3
   },
   "file_extension": ".py",
   "mimetype": "text/x-python",
   "name": "python",
   "nbconvert_exporter": "python",
   "pygments_lexer": "ipython3",
   "version": "3.9.10"
  }
 },
 "nbformat": 4,
 "nbformat_minor": 5
}
