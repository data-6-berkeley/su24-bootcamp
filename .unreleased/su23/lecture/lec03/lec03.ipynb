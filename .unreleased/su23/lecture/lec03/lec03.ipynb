{
 "cells": [
  {
   "cell_type": "markdown",
   "id": "c5e0f26a",
   "metadata": {},
   "source": [
    "# Lecture 3 – Functions\n",
    "## Bootcamp, Summer 2023"
   ]
  },
  {
   "cell_type": "markdown",
   "id": "b0916606",
   "metadata": {},
   "source": [
    "## Functions"
   ]
  },
  {
   "cell_type": "code",
   "execution_count": null,
   "id": "63537e95",
   "metadata": {},
   "outputs": [],
   "source": [
    "def add(num1, num2):\n",
    "    return num1 + num2\n",
    "\n",
    "add(num1, num2)"
   ]
  },
  {
   "cell_type": "markdown",
   "id": "57da41b7",
   "metadata": {},
   "source": [
    "### Spot the Bug"
   ]
  },
  {
   "cell_type": "code",
   "execution_count": null,
   "id": "318133d2",
   "metadata": {},
   "outputs": [],
   "source": [
    "# question 1\n",
    "def add(num1, num2):\n",
    "    return tot\n",
    "    tot = num1 + num2\n",
    "\n",
    "tot = add(2, 4)"
   ]
  },
  {
   "cell_type": "code",
   "execution_count": null,
   "id": "4aea5049",
   "metadata": {},
   "outputs": [],
   "source": [
    "# question 2"
   ]
  },
  {
   "cell_type": "code",
   "execution_count": null,
   "id": "02d8a2ab",
   "metadata": {},
   "outputs": [],
   "source": [
    "# question 3\n",
    "def add(num1, num2):\n",
    "    tot = num1 + num2\n",
    "\n",
    "tot = add(2, 4)"
   ]
  },
  {
   "cell_type": "markdown",
   "id": "cac4f5e1",
   "metadata": {},
   "source": [
    "## More on Booleans"
   ]
  },
  {
   "cell_type": "code",
   "execution_count": null,
   "id": "850b9590",
   "metadata": {},
   "outputs": [],
   "source": [
    "def passed_class(grade):\n",
    "    return grade > 65\n"
   ]
  },
  {
   "cell_type": "code",
   "execution_count": null,
   "id": "b58a88bb",
   "metadata": {},
   "outputs": [],
   "source": [
    "def should_wear_jacket(is_rainy, is_windy):\n",
    "    return is_rainy or is_windy\n"
   ]
  }
 ],
 "metadata": {
  "kernelspec": {
   "display_name": "Python 3 (ipykernel)",
   "language": "python",
   "name": "python3"
  },
  "language_info": {
   "codemirror_mode": {
    "name": "ipython",
    "version": 3
   },
   "file_extension": ".py",
   "mimetype": "text/x-python",
   "name": "python",
   "nbconvert_exporter": "python",
   "pygments_lexer": "ipython3",
   "version": "3.11.3"
  }
 },
 "nbformat": 4,
 "nbformat_minor": 5
}
