{
 "cells": [
  {
   "cell_type": "code",
   "execution_count": null,
   "id": "e1dba3d9",
   "metadata": {},
   "outputs": [],
   "source": [
    "print(\"Hello, World!\")"
   ]
  },
  {
   "cell_type": "code",
   "execution_count": null,
   "id": "1accef52",
   "metadata": {},
   "outputs": [],
   "source": [
    "x = 3\n",
    "y = 4\n",
    "print(x, \"+\", y, \"is equal to\", x + y)"
   ]
  },
  {
   "cell_type": "code",
   "execution_count": null,
   "id": "f7c67d7f",
   "metadata": {
    "scrolled": true
   },
   "outputs": [],
   "source": [
    "polygon = \"square\"\n",
    "s = 4\n",
    "print(\"The area of a \" + polygon + \\\n",
    "      \" with side length \" + str(s) + \\\n",
    "      \" is \" + str(s ** 2) + \".\")"
   ]
  },
  {
   "cell_type": "code",
   "execution_count": null,
   "id": "2d188d25",
   "metadata": {},
   "outputs": [],
   "source": [
    "print(\"10x Biggest number:\")\n",
    "10 * max(5, 2, -1)"
   ]
  },
  {
   "cell_type": "markdown",
   "id": "194fe76b",
   "metadata": {},
   "source": [
    "### Quick Check 1"
   ]
  },
  {
   "cell_type": "code",
   "execution_count": null,
   "id": "994b4c55",
   "metadata": {},
   "outputs": [],
   "source": [
    "print(15)\n",
    "x = 3 + 4\n",
    "x\n",
    "print(14)\n",
    "-3"
   ]
  },
  {
   "cell_type": "markdown",
   "id": "e0be9c77",
   "metadata": {},
   "source": [
    "## `NoneType`"
   ]
  },
  {
   "cell_type": "code",
   "execution_count": null,
   "id": "d8e9dbe1",
   "metadata": {},
   "outputs": [],
   "source": [
    "my_var = None\n",
    "type(my_var)"
   ]
  },
  {
   "cell_type": "code",
   "execution_count": null,
   "id": "f60447d8",
   "metadata": {},
   "outputs": [],
   "source": [
    "# No cell output!\n",
    "my_var"
   ]
  },
  {
   "cell_type": "code",
   "execution_count": null,
   "id": "23fd5d85",
   "metadata": {
    "scrolled": true
   },
   "outputs": [],
   "source": [
    "# But it can be printed.\n",
    "print(my_var)"
   ]
  },
  {
   "cell_type": "markdown",
   "id": "7af0948c",
   "metadata": {},
   "source": [
    "### Quick check 2"
   ]
  },
  {
   "cell_type": "code",
   "execution_count": null,
   "id": "c14f44bd",
   "metadata": {},
   "outputs": [],
   "source": [
    "print(\"This value is\", print(1))"
   ]
  },
  {
   "cell_type": "markdown",
   "id": "3dfa4a3c",
   "metadata": {},
   "source": [
    "## Conditional Statements"
   ]
  },
  {
   "cell_type": "markdown",
   "id": "fd237557",
   "metadata": {},
   "source": [
    "`if` clause"
   ]
  },
  {
   "cell_type": "code",
   "execution_count": null,
   "id": "02241f97",
   "metadata": {},
   "outputs": [],
   "source": [
    "temperature = 20"
   ]
  },
  {
   "cell_type": "code",
   "execution_count": null,
   "id": "55fb1bab",
   "metadata": {
    "scrolled": true
   },
   "outputs": [],
   "source": [
    "clothing = \"shirt\"\n",
    "\n",
    "if temperature < 32:\n",
    "    clothing = \"jacket\"\n",
    "\n",
    "print(clothing)"
   ]
  },
  {
   "cell_type": "markdown",
   "id": "d304df08",
   "metadata": {},
   "source": [
    "`elif` clauses"
   ]
  },
  {
   "cell_type": "code",
   "execution_count": null,
   "id": "fd196e68",
   "metadata": {},
   "outputs": [],
   "source": [
    "clothing = \"shirt\" \n",
    "if temperature < 0:\n",
    "    clothing = \"snowsuit\"\n",
    "elif temperature < 32:\n",
    "    clothing = \"jacket\"\n",
    "\n",
    "print(clothing)"
   ]
  },
  {
   "cell_type": "markdown",
   "id": "099f6b18",
   "metadata": {},
   "source": [
    "`else` clause"
   ]
  },
  {
   "cell_type": "code",
   "execution_count": null,
   "id": "2fe079fe",
   "metadata": {},
   "outputs": [],
   "source": [
    "if temperature < 0:\n",
    "    clothing = \"snowsuit\"\n",
    "elif temperature < 32:\n",
    "    clothing = \"jacket\"\n",
    "else:\n",
    "    clothing = \"shirt\" \n",
    "\n",
    "print(clothing)"
   ]
  },
  {
   "cell_type": "markdown",
   "id": "352a7cca",
   "metadata": {},
   "source": [
    "<br/><br/><br/>\n",
    "\n",
    "https://pythontutor.com/render.html#code=num%20%3D%205%0A%0Aif%20num%20%3C%200%3A%0A%20%20%20%20sign%20%3D%20%22negative%22%0Aelif%20num%20%3E%200%3A%0A%20%20%20%20sign%20%3D%20%22positive%22%0Aelse%3A%0A%20%20%20%20sign%20%3D%20%22neutral%22%0A%0Aprint%28sign%29&cumulative=true&curInstr=0&heapPrimitives=nevernest&mode=display&origin=opt-frontend.js&py=3&rawInputLstJSON=%5B%5D&textReferences=false"
   ]
  },
  {
   "cell_type": "code",
   "execution_count": null,
   "id": "79c4aa7e",
   "metadata": {},
   "outputs": [],
   "source": [
    "num = 35"
   ]
  },
  {
   "cell_type": "code",
   "execution_count": null,
   "id": "31c3e879",
   "metadata": {},
   "outputs": [],
   "source": [
    "if num < 0:\n",
    "    sign = \"negative\"\n",
    "elif sign > 0:\n",
    "    sign = \"positive\"\n",
    "else:\n",
    "    sign = \"neutral\" \n",
    "\n",
    "print(sign)\n"
   ]
  },
  {
   "cell_type": "markdown",
   "id": "74295320",
   "metadata": {},
   "source": [
    "Conditional Statements in Functions\n",
    "\n",
    "1. "
   ]
  },
  {
   "cell_type": "code",
   "execution_count": null,
   "id": "59ede50e",
   "metadata": {},
   "outputs": [],
   "source": [
    "def get_number_sign1(num):\n",
    "    if num < 0:\n",
    "        sign = \"negative\"\n",
    "    elif sign > 0:\n",
    "        sign = \"positive\"\n",
    "    else:\n",
    "        sign = \"neutral\" \n",
    "    return sign\n"
   ]
  },
  {
   "cell_type": "code",
   "execution_count": null,
   "id": "2791b971",
   "metadata": {},
   "outputs": [],
   "source": [
    "get_number_sign1(50)"
   ]
  },
  {
   "cell_type": "markdown",
   "id": "ec52e202",
   "metadata": {},
   "source": [
    "<br/><br/><br/>\n",
    "\n",
    "2."
   ]
  },
  {
   "cell_type": "code",
   "execution_count": null,
   "id": "ac4381a8",
   "metadata": {},
   "outputs": [],
   "source": [
    "def get_number_sign2(num):\n",
    "    if num < 0:\n",
    "        return \"negative\"\n",
    "    elif sign > 0:\n",
    "        return \"positive\"\n",
    "    else:\n",
    "        return \"neutral\" \n",
    "    return \"made it!\"\n"
   ]
  },
  {
   "cell_type": "code",
   "execution_count": null,
   "id": "9896a211",
   "metadata": {},
   "outputs": [],
   "source": [
    "get_number_sign2(50)"
   ]
  },
  {
   "cell_type": "code",
   "execution_count": null,
   "id": "c7bf85db",
   "metadata": {},
   "outputs": [],
   "source": []
  }
 ],
 "metadata": {
  "kernelspec": {
   "display_name": "Python 3 (ipykernel)",
   "language": "python",
   "name": "python3"
  },
  "language_info": {
   "codemirror_mode": {
    "name": "ipython",
    "version": 3
   },
   "file_extension": ".py",
   "mimetype": "text/x-python",
   "name": "python",
   "nbconvert_exporter": "python",
   "pygments_lexer": "ipython3",
   "version": "3.9.10"
  }
 },
 "nbformat": 4,
 "nbformat_minor": 5
}
