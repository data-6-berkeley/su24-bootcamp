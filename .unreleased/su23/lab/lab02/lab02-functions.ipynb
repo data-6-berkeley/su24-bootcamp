{
 "cells": [
  {
   "cell_type": "raw",
   "id": "89e14474",
   "metadata": {},
   "source": [
    "# ASSIGNMENT CONFIG\n",
    "generate: true\n",
    "export_cell:\n",
    "    run_tests: true\n",
    "    pdf: false\n",
    "seed:\n",
    "    variable: rng_seed\n",
    "    autograder_value: 42\n",
    "    student_value: 90"
   ]
  },
  {
   "cell_type": "markdown",
   "id": "26ad4262",
   "metadata": {},
   "source": [
    "# Coding Bootcamp Lab 2: Functions\n",
    "\n",
    "## Tuskegee Scholars Summer 2023\n",
    "\n",
    "Material is from  [CS 88](https://cs88-website.github.io/sp22/) and [CS 61A](https://cs61a.org/).\n",
    "\n",
    "Goals of Lab 2:\n",
    "* Write functions\n",
    "* Trace through environment diagrams involving functions\n",
    "* Write boolean functions (more practice with boolean expressions)\n",
    "\n",
    "If you haven't paired up/teamed up with anyone yet, we strongly encourage you to for this lab! This lab is longer than the other labs and is intentionally written more like \"puzzles.\" So grab a friend, your computer, a piece of paper, and a pen, and let's get started :-)\n",
    "\n",
    "P.S. -- Feel free to ask your partner what they had for lunch. Maybe you'll discover something new..."
   ]
  },
  {
   "cell_type": "markdown",
   "id": "22efb439",
   "metadata": {},
   "source": [
    "\n",
    "<br/><br/>\n",
    "<hr style=\"border: 5px solid #003262;\" />\n",
    "<hr style=\"border: 1px solid #fdb515;\" />\n",
    "\n",
    "# Part 1: Functions, Autograders, and Environment Diagrams\n",
    "\n",
    "If we want to execute a series of statements over and over, we can abstract them away into a **function** to avoid repeating code.\n",
    "\n",
    "For example, let's say we want to know the results of multiplying the numbers 1-3 by 3 and then adding 2 to it. Here's one way to do it:"
   ]
  },
  {
   "cell_type": "code",
   "execution_count": null,
   "id": "6416fc0f",
   "metadata": {},
   "outputs": [],
   "source": [
    "1 * 3 + 2"
   ]
  },
  {
   "cell_type": "code",
   "execution_count": null,
   "id": "bded1623",
   "metadata": {},
   "outputs": [],
   "source": [
    "2 * 3 + 2"
   ]
  },
  {
   "cell_type": "code",
   "execution_count": null,
   "id": "36abbe01",
   "metadata": {},
   "outputs": [],
   "source": [
    "3 * 3 + 2"
   ]
  },
  {
   "cell_type": "markdown",
   "id": "2e5909d4",
   "metadata": {},
   "source": [
    "\n",
    "If we wanted to do this with a larger set of numbers, that'd be a lot of repeated code! Let's write a function to capture this operation given any input number.\n"
   ]
  },
  {
   "cell_type": "code",
   "execution_count": null,
   "id": "6d1a35ec",
   "metadata": {},
   "outputs": [],
   "source": [
    "def foo(x):\n",
    "    return x * 3 + 2"
   ]
  },
  {
   "cell_type": "markdown",
   "id": "9deb4309",
   "metadata": {},
   "source": [
    "\n",
    "This function, called foo, takes in a single **argument** and will **return** the result of multiplying that argument by 3 and adding 2.\n",
    "\n",
    "Now we can **call** this function whenever we want this operation to be done:"
   ]
  },
  {
   "cell_type": "code",
   "execution_count": null,
   "id": "5a647acb",
   "metadata": {},
   "outputs": [],
   "source": [
    "foo(1)"
   ]
  },
  {
   "cell_type": "code",
   "execution_count": null,
   "id": "46896423",
   "metadata": {},
   "outputs": [],
   "source": [
    "foo(2)"
   ]
  },
  {
   "cell_type": "code",
   "execution_count": null,
   "id": "e07bcdd6",
   "metadata": {},
   "outputs": [],
   "source": [
    "foo(1000)"
   ]
  },
  {
   "cell_type": "markdown",
   "id": "09dae23c",
   "metadata": {},
   "source": [
    "Applying a function to some arguments is done with a **call expression.**"
   ]
  },
  {
   "cell_type": "markdown",
   "id": "d958a8f7",
   "metadata": {},
   "source": [
    "\n",
    "<br/><br/>\n",
    "\n",
    "\n",
    "## Otter Grader\n",
    "\n",
    "In this lab, we are introducing a new Jupyter system that you will use extensively in Data 6: **Otter Grader.** Otter grader is an autograder (yes, the similar pronunciation is intentional), meaning that it checks your Python code for correctness.\n",
    "\n",
    "If you haven’t already, make sure you have run the cell at the top of this notebook to initialize Otter.\n",
    "\n",
    "With Otter, you can start using the built-in tests to check whether your work is correct. Sometimes, there are multiple tests for a single question, and passing all of them is required to receive credit for the question. Please don't change the contents of the test cells.\n",
    "\n",
    "Go ahead and attempt the question below. Running the cell directly after it (`grader.check(...)`) will test whether you have implemented `ilovedata()` correctly. If you haven't, this test will tell you the correct answer."
   ]
  },
  {
   "cell_type": "raw",
   "id": "0c9b466b",
   "metadata": {},
   "source": [
    "# BEGIN QUESTION\n",
    "name: q1\n",
    "points: 2"
   ]
  },
  {
   "cell_type": "markdown",
   "id": "5e80787a",
   "metadata": {},
   "source": [
    "\n",
    "---\n",
    "\n",
    "# Question 1\n",
    "\n",
    "Complete the below question `ilovedata()` below such that it returns the string `\"I love Data Science!\"`."
   ]
  },
  {
   "cell_type": "raw",
   "id": "e8c30ad1",
   "metadata": {},
   "source": [
    "# BEGIN SOLUTION"
   ]
  },
  {
   "cell_type": "code",
   "execution_count": 12,
   "id": "245ed595",
   "metadata": {},
   "outputs": [
    {
     "data": {
      "text/plain": [
       "'I love Data Science!'"
      ]
     },
     "execution_count": 12,
     "metadata": {},
     "output_type": "execute_result"
    }
   ],
   "source": [
    "def ilovedata():\n",
    "    # BEGIN SOLUTION\n",
    "    return \"I love Data Science!\"\n",
    "    # END SOLUTION\n",
    "\n",
    "# We've put this line in this cell \n",
    "# so that it will print the value you've given to seconds_in_a_decade when you run it.  \n",
    "# You don't need to change this.\n",
    "ilovedata()"
   ]
  },
  {
   "cell_type": "raw",
   "id": "14b7b5b8",
   "metadata": {},
   "source": [
    "# END SOLUTION"
   ]
  },
  {
   "cell_type": "raw",
   "id": "88e71e12",
   "metadata": {},
   "source": [
    "# BEGIN TESTS"
   ]
  },
  {
   "cell_type": "code",
   "execution_count": 13,
   "id": "78653bdf",
   "metadata": {},
   "outputs": [
    {
     "data": {
      "text/plain": [
       "True"
      ]
     },
     "execution_count": 13,
     "metadata": {},
     "output_type": "execute_result"
    }
   ],
   "source": [
    "ilovedata() == \"I love Data Science!\""
   ]
  },
  {
   "cell_type": "code",
   "execution_count": 14,
   "id": "439fcd0f",
   "metadata": {},
   "outputs": [
    {
     "data": {
      "text/plain": [
       "True"
      ]
     },
     "execution_count": 14,
     "metadata": {},
     "output_type": "execute_result"
    }
   ],
   "source": [
    "len(ilovedata()) == len(\"I love Data Science!\")"
   ]
  },
  {
   "cell_type": "raw",
   "id": "9c19a16d",
   "metadata": {},
   "source": [
    "# END TESTS"
   ]
  },
  {
   "cell_type": "raw",
   "id": "8584701b",
   "metadata": {},
   "source": [
    "# END QUESTION"
   ]
  },
  {
   "cell_type": "markdown",
   "id": "9165bd2a",
   "metadata": {},
   "source": [
    "<br/><br/>\n",
    "\n",
    "\n",
    "## More Environment Diagrams\n",
    "\n",
    "From [CS 61A Discussion 01](https://cs61a.org/disc/disc01/).\n",
    "\n",
    "Let's come back to the environment diagram. It is a visual way of understanding how Python works with names (i.e., variables) and function calls.\n",
    "\n",
    "One key idea in environment diagrams is the **frame**. A frame helps us keep track of what variables (i.e., names) have been defined in the current execution environment, and what values they hold. The frame we start off with when executing a program from scratch is what we call the **Global frame**. Later, we'll get into how new frames are created and how they may depend on their parent frame.\n",
    "\n",
    "<br/>\n",
    "\n",
    "---\n",
    "\n",
    "# Question 2: Discussing and Tracing a Program\n",
    "\n",
    "Here's a short program and its corresponding diagram:\n",
    "\n",
    "**Python Tutor** [click here](https://pythontutor.com/render.html#code=x%20%3D%203%0A%0Adef%20square%28x%29%3A%0A%20%20%20%20return%20x%20*%20x%0A%20%20%20%20%0Ax%20%3D%20square%282%29%0Ax&cumulative=false&curInstr=0&heapPrimitives=nevernest&mode=display&origin=opt-frontend.js&py=3&rawInputLstJSON=%5B%5D&textReferences=false)"
   ]
  },
  {
   "cell_type": "code",
   "execution_count": null,
   "id": "2591ed4e",
   "metadata": {},
   "outputs": [],
   "source": [
    "x = 3\n",
    "\n",
    "def square(x):\n",
    "    return x * x\n",
    "\n",
    "x = square(2)\n",
    "x"
   ]
  },
  {
   "cell_type": "markdown",
   "id": "aa764be4",
   "metadata": {},
   "source": [
    "With your partner and the Python Tutor:\n",
    "* Trace through the above program.\n",
    "* What is the final value of `x`?\n",
    "* Identify the different frames that are created.\n",
    "* How is the return value of the `square` function visualized in the environment diagram?\n",
    "* Identify all the values that the name `x` binds to. Compare and contrast. How are they different?"
   ]
  },
  {
   "cell_type": "markdown",
   "id": "b3fe63ab",
   "metadata": {},
   "source": [
    "\n",
    "<br/><br/>\n",
    "<hr style=\"border: 5px solid #003262;\" />\n",
    "<hr style=\"border: 1px solid #fdb515;\" />\n",
    "\n",
    "# Part 2: Function Practice\n",
    "\n",
    "From [CS 61A Lecture 02](https://cs61a.org/assets/slides/02-Functions.html#/39).\n",
    "\n",
    "To improve coding skills, you will need to *practice, practice, practice.*\n",
    "\n",
    "Many (if not all) of the programs below can be written with a single line in the body, like so:\n",
    "\n",
    "```\n",
    "def some_function(arg):\n",
    "    return some_expression_with_arg\n",
    "```\n",
    "\n",
    "However, sometimes you will find it easier to create *intermediate* assignment statements to break up your work, like so:\n",
    "\n",
    "```\n",
    "def some_function(arg):\n",
    "    intermediate_name = some_expression_with_arg\n",
    "    another_intermediate_name = some_expression_with_intermediate_name_and_arg\n",
    "    return some_final_expression\n",
    "```\n",
    "\n",
    "If you follow the latter path, challenge yourself to edit your code so that it fits in one line! Overall, *it is easier to fix messy code that works than to start from a completely blank slate.* (Just like writing essays for humanities courses--ideas are hard, and editing is easier.) So just take your first step, and revise it afterwards!\n",
    "\n",
    "<br/>\n",
    "\n",
    "Here are some tips for each exercise below:\n",
    "* First, start from the arguments (do you need any?).\n",
    "* Then, think about the return value. What type is it?\n",
    "* Then, think about the logic to meet the problem specification\n",
    "* Finally, look back over your code to see if it can be simplified."
   ]
  },
  {
   "cell_type": "raw",
   "id": "a8f43fa5",
   "metadata": {},
   "source": [
    "# BEGIN QUESTION\n",
    "name: q3\n",
    "points: 2"
   ]
  },
  {
   "cell_type": "markdown",
   "id": "e2293429",
   "metadata": {},
   "source": [
    "<br/><br/>\n",
    "\n",
    "---\n",
    "\n",
    "# Question 3: Calculate Dog Age\n",
    "\n",
    "You know how old a dog is in human years, but what about dog years? Calculate it!\n",
    "\n",
    "Write a function named `calculate_dog_age` that:\n",
    "* takes 1 argument: a dog's age in human years.\n",
    "* calculates the dog's age based on the conversion rate of 1 human year to 7 dog years.\n",
    "* returns the age in dog years.\n",
    "\n",
    "Your implementation should correctly evaluate the following:\n",
    "\n",
    "```\n",
    "calculate_dog_age(1)   # 7\n",
    "calculate_dog_age(0.5) # 3.5\n",
    "calculate_dog_age(12)  # 84\n",
    "```"
   ]
  },
  {
   "cell_type": "raw",
   "id": "30c11ace",
   "metadata": {},
   "source": [
    "# BEGIN SOLUTION"
   ]
  },
  {
   "cell_type": "code",
   "execution_count": 52,
   "id": "9d88dfb8",
   "metadata": {},
   "outputs": [
    {
     "data": {
      "text/plain": [
       "7"
      ]
     },
     "execution_count": 52,
     "metadata": {},
     "output_type": "execute_result"
    }
   ],
   "source": [
    "def calculate_dog_age(years):\n",
    "    return years * 7 # SOLUTION\n",
    "\n",
    "calculate_dog_age(1)"
   ]
  },
  {
   "cell_type": "raw",
   "id": "4d2907fe",
   "metadata": {},
   "source": [
    "# END SOLUTION"
   ]
  },
  {
   "cell_type": "raw",
   "id": "1c6e13cb",
   "metadata": {},
   "source": [
    "# BEGIN TESTS"
   ]
  },
  {
   "cell_type": "code",
   "execution_count": 18,
   "id": "79915c37",
   "metadata": {},
   "outputs": [
    {
     "data": {
      "text/plain": [
       "True"
      ]
     },
     "execution_count": 18,
     "metadata": {},
     "output_type": "execute_result"
    }
   ],
   "source": [
    "calculate_dog_age(1) == 7"
   ]
  },
  {
   "cell_type": "code",
   "execution_count": 19,
   "id": "0736f6f3",
   "metadata": {},
   "outputs": [
    {
     "data": {
      "text/plain": [
       "True"
      ]
     },
     "execution_count": 19,
     "metadata": {},
     "output_type": "execute_result"
    }
   ],
   "source": [
    "calculate_dog_age(0.5) == 3.5"
   ]
  },
  {
   "cell_type": "code",
   "execution_count": 20,
   "id": "0423870b",
   "metadata": {},
   "outputs": [
    {
     "data": {
      "text/plain": [
       "True"
      ]
     },
     "execution_count": 20,
     "metadata": {},
     "output_type": "execute_result"
    }
   ],
   "source": [
    "calculate_dog_age(12) == 84"
   ]
  },
  {
   "cell_type": "raw",
   "id": "b521b8a1",
   "metadata": {},
   "source": [
    "# END TESTS"
   ]
  },
  {
   "cell_type": "raw",
   "id": "2124e12b",
   "metadata": {},
   "source": [
    "# END QUESTION"
   ]
  },
  {
   "cell_type": "raw",
   "id": "8cfdc176",
   "metadata": {},
   "source": [
    "# BEGIN QUESTION\n",
    "name: q4\n",
    "points: 2"
   ]
  },
  {
   "cell_type": "markdown",
   "id": "db989ade",
   "metadata": {},
   "source": [
    "<br/><br/>\n",
    "\n",
    "---\n",
    "\n",
    "# Question 4: Fortune Teller\n",
    "\n",
    "Why pay a fortune teller when you can just program your fortune yourself?\n",
    "\n",
    "Write a function named `tell_fortune` that:\n",
    "* takes 3 arguments: job title, partner's name, geographic location.\n",
    "* returns a fortune of the form: 'You will be a {job_title} in {location} living with {partner}.'\n",
    "**Tip**: If your line of code is getting long, you can split up the line\n",
    "by using `\\` (the backslash character, located above the <Enter> key on a U.S. keyboard) between values in an expression. For example,\n",
    "    \n",
    "    \"this super long string yaddayadda blah blah blah\"\n",
    "    \n",
    "turns into (using the concatenator operator `+`)\n",
    "    \n",
    "    \"this super long string \" + \\\n",
    "    \"yadda yadda blah blah blah\"\n",
    "    \n",
    "Note the space at the end of `string `! Why do we keep it?\n",
    "    \n",
    "<br/>\n",
    "    \n",
    "\n",
    "Your implementation should correctly evaluate the following:\n",
    "\n",
    "```\n",
    "tell_fortune('football player', 'Spain', 'Shakira') # 'You will be a football player in Spain living with Shakira.'\n",
    "tell_fortune('farmer', 'Kansas', 'C3PO') # 'You will be a farmer in Kansas living with C3PO.'\n",
    "tell_fortune('Elvis Impersonator', 'Russia', 'Karl the Fog') # 'You will be a Elvis Impersonator in Russia living with Karl the Fog.'\n",
    "```\n"
   ]
  },
  {
   "cell_type": "raw",
   "id": "6cce0aa1",
   "metadata": {},
   "source": [
    "# BEGIN SOLUTION"
   ]
  },
  {
   "cell_type": "code",
   "execution_count": 54,
   "id": "9e263fc0",
   "metadata": {},
   "outputs": [
    {
     "data": {
      "text/plain": [
       "'You will be a football player in Spain living with Shakira.'"
      ]
     },
     "execution_count": 54,
     "metadata": {},
     "output_type": "execute_result"
    }
   ],
   "source": [
    "def tell_fortune(job_title, location, partner):\n",
    "    return \"You will be a \" + job_title + \" in \" + location + \" living with \" + partner + \".\" # SOLUTION\n",
    "\n",
    "# edit the below line as needed to test your function\n",
    "tell_fortune('football player', 'Spain', 'Shakira') "
   ]
  },
  {
   "cell_type": "raw",
   "id": "425071c6",
   "metadata": {},
   "source": [
    "# END SOLUTION"
   ]
  },
  {
   "cell_type": "raw",
   "id": "226ff336",
   "metadata": {},
   "source": [
    "# BEGIN TESTS"
   ]
  },
  {
   "cell_type": "code",
   "execution_count": 50,
   "id": "c281c486",
   "metadata": {},
   "outputs": [
    {
     "data": {
      "text/plain": [
       "True"
      ]
     },
     "execution_count": 50,
     "metadata": {},
     "output_type": "execute_result"
    }
   ],
   "source": [
    "tell_fortune('football player', 'Spain', 'Shakira') == 'You will be a football player in Spain living with Shakira.'"
   ]
  },
  {
   "cell_type": "code",
   "execution_count": 15,
   "id": "d1e6fad3",
   "metadata": {},
   "outputs": [
    {
     "data": {
      "text/plain": [
       "True"
      ]
     },
     "execution_count": 15,
     "metadata": {},
     "output_type": "execute_result"
    }
   ],
   "source": [
    "tell_fortune('farmer', 'Kansas', 'C3PO') == 'You will be a farmer in Kansas living with C3PO.'"
   ]
  },
  {
   "cell_type": "code",
   "execution_count": 16,
   "id": "5d4e469d",
   "metadata": {},
   "outputs": [
    {
     "data": {
      "text/plain": [
       "True"
      ]
     },
     "execution_count": 16,
     "metadata": {},
     "output_type": "execute_result"
    }
   ],
   "source": [
    "tell_fortune('Elvis Impersonator', 'Russia', 'Karl the Fog') == 'You will be a Elvis Impersonator in Russia living with Karl the Fog.'"
   ]
  },
  {
   "cell_type": "raw",
   "id": "01453141",
   "metadata": {},
   "source": [
    "# END TESTS"
   ]
  },
  {
   "cell_type": "raw",
   "id": "edb924da",
   "metadata": {},
   "source": [
    "# END QUESTION"
   ]
  },
  {
   "cell_type": "raw",
   "id": "66cc0424",
   "metadata": {},
   "source": [
    "# BEGIN QUESTION\n",
    "name: q5a\n",
    "points: 2"
   ]
  },
  {
   "cell_type": "markdown",
   "id": "340e6eba",
   "metadata": {},
   "source": [
    "<br/><br/>\n",
    "\n",
    "---\n",
    "\n",
    "# Question 5: Lifetime Supply\n",
    "\n",
    "## Question 5a\n",
    "\n",
    "Ever wonder how much a \"lifetime supply\" of your favorite snack is? Wonder no more!\n",
    "\n",
    "Write a function named `calculate_supply` that:\n",
    "* takes 2 arguments: age, amount per day.\n",
    "* calculates the amount consumed for rest of the life (based on a constant max age of 81).*\n",
    "* returns the result.\n",
    "\n",
    "**Hint**: Assume each year has exactly 365 days (no leap years).\n",
    "\n",
    "\\*Side note unrelated to the coding question: This max age is higher than the average life expectancy in the U.S; check out the [World bank](https://data.worldbank.org/indicator/SP.DYN.LE00.IN) for average life expectancy per country as of 2020.\n",
    "\n",
    "\n",
    "\n",
    "Your implementation should correctly evaluate the following:\n",
    "```\n",
    "calculate_supply(80, 1) # 365\n",
    "calculate_supply(80, 2) # 730\n",
    "calculate_supply(36, 3) # 49275\n",
    "```"
   ]
  },
  {
   "cell_type": "raw",
   "id": "695020c5",
   "metadata": {},
   "source": [
    "# BEGIN SOLUTION"
   ]
  },
  {
   "cell_type": "code",
   "execution_count": 49,
   "id": "f14777ed",
   "metadata": {},
   "outputs": [
    {
     "data": {
      "text/plain": [
       "365"
      ]
     },
     "execution_count": 49,
     "metadata": {},
     "output_type": "execute_result"
    }
   ],
   "source": [
    "\"\"\" # BEGIN PROMPT\n",
    "# This def statement may be incomplete...\n",
    "def calculate_supply():\n",
    "    return ...\n",
    "\"\"\" # END PROMPT\n",
    "\n",
    "# BEGIN SOLUTION NO PROMPT\n",
    "def calculate_supply(age, amount_per_day):\n",
    "    return (81 - age)*amount_per_day*365\n",
    "# END SOLUTION\n",
    "\n",
    "# edit the below line as needed to test your function\n",
    "calculate_supply(80, 1)"
   ]
  },
  {
   "cell_type": "raw",
   "id": "b8f522bd",
   "metadata": {},
   "source": [
    "# END SOLUTION"
   ]
  },
  {
   "cell_type": "raw",
   "id": "d4b26d93",
   "metadata": {},
   "source": [
    "# BEGIN TESTS"
   ]
  },
  {
   "cell_type": "code",
   "execution_count": 26,
   "id": "c61fdb40",
   "metadata": {},
   "outputs": [
    {
     "data": {
      "text/plain": [
       "True"
      ]
     },
     "execution_count": 26,
     "metadata": {},
     "output_type": "execute_result"
    }
   ],
   "source": [
    "calculate_supply(80, 1) == 365"
   ]
  },
  {
   "cell_type": "code",
   "execution_count": 27,
   "id": "daf0098d",
   "metadata": {},
   "outputs": [
    {
     "data": {
      "text/plain": [
       "True"
      ]
     },
     "execution_count": 27,
     "metadata": {},
     "output_type": "execute_result"
    }
   ],
   "source": [
    "calculate_supply(80, 2) == 730"
   ]
  },
  {
   "cell_type": "code",
   "execution_count": 28,
   "id": "66b9c99e",
   "metadata": {},
   "outputs": [
    {
     "data": {
      "text/plain": [
       "True"
      ]
     },
     "execution_count": 28,
     "metadata": {},
     "output_type": "execute_result"
    }
   ],
   "source": [
    "calculate_supply(36, 3) == 49275"
   ]
  },
  {
   "cell_type": "raw",
   "id": "0a802914",
   "metadata": {},
   "source": [
    "# END TESTS"
   ]
  },
  {
   "cell_type": "raw",
   "id": "ccdd16fe",
   "metadata": {},
   "source": [
    "# END QUESTION"
   ]
  },
  {
   "cell_type": "raw",
   "id": "2fcd9196",
   "metadata": {},
   "source": [
    "# BEGIN QUESTION\n",
    "name: q5b\n",
    "points: 2"
   ]
  },
  {
   "cell_type": "markdown",
   "id": "404e1342",
   "metadata": {},
   "source": [
    "---\n",
    "\n",
    "## Question 5b\n",
    "\n",
    "Repeat Question 5a, but accept floating point values for amount per day, and round the result up to an integer.\n",
    "\n",
    "**Hint**: Should you use `/`, `//`, `round()`, `int()`, or something else?\n",
    "\n",
    "\n",
    "Your implementation should correctly evaluate the following:\n",
    "```\n",
    "calculate_supply_bonus(80, 1) # 365\n",
    "calculate_supply_bonus(80, 2) # 730\n",
    "calculate_supply_bonus(36, 3) # 49275\n",
    "calculate_supply(37, 2.17) # 34850\n",
    "```"
   ]
  },
  {
   "cell_type": "raw",
   "id": "955220e3",
   "metadata": {},
   "source": [
    "# BEGIN SOLUTION"
   ]
  },
  {
   "cell_type": "code",
   "execution_count": 48,
   "id": "364774c2",
   "metadata": {},
   "outputs": [
    {
     "data": {
      "text/plain": [
       "34850"
      ]
     },
     "execution_count": 48,
     "metadata": {},
     "output_type": "execute_result"
    }
   ],
   "source": [
    "\"\"\" # BEGIN PROMPT\n",
    "# This def statement may be incomplete...\n",
    "def calculate_supply_bonus():\n",
    "    return ...\n",
    "\"\"\" # END PROMPT\n",
    "\n",
    "# BEGIN SOLUTION NO PROMPT\n",
    "def calculate_supply_bonus(age, amount_per_day):\n",
    "    return round((81 - age)*amount_per_day*365)\n",
    "# END SOLUTION\n",
    "\n",
    "# edit the below line as needed to test your function\n",
    "calculate_supply_bonus(37, 2.17)"
   ]
  },
  {
   "cell_type": "raw",
   "id": "c286c0e7",
   "metadata": {},
   "source": [
    "# END SOLUTION"
   ]
  },
  {
   "cell_type": "raw",
   "id": "6f2b0402",
   "metadata": {},
   "source": [
    "# BEGIN TESTS"
   ]
  },
  {
   "cell_type": "code",
   "execution_count": 30,
   "id": "f57e8eef",
   "metadata": {},
   "outputs": [
    {
     "data": {
      "text/plain": [
       "True"
      ]
     },
     "execution_count": 30,
     "metadata": {},
     "output_type": "execute_result"
    }
   ],
   "source": [
    "calculate_supply_bonus(80, 1) == 365"
   ]
  },
  {
   "cell_type": "code",
   "execution_count": 31,
   "id": "f2f27db2",
   "metadata": {},
   "outputs": [
    {
     "data": {
      "text/plain": [
       "True"
      ]
     },
     "execution_count": 31,
     "metadata": {},
     "output_type": "execute_result"
    }
   ],
   "source": [
    "calculate_supply_bonus(80, 2) == 730"
   ]
  },
  {
   "cell_type": "code",
   "execution_count": 32,
   "id": "cc76487c",
   "metadata": {},
   "outputs": [
    {
     "data": {
      "text/plain": [
       "True"
      ]
     },
     "execution_count": 32,
     "metadata": {},
     "output_type": "execute_result"
    }
   ],
   "source": [
    "calculate_supply_bonus(36, 3) == 49275"
   ]
  },
  {
   "cell_type": "code",
   "execution_count": 34,
   "id": "99427f32",
   "metadata": {},
   "outputs": [
    {
     "data": {
      "text/plain": [
       "True"
      ]
     },
     "execution_count": 34,
     "metadata": {},
     "output_type": "execute_result"
    }
   ],
   "source": [
    "calculate_supply_bonus(37, 2.17) == 34850"
   ]
  },
  {
   "cell_type": "raw",
   "id": "4127b537",
   "metadata": {},
   "source": [
    "# END TESTS"
   ]
  },
  {
   "cell_type": "raw",
   "id": "ae56b162",
   "metadata": {},
   "source": [
    "# END QUESTION"
   ]
  },
  {
   "cell_type": "markdown",
   "id": "d564aa9f",
   "metadata": {},
   "source": [
    "\n",
    "<br/><br/>\n",
    "<hr style=\"border: 5px solid #003262;\" />\n",
    "<hr style=\"border: 1px solid #fdb515;\" />\n",
    "\n",
    "# Part 3: Still More Functions, but Now With Booleans\n",
    "\n",
    "From [CS 61A Lecture 03](https://cs61a.org/assets/slides/03-Control.html#/19) and [CS 88 Lab 01](https://cs88-website.github.io/sp22/lab/lab01/)."
   ]
  },
  {
   "cell_type": "raw",
   "id": "bb36581c",
   "metadata": {},
   "source": [
    "# BEGIN QUESTION\n",
    "name: q6\n",
    "points: 2"
   ]
  },
  {
   "cell_type": "markdown",
   "id": "fc244f44",
   "metadata": {},
   "source": [
    "# Question 6: Fix the Bug\n",
    "\n",
    "The `both_positive()` function is supposed to return `True` if both `x` and `y` are positive (and `False` otherwise), but it doesn't work!\n",
    "\n",
    "Figure out what is wrong and fix the bugs. A correct implementation should evaluate the following:\n",
    "```\n",
    "both_positive(-1, 1)   # False\n",
    "both_positive(1, 1)    # True\n",
    "```"
   ]
  },
  {
   "cell_type": "raw",
   "id": "e8e0b95d",
   "metadata": {},
   "source": [
    "# BEGIN SOLUTION"
   ]
  },
  {
   "cell_type": "code",
   "execution_count": 18,
   "id": "8c9751c6",
   "metadata": {},
   "outputs": [
    {
     "data": {
      "text/plain": [
       "False"
      ]
     },
     "execution_count": 18,
     "metadata": {},
     "output_type": "execute_result"
    }
   ],
   "source": [
    "def both_positive(x, y):\n",
    "    # BEGIN SOLUTION NO PROMPT\n",
    "    return (x > 0) and (y > 0)\n",
    "    # END SOLUTION\n",
    "    \"\"\" # BEGIN PROMPT\n",
    "    return x and y > 0 # You can replace this line!\n",
    "    \"\"\" # END PROMPT\n",
    "    \n",
    "\n",
    "# edit the below line as needed to test your function\n",
    "both_positive(-1, 1)"
   ]
  },
  {
   "cell_type": "raw",
   "id": "a8114a17",
   "metadata": {},
   "source": [
    "# END SOLUTION"
   ]
  },
  {
   "cell_type": "raw",
   "id": "296ae7f5",
   "metadata": {},
   "source": [
    "# BEGIN TESTS"
   ]
  },
  {
   "cell_type": "code",
   "execution_count": 19,
   "id": "1c747a31",
   "metadata": {},
   "outputs": [
    {
     "data": {
      "text/plain": [
       "True"
      ]
     },
     "execution_count": 19,
     "metadata": {},
     "output_type": "execute_result"
    }
   ],
   "source": [
    "both_positive(-1, 1) == False"
   ]
  },
  {
   "cell_type": "code",
   "execution_count": 20,
   "id": "a4fbce32",
   "metadata": {},
   "outputs": [
    {
     "data": {
      "text/plain": [
       "True"
      ]
     },
     "execution_count": 20,
     "metadata": {},
     "output_type": "execute_result"
    }
   ],
   "source": [
    "both_positive(1, 1) == True"
   ]
  },
  {
   "cell_type": "raw",
   "id": "c84d03dd",
   "metadata": {},
   "source": [
    "# END TESTS"
   ]
  },
  {
   "cell_type": "raw",
   "id": "8c0eb820",
   "metadata": {},
   "source": [
    "# END QUESTION"
   ]
  },
  {
   "cell_type": "raw",
   "id": "f5c71648",
   "metadata": {},
   "source": [
    "# BEGIN QUESTION\n",
    "name: q7\n",
    "points: 2"
   ]
  },
  {
   "cell_type": "markdown",
   "id": "b91850ea",
   "metadata": {},
   "source": [
    "<br/><br/>\n",
    "\n",
    "---\n",
    "\n",
    "# Question 7: Curly Hair?\n",
    "\n",
    "Implement the function `has_curly_hair()` below, which should only return `True` if both the father allele and the mother allele are `\"C\"` (and return `False` otherwise).\n",
    "\n",
    "**Use only boolean logical and comparator operators**!\n",
    "\n",
    "Your implementation should correctly evaluate the following:\n",
    "\n",
    "```\n",
    "has_curly_hair(\"C\", \"c\")  # False\n",
    "has_curly_hair(\"c\", \"C\")  # False\n",
    "has_curly_hair(\"s\", \"s\")  # False\n",
    "has_curly_hair(\"C\", \"C\")  # True\n",
    "```"
   ]
  },
  {
   "cell_type": "raw",
   "id": "b58aee8c",
   "metadata": {},
   "source": [
    "# BEGIN SOLUTION"
   ]
  },
  {
   "cell_type": "code",
   "execution_count": 1,
   "id": "4433d2d0",
   "metadata": {},
   "outputs": [
    {
     "data": {
      "text/plain": [
       "False"
      ]
     },
     "execution_count": 1,
     "metadata": {},
     "output_type": "execute_result"
    }
   ],
   "source": [
    "def has_curly_hair(father_allele, mother_allele):\n",
    "    # BEGIN SOLUTION NO PROMPT\n",
    "    return (father_allele == 'C') and (mother_allele == 'C')\n",
    "    # END SOLUTION\n",
    "    \"\"\" # BEGIN PROMPT\n",
    "    return ...\n",
    "    \"\"\" # END PROMPT\n",
    "    \n",
    "# edit the below line as needed to test your function\n",
    "has_curly_hair(\"C\", \"c\")"
   ]
  },
  {
   "cell_type": "raw",
   "id": "680b48f0",
   "metadata": {},
   "source": [
    "# END SOLUTION"
   ]
  },
  {
   "cell_type": "raw",
   "id": "a6dd20c4",
   "metadata": {},
   "source": [
    "# BEGIN TESTS"
   ]
  },
  {
   "cell_type": "code",
   "execution_count": 2,
   "id": "f1e1bfdf",
   "metadata": {},
   "outputs": [
    {
     "data": {
      "text/plain": [
       "True"
      ]
     },
     "execution_count": 2,
     "metadata": {},
     "output_type": "execute_result"
    }
   ],
   "source": [
    "has_curly_hair(\"C\", \"c\") == False"
   ]
  },
  {
   "cell_type": "code",
   "execution_count": 3,
   "id": "6eb93d9b",
   "metadata": {},
   "outputs": [
    {
     "data": {
      "text/plain": [
       "True"
      ]
     },
     "execution_count": 3,
     "metadata": {},
     "output_type": "execute_result"
    }
   ],
   "source": [
    "has_curly_hair(\"c\", \"C\") == False"
   ]
  },
  {
   "cell_type": "code",
   "execution_count": 4,
   "id": "6d5132aa",
   "metadata": {},
   "outputs": [
    {
     "data": {
      "text/plain": [
       "True"
      ]
     },
     "execution_count": 4,
     "metadata": {},
     "output_type": "execute_result"
    }
   ],
   "source": [
    "has_curly_hair(\"s\", \"s\") == False"
   ]
  },
  {
   "cell_type": "code",
   "execution_count": 5,
   "id": "337340a6",
   "metadata": {},
   "outputs": [
    {
     "data": {
      "text/plain": [
       "True"
      ]
     },
     "execution_count": 5,
     "metadata": {},
     "output_type": "execute_result"
    }
   ],
   "source": [
    "has_curly_hair(\"C\", \"C\") == True"
   ]
  },
  {
   "cell_type": "raw",
   "id": "f1ce7eba",
   "metadata": {},
   "source": [
    "# END TESTS"
   ]
  },
  {
   "cell_type": "raw",
   "id": "c64e96f2",
   "metadata": {},
   "source": [
    "# END QUESTION"
   ]
  },
  {
   "cell_type": "markdown",
   "id": "9eaf0cd4",
   "metadata": {},
   "source": [
    "## Done!\n",
    "\n",
    "That's it! There's nowhere for you to submit this, as labs are not assignments. However, please ask any questions you have with this notebook in lab."
   ]
  }
 ],
 "metadata": {
  "kernelspec": {
   "display_name": "Python 3 (ipykernel)",
   "language": "python",
   "name": "python3"
  },
  "language_info": {
   "codemirror_mode": {
    "name": "ipython",
    "version": 3
   },
   "file_extension": ".py",
   "mimetype": "text/x-python",
   "name": "python",
   "nbconvert_exporter": "python",
   "pygments_lexer": "ipython3",
   "version": "3.11.3"
  }
 },
 "nbformat": 4,
 "nbformat_minor": 5
}
