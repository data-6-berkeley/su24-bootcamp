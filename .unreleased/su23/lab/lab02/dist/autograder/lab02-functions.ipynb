{
 "cells": [
  {
   "cell_type": "code",
   "execution_count": null,
   "id": "bcffbdce",
   "metadata": {
    "deletable": false,
    "editable": false
   },
   "outputs": [],
   "source": [
    "# Initialize Otter\n",
    "import otter\n",
    "grader = otter.Notebook(\"lab02-functions.ipynb\")"
   ]
  },
  {
   "cell_type": "markdown",
   "id": "8af2d1fc",
   "metadata": {},
   "source": [
    "# Coding Bootcamp Lab 2: Functions\n",
    "\n",
    "## Tuskegee Scholars Summer 2023\n",
    "\n",
    "Material is from  [CS 88](https://cs88-website.github.io/sp22/) and [CS 61A](https://cs61a.org/).\n",
    "\n",
    "Goals of Lab 2:\n",
    "* Write functions\n",
    "* Trace through environment diagrams involving functions\n",
    "* Write boolean functions (more practice with boolean expressions)\n",
    "\n",
    "If you haven't paired up/teamed up with anyone yet, we strongly encourage you to for this lab! This lab is longer than the other labs and is intentionally written more like \"puzzles.\" So grab a friend, your computer, a piece of paper, and a pen, and let's get started :-)\n",
    "\n",
    "P.S. -- Feel free to ask your partner what they had for lunch. Maybe you'll discover something new..."
   ]
  },
  {
   "cell_type": "markdown",
   "id": "0aad055a",
   "metadata": {},
   "source": [
    "\n",
    "<br/><br/>\n",
    "<hr style=\"border: 5px solid #003262;\" />\n",
    "<hr style=\"border: 1px solid #fdb515;\" />\n",
    "\n",
    "# Part 1: Functions, Autograders, and Environment Diagrams\n",
    "\n",
    "If we want to execute a series of statements over and over, we can abstract them away into a **function** to avoid repeating code.\n",
    "\n",
    "For example, let's say we want to know the results of multiplying the numbers 1-3 by 3 and then adding 2 to it. Here's one way to do it:"
   ]
  },
  {
   "cell_type": "code",
   "execution_count": null,
   "id": "aaff4a8c",
   "metadata": {},
   "outputs": [],
   "source": [
    "1 * 3 + 2"
   ]
  },
  {
   "cell_type": "code",
   "execution_count": null,
   "id": "8f03fd22",
   "metadata": {},
   "outputs": [],
   "source": [
    "2 * 3 + 2"
   ]
  },
  {
   "cell_type": "code",
   "execution_count": null,
   "id": "6f78742e",
   "metadata": {},
   "outputs": [],
   "source": [
    "3 * 3 + 2"
   ]
  },
  {
   "cell_type": "markdown",
   "id": "dbfeb6a6",
   "metadata": {},
   "source": [
    "\n",
    "If we wanted to do this with a larger set of numbers, that'd be a lot of repeated code! Let's write a function to capture this operation given any input number.\n"
   ]
  },
  {
   "cell_type": "code",
   "execution_count": null,
   "id": "e2deff27",
   "metadata": {},
   "outputs": [],
   "source": [
    "def foo(x):\n",
    "    return x * 3 + 2"
   ]
  },
  {
   "cell_type": "markdown",
   "id": "c521a07d",
   "metadata": {},
   "source": [
    "\n",
    "This function, called foo, takes in a single **argument** and will **return** the result of multiplying that argument by 3 and adding 2.\n",
    "\n",
    "Now we can **call** this function whenever we want this operation to be done:"
   ]
  },
  {
   "cell_type": "code",
   "execution_count": null,
   "id": "7a428ee6",
   "metadata": {},
   "outputs": [],
   "source": [
    "foo(1)"
   ]
  },
  {
   "cell_type": "code",
   "execution_count": null,
   "id": "4e4ba5d0",
   "metadata": {},
   "outputs": [],
   "source": [
    "foo(2)"
   ]
  },
  {
   "cell_type": "code",
   "execution_count": null,
   "id": "fbf034d5",
   "metadata": {},
   "outputs": [],
   "source": [
    "foo(1000)"
   ]
  },
  {
   "cell_type": "markdown",
   "id": "61c38e35",
   "metadata": {},
   "source": [
    "Applying a function to some arguments is done with a **call expression.**"
   ]
  },
  {
   "cell_type": "markdown",
   "id": "fb44996a",
   "metadata": {},
   "source": [
    "\n",
    "<br/><br/>\n",
    "\n",
    "\n",
    "## Otter Grader\n",
    "\n",
    "In this lab, we are introducing a new Jupyter system that you will use extensively in Data 6: **Otter Grader.** Otter grader is an autograder (yes, the similar pronunciation is intentional), meaning that it checks your Python code for correctness.\n",
    "\n",
    "If you haven’t already, make sure you have run the cell at the top of this notebook to initialize Otter.\n",
    "\n",
    "With Otter, you can start using the built-in tests to check whether your work is correct. Sometimes, there are multiple tests for a single question, and passing all of them is required to receive credit for the question. Please don't change the contents of the test cells.\n",
    "\n",
    "Go ahead and attempt the question below. Running the cell directly after it (`grader.check(...)`) will test whether you have implemented `ilovedata()` correctly. If you haven't, this test will tell you the correct answer."
   ]
  },
  {
   "cell_type": "markdown",
   "id": "b3366952",
   "metadata": {},
   "source": [
    "\n",
    "---\n",
    "\n",
    "# Question 1\n",
    "\n",
    "Complete the below question `ilovedata()` below such that it returns the string `\"I love Data Science!\"`."
   ]
  },
  {
   "cell_type": "code",
   "execution_count": 12,
   "id": "0a2f8ef4",
   "metadata": {
    "tags": [
     "otter_assign_solution_cell"
    ]
   },
   "outputs": [
    {
     "data": {
      "text/plain": [
       "'I love Data Science!'"
      ]
     },
     "execution_count": 12,
     "metadata": {},
     "output_type": "execute_result"
    }
   ],
   "source": [
    "def ilovedata():\n",
    "    # BEGIN SOLUTION\n",
    "    return \"I love Data Science!\"\n",
    "    # END SOLUTION\n",
    "\n",
    "# We've put this line in this cell \n",
    "# so that it will print the value you've given to seconds_in_a_decade when you run it.  \n",
    "# You don't need to change this.\n",
    "ilovedata()"
   ]
  },
  {
   "cell_type": "code",
   "execution_count": null,
   "id": "aba684d3",
   "metadata": {
    "deletable": false,
    "editable": false
   },
   "outputs": [],
   "source": [
    "grader.check(\"q1\")"
   ]
  },
  {
   "cell_type": "markdown",
   "id": "6373366a",
   "metadata": {},
   "source": [
    "<br/><br/>\n",
    "\n",
    "\n",
    "## More Environment Diagrams\n",
    "\n",
    "From [CS 61A Discussion 01](https://cs61a.org/disc/disc01/).\n",
    "\n",
    "Let's come back to the environment diagram. It is a visual way of understanding how Python works with names (i.e., variables) and function calls.\n",
    "\n",
    "One key idea in environment diagrams is the **frame**. A frame helps us keep track of what variables (i.e., names) have been defined in the current execution environment, and what values they hold. The frame we start off with when executing a program from scratch is what we call the **Global frame**. Later, we'll get into how new frames are created and how they may depend on their parent frame.\n",
    "\n",
    "<br/>\n",
    "\n",
    "---\n",
    "\n",
    "# Question 2: Discussing and Tracing a Program\n",
    "\n",
    "Here's a short program and its corresponding diagram:\n",
    "\n",
    "**Python Tutor** [click here](https://pythontutor.com/render.html#code=x%20%3D%203%0A%0Adef%20square%28x%29%3A%0A%20%20%20%20return%20x%20*%20x%0A%20%20%20%20%0Ax%20%3D%20square%282%29%0Ax&cumulative=false&curInstr=0&heapPrimitives=nevernest&mode=display&origin=opt-frontend.js&py=3&rawInputLstJSON=%5B%5D&textReferences=false)"
   ]
  },
  {
   "cell_type": "code",
   "execution_count": null,
   "id": "70921da2",
   "metadata": {},
   "outputs": [],
   "source": [
    "x = 3\n",
    "\n",
    "def square(x):\n",
    "    return x * x\n",
    "\n",
    "x = square(2)\n",
    "x"
   ]
  },
  {
   "cell_type": "markdown",
   "id": "c2a96236",
   "metadata": {},
   "source": [
    "With your partner and the Python Tutor:\n",
    "* Trace through the above program.\n",
    "* What is the final value of `x`?\n",
    "* Identify the different frames that are created.\n",
    "* How is the return value of the `square` function visualized in the environment diagram?\n",
    "* Identify all the values that the name `x` binds to. Compare and contrast. How are they different?"
   ]
  },
  {
   "cell_type": "markdown",
   "id": "d134f344",
   "metadata": {},
   "source": [
    "\n",
    "<br/><br/>\n",
    "<hr style=\"border: 5px solid #003262;\" />\n",
    "<hr style=\"border: 1px solid #fdb515;\" />\n",
    "\n",
    "# Part 2: Function Practice\n",
    "\n",
    "From [CS 61A Lecture 02](https://cs61a.org/assets/slides/02-Functions.html#/39).\n",
    "\n",
    "To improve coding skills, you will need to *practice, practice, practice.*\n",
    "\n",
    "Many (if not all) of the programs below can be written with a single line in the body, like so:\n",
    "\n",
    "```\n",
    "def some_function(arg):\n",
    "    return some_expression_with_arg\n",
    "```\n",
    "\n",
    "However, sometimes you will find it easier to create *intermediate* assignment statements to break up your work, like so:\n",
    "\n",
    "```\n",
    "def some_function(arg):\n",
    "    intermediate_name = some_expression_with_arg\n",
    "    another_intermediate_name = some_expression_with_intermediate_name_and_arg\n",
    "    return some_final_expression\n",
    "```\n",
    "\n",
    "If you follow the latter path, challenge yourself to edit your code so that it fits in one line! Overall, *it is easier to fix messy code that works than to start from a completely blank slate.* (Just like writing essays for humanities courses--ideas are hard, and editing is easier.) So just take your first step, and revise it afterwards!\n",
    "\n",
    "<br/>\n",
    "\n",
    "Here are some tips for each exercise below:\n",
    "* First, start from the arguments (do you need any?).\n",
    "* Then, think about the return value. What type is it?\n",
    "* Then, think about the logic to meet the problem specification\n",
    "* Finally, look back over your code to see if it can be simplified."
   ]
  },
  {
   "cell_type": "markdown",
   "id": "d17e29a4",
   "metadata": {},
   "source": [
    "<br/><br/>\n",
    "\n",
    "---\n",
    "\n",
    "# Question 3: Calculate Dog Age\n",
    "\n",
    "You know how old a dog is in human years, but what about dog years? Calculate it!\n",
    "\n",
    "Write a function named `calculate_dog_age` that:\n",
    "* takes 1 argument: a dog's age in human years.\n",
    "* calculates the dog's age based on the conversion rate of 1 human year to 7 dog years.\n",
    "* returns the age in dog years.\n",
    "\n",
    "Your implementation should correctly evaluate the following:\n",
    "\n",
    "```\n",
    "calculate_dog_age(1)   # 7\n",
    "calculate_dog_age(0.5) # 3.5\n",
    "calculate_dog_age(12)  # 84\n",
    "```"
   ]
  },
  {
   "cell_type": "code",
   "execution_count": 52,
   "id": "cff89fe4",
   "metadata": {
    "tags": [
     "otter_assign_solution_cell"
    ]
   },
   "outputs": [
    {
     "data": {
      "text/plain": [
       "7"
      ]
     },
     "execution_count": 52,
     "metadata": {},
     "output_type": "execute_result"
    }
   ],
   "source": [
    "def calculate_dog_age(years):\n",
    "    return years * 7 # SOLUTION\n",
    "\n",
    "calculate_dog_age(1)"
   ]
  },
  {
   "cell_type": "code",
   "execution_count": null,
   "id": "13354f90",
   "metadata": {
    "deletable": false,
    "editable": false
   },
   "outputs": [],
   "source": [
    "grader.check(\"q3\")"
   ]
  },
  {
   "cell_type": "markdown",
   "id": "2e658eb6",
   "metadata": {},
   "source": [
    "<br/><br/>\n",
    "\n",
    "---\n",
    "\n",
    "# Question 4: Fortune Teller\n",
    "\n",
    "Why pay a fortune teller when you can just program your fortune yourself?\n",
    "\n",
    "Write a function named `tell_fortune` that:\n",
    "* takes 3 arguments: job title, partner's name, geographic location.\n",
    "* returns a fortune of the form: 'You will be a {job_title} in {location} living with {partner}.'\n",
    "**Tip**: If your line of code is getting long, you can split up the line\n",
    "by using `\\` (the backslash character, located above the <Enter> key on a U.S. keyboard) between values in an expression. For example,\n",
    "    \n",
    "    \"this super long string yaddayadda blah blah blah\"\n",
    "    \n",
    "turns into (using the concatenator operator `+`)\n",
    "    \n",
    "    \"this super long string \" + \\\n",
    "    \"yadda yadda blah blah blah\"\n",
    "    \n",
    "Note the space at the end of `string `! Why do we keep it?\n",
    "    \n",
    "<br/>\n",
    "    \n",
    "\n",
    "Your implementation should correctly evaluate the following:\n",
    "\n",
    "```\n",
    "tell_fortune('football player', 'Spain', 'Shakira') # 'You will be a football player in Spain living with Shakira.'\n",
    "tell_fortune('farmer', 'Kansas', 'C3PO') # 'You will be a farmer in Kansas living with C3PO.'\n",
    "tell_fortune('Elvis Impersonator', 'Russia', 'Karl the Fog') # 'You will be a Elvis Impersonator in Russia living with Karl the Fog.'\n",
    "```\n"
   ]
  },
  {
   "cell_type": "code",
   "execution_count": 54,
   "id": "178fefb3",
   "metadata": {
    "tags": [
     "otter_assign_solution_cell"
    ]
   },
   "outputs": [
    {
     "data": {
      "text/plain": [
       "'You will be a football player in Spain living with Shakira.'"
      ]
     },
     "execution_count": 54,
     "metadata": {},
     "output_type": "execute_result"
    }
   ],
   "source": [
    "def tell_fortune(job_title, location, partner):\n",
    "    return \"You will be a \" + job_title + \" in \" + location + \" living with \" + partner + \".\" # SOLUTION\n",
    "\n",
    "# edit the below line as needed to test your function\n",
    "tell_fortune('football player', 'Spain', 'Shakira') "
   ]
  },
  {
   "cell_type": "code",
   "execution_count": null,
   "id": "00c8f3bd",
   "metadata": {
    "deletable": false,
    "editable": false
   },
   "outputs": [],
   "source": [
    "grader.check(\"q4\")"
   ]
  },
  {
   "cell_type": "markdown",
   "id": "556f2004",
   "metadata": {},
   "source": [
    "<br/><br/>\n",
    "\n",
    "---\n",
    "\n",
    "# Question 5: Lifetime Supply\n",
    "\n",
    "## Question 5a\n",
    "\n",
    "Ever wonder how much a \"lifetime supply\" of your favorite snack is? Wonder no more!\n",
    "\n",
    "Write a function named `calculate_supply` that:\n",
    "* takes 2 arguments: age, amount per day.\n",
    "* calculates the amount consumed for rest of the life (based on a constant max age of 81).*\n",
    "* returns the result.\n",
    "\n",
    "**Hint**: Assume each year has exactly 365 days (no leap years).\n",
    "\n",
    "\\*Side note unrelated to the coding question: This max age is higher than the average life expectancy in the U.S; check out the [World bank](https://data.worldbank.org/indicator/SP.DYN.LE00.IN) for average life expectancy per country as of 2020.\n",
    "\n",
    "\n",
    "\n",
    "Your implementation should correctly evaluate the following:\n",
    "```\n",
    "calculate_supply(80, 1) # 365\n",
    "calculate_supply(80, 2) # 730\n",
    "calculate_supply(36, 3) # 49275\n",
    "```"
   ]
  },
  {
   "cell_type": "code",
   "execution_count": 49,
   "id": "1f6b9384",
   "metadata": {
    "tags": [
     "otter_assign_solution_cell"
    ]
   },
   "outputs": [
    {
     "data": {
      "text/plain": [
       "365"
      ]
     },
     "execution_count": 49,
     "metadata": {},
     "output_type": "execute_result"
    }
   ],
   "source": [
    "\"\"\" # BEGIN PROMPT\n",
    "# This def statement may be incomplete...\n",
    "def calculate_supply():\n",
    "    return ...\n",
    "\"\"\" # END PROMPT\n",
    "\n",
    "# BEGIN SOLUTION NO PROMPT\n",
    "def calculate_supply(age, amount_per_day):\n",
    "    return (81 - age)*amount_per_day*365\n",
    "# END SOLUTION\n",
    "\n",
    "# edit the below line as needed to test your function\n",
    "calculate_supply(80, 1)"
   ]
  },
  {
   "cell_type": "code",
   "execution_count": null,
   "id": "4e72acde",
   "metadata": {
    "deletable": false,
    "editable": false
   },
   "outputs": [],
   "source": [
    "grader.check(\"q5a\")"
   ]
  },
  {
   "cell_type": "markdown",
   "id": "f355163b",
   "metadata": {},
   "source": [
    "---\n",
    "\n",
    "## Question 5b\n",
    "\n",
    "Repeat Question 5a, but accept floating point values for amount per day, and round the result up to an integer.\n",
    "\n",
    "**Hint**: Should you use `/`, `//`, `round()`, `int()`, or something else?\n",
    "\n",
    "\n",
    "Your implementation should correctly evaluate the following:\n",
    "```\n",
    "calculate_supply_bonus(80, 1) # 365\n",
    "calculate_supply_bonus(80, 2) # 730\n",
    "calculate_supply_bonus(36, 3) # 49275\n",
    "calculate_supply(37, 2.17) # 34850\n",
    "```"
   ]
  },
  {
   "cell_type": "code",
   "execution_count": 48,
   "id": "58fa8666",
   "metadata": {
    "tags": [
     "otter_assign_solution_cell"
    ]
   },
   "outputs": [
    {
     "data": {
      "text/plain": [
       "34850"
      ]
     },
     "execution_count": 48,
     "metadata": {},
     "output_type": "execute_result"
    }
   ],
   "source": [
    "\"\"\" # BEGIN PROMPT\n",
    "# This def statement may be incomplete...\n",
    "def calculate_supply_bonus():\n",
    "    return ...\n",
    "\"\"\" # END PROMPT\n",
    "\n",
    "# BEGIN SOLUTION NO PROMPT\n",
    "def calculate_supply_bonus(age, amount_per_day):\n",
    "    return round((81 - age)*amount_per_day*365)\n",
    "# END SOLUTION\n",
    "\n",
    "# edit the below line as needed to test your function\n",
    "calculate_supply_bonus(37, 2.17)"
   ]
  },
  {
   "cell_type": "code",
   "execution_count": null,
   "id": "2b2c4285",
   "metadata": {
    "deletable": false,
    "editable": false
   },
   "outputs": [],
   "source": [
    "grader.check(\"q5b\")"
   ]
  },
  {
   "cell_type": "markdown",
   "id": "1f2c64a5",
   "metadata": {},
   "source": [
    "\n",
    "<br/><br/>\n",
    "<hr style=\"border: 5px solid #003262;\" />\n",
    "<hr style=\"border: 1px solid #fdb515;\" />\n",
    "\n",
    "# Part 3: Still More Functions, but Now With Booleans\n",
    "\n",
    "From [CS 61A Lecture 03](https://cs61a.org/assets/slides/03-Control.html#/19) and [CS 88 Lab 01](https://cs88-website.github.io/sp22/lab/lab01/)."
   ]
  },
  {
   "cell_type": "markdown",
   "id": "3c008113",
   "metadata": {},
   "source": [
    "# Question 6: Fix the Bug\n",
    "\n",
    "The `both_positive()` function is supposed to return `True` if both `x` and `y` are positive (and `False` otherwise), but it doesn't work!\n",
    "\n",
    "Figure out what is wrong and fix the bugs. A correct implementation should evaluate the following:\n",
    "```\n",
    "both_positive(-1, 1)   # False\n",
    "both_positive(1, 1)    # True\n",
    "```"
   ]
  },
  {
   "cell_type": "code",
   "execution_count": 18,
   "id": "edb89441",
   "metadata": {
    "tags": [
     "otter_assign_solution_cell"
    ]
   },
   "outputs": [
    {
     "data": {
      "text/plain": [
       "False"
      ]
     },
     "execution_count": 18,
     "metadata": {},
     "output_type": "execute_result"
    }
   ],
   "source": [
    "def both_positive(x, y):\n",
    "    # BEGIN SOLUTION NO PROMPT\n",
    "    return (x > 0) and (y > 0)\n",
    "    # END SOLUTION\n",
    "    \"\"\" # BEGIN PROMPT\n",
    "    return x and y > 0 # You can replace this line!\n",
    "    \"\"\" # END PROMPT\n",
    "    \n",
    "\n",
    "# edit the below line as needed to test your function\n",
    "both_positive(-1, 1)"
   ]
  },
  {
   "cell_type": "code",
   "execution_count": null,
   "id": "cab5af01",
   "metadata": {
    "deletable": false,
    "editable": false
   },
   "outputs": [],
   "source": [
    "grader.check(\"q6\")"
   ]
  },
  {
   "cell_type": "markdown",
   "id": "0503c27a",
   "metadata": {},
   "source": [
    "<br/><br/>\n",
    "\n",
    "---\n",
    "\n",
    "# Question 7: Curly Hair?\n",
    "\n",
    "Implement the function `has_curly_hair()` below, which should only return `True` if both the father allele and the mother allele are `\"C\"` (and return `False` otherwise).\n",
    "\n",
    "**Use only boolean logical and comparator operators**!\n",
    "\n",
    "Your implementation should correctly evaluate the following:\n",
    "\n",
    "```\n",
    "has_curly_hair(\"C\", \"c\")  # False\n",
    "has_curly_hair(\"c\", \"C\")  # False\n",
    "has_curly_hair(\"s\", \"s\")  # False\n",
    "has_curly_hair(\"C\", \"C\")  # True\n",
    "```"
   ]
  },
  {
   "cell_type": "code",
   "execution_count": 1,
   "id": "14f65dac",
   "metadata": {
    "tags": [
     "otter_assign_solution_cell"
    ]
   },
   "outputs": [
    {
     "data": {
      "text/plain": [
       "False"
      ]
     },
     "execution_count": 1,
     "metadata": {},
     "output_type": "execute_result"
    }
   ],
   "source": [
    "def has_curly_hair(father_allele, mother_allele):\n",
    "    # BEGIN SOLUTION NO PROMPT\n",
    "    return (father_allele == 'C') and (mother_allele == 'C')\n",
    "    # END SOLUTION\n",
    "    \"\"\" # BEGIN PROMPT\n",
    "    return ...\n",
    "    \"\"\" # END PROMPT\n",
    "    \n",
    "# edit the below line as needed to test your function\n",
    "has_curly_hair(\"C\", \"c\")"
   ]
  },
  {
   "cell_type": "code",
   "execution_count": null,
   "id": "4a2dbba1",
   "metadata": {
    "deletable": false,
    "editable": false
   },
   "outputs": [],
   "source": [
    "grader.check(\"q7\")"
   ]
  },
  {
   "cell_type": "markdown",
   "id": "47e36f28",
   "metadata": {},
   "source": [
    "## Done!\n",
    "\n",
    "That's it! There's nowhere for you to submit this, as labs are not assignments. However, please ask any questions you have with this notebook in lab."
   ]
  },
  {
   "cell_type": "markdown",
   "id": "95d400b0",
   "metadata": {
    "deletable": false,
    "editable": false
   },
   "source": [
    "## Submission\n",
    "\n",
    "Make sure you have run all cells in your notebook in order before running the cell below, so that all images/graphs appear in the output. The cell below will generate a zip file for you to submit. **Please save before exporting!**"
   ]
  },
  {
   "cell_type": "code",
   "execution_count": null,
   "id": "65241ab1",
   "metadata": {
    "deletable": false,
    "editable": false
   },
   "outputs": [],
   "source": [
    "# Save your notebook first, then run this cell to export your submission.\n",
    "grader.export(pdf=False, run_tests=True)"
   ]
  },
  {
   "cell_type": "markdown",
   "id": "7f8e651d",
   "metadata": {},
   "source": [
    " "
   ]
  }
 ],
 "metadata": {
  "kernelspec": {
   "display_name": "Python 3 (ipykernel)",
   "language": "python",
   "name": "python3"
  },
  "language_info": {
   "codemirror_mode": {
    "name": "ipython",
    "version": 3
   },
   "file_extension": ".py",
   "mimetype": "text/x-python",
   "name": "python",
   "nbconvert_exporter": "python",
   "pygments_lexer": "ipython3",
   "version": "3.11.3"
  },
  "otter": {
   "OK_FORMAT": true,
   "tests": {
    "q1": {
     "name": "q1",
     "points": 2,
     "suites": [
      {
       "cases": [
        {
         "code": ">>> ilovedata() == \"I love Data Science!\"\nTrue",
         "hidden": false,
         "locked": false
        },
        {
         "code": ">>> len(ilovedata()) == len(\"I love Data Science!\")\nTrue",
         "hidden": false,
         "locked": false
        }
       ],
       "scored": true,
       "setup": "",
       "teardown": "",
       "type": "doctest"
      }
     ]
    },
    "q3": {
     "name": "q3",
     "points": 2,
     "suites": [
      {
       "cases": [
        {
         "code": ">>> calculate_dog_age(1) == 7\nTrue",
         "hidden": false,
         "locked": false
        },
        {
         "code": ">>> calculate_dog_age(0.5) == 3.5\nTrue",
         "hidden": false,
         "locked": false
        },
        {
         "code": ">>> calculate_dog_age(12) == 84\nTrue",
         "hidden": false,
         "locked": false
        }
       ],
       "scored": true,
       "setup": "",
       "teardown": "",
       "type": "doctest"
      }
     ]
    },
    "q4": {
     "name": "q4",
     "points": 2,
     "suites": [
      {
       "cases": [
        {
         "code": ">>> tell_fortune('football player', 'Spain', 'Shakira') == 'You will be a football player in Spain living with Shakira.'\nTrue",
         "hidden": false,
         "locked": false
        },
        {
         "code": ">>> tell_fortune('farmer', 'Kansas', 'C3PO') == 'You will be a farmer in Kansas living with C3PO.'\nTrue",
         "hidden": false,
         "locked": false
        },
        {
         "code": ">>> tell_fortune('Elvis Impersonator', 'Russia', 'Karl the Fog') == 'You will be a Elvis Impersonator in Russia living with Karl the Fog.'\nTrue",
         "hidden": false,
         "locked": false
        }
       ],
       "scored": true,
       "setup": "",
       "teardown": "",
       "type": "doctest"
      }
     ]
    },
    "q5a": {
     "name": "q5a",
     "points": 2,
     "suites": [
      {
       "cases": [
        {
         "code": ">>> calculate_supply(80, 1) == 365\nTrue",
         "hidden": false,
         "locked": false
        },
        {
         "code": ">>> calculate_supply(80, 2) == 730\nTrue",
         "hidden": false,
         "locked": false
        },
        {
         "code": ">>> calculate_supply(36, 3) == 49275\nTrue",
         "hidden": false,
         "locked": false
        }
       ],
       "scored": true,
       "setup": "",
       "teardown": "",
       "type": "doctest"
      }
     ]
    },
    "q5b": {
     "name": "q5b",
     "points": 2,
     "suites": [
      {
       "cases": [
        {
         "code": ">>> calculate_supply_bonus(80, 1) == 365\nTrue",
         "hidden": false,
         "locked": false
        },
        {
         "code": ">>> calculate_supply_bonus(80, 2) == 730\nTrue",
         "hidden": false,
         "locked": false
        },
        {
         "code": ">>> calculate_supply_bonus(36, 3) == 49275\nTrue",
         "hidden": false,
         "locked": false
        },
        {
         "code": ">>> calculate_supply_bonus(37, 2.17) == 34850\nTrue",
         "hidden": false,
         "locked": false
        }
       ],
       "scored": true,
       "setup": "",
       "teardown": "",
       "type": "doctest"
      }
     ]
    },
    "q6": {
     "name": "q6",
     "points": 2,
     "suites": [
      {
       "cases": [
        {
         "code": ">>> both_positive(-1, 1) == False\nTrue",
         "hidden": false,
         "locked": false
        },
        {
         "code": ">>> both_positive(1, 1) == True\nTrue",
         "hidden": false,
         "locked": false
        }
       ],
       "scored": true,
       "setup": "",
       "teardown": "",
       "type": "doctest"
      }
     ]
    },
    "q7": {
     "name": "q7",
     "points": 2,
     "suites": [
      {
       "cases": [
        {
         "code": ">>> has_curly_hair(\"C\", \"c\") == False\nTrue",
         "hidden": false,
         "locked": false
        },
        {
         "code": ">>> has_curly_hair(\"c\", \"C\") == False\nTrue",
         "hidden": false,
         "locked": false
        },
        {
         "code": ">>> has_curly_hair(\"s\", \"s\") == False\nTrue",
         "hidden": false,
         "locked": false
        },
        {
         "code": ">>> has_curly_hair(\"C\", \"C\") == True\nTrue",
         "hidden": false,
         "locked": false
        }
       ],
       "scored": true,
       "setup": "",
       "teardown": "",
       "type": "doctest"
      }
     ]
    }
   }
  }
 },
 "nbformat": 4,
 "nbformat_minor": 5
}
