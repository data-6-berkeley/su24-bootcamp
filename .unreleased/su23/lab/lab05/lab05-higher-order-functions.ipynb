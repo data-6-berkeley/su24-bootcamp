{
 "cells": [
  {
   "cell_type": "code",
   "execution_count": null,
   "id": "9e4aaf5a",
   "metadata": {},
   "outputs": [],
   "source": [
    "# run this cell\n",
    "import numpy as np"
   ]
  },
  {
   "cell_type": "markdown",
   "id": "1f946fbc",
   "metadata": {},
   "source": [
    "# Lab 04: Higher Order Functions\n",
    "\n",
    "Remember to run the Otter cell *and* the NumPy cell at the top of this page!"
   ]
  },
  {
   "cell_type": "markdown",
   "id": "5a9daeeb",
   "metadata": {},
   "source": [
    "\n",
    "<br/><br/>\n",
    "<hr style=\"border: 5px solid #003262;\" />\n",
    "<hr style=\"border: 1px solid #fdb515;\" />\n",
    "\n",
    "# Part 1 Tutorial: Functions as Arguments\n",
    "\n",
    "From [CS 88 Lab 03](https://cs88-website.github.io/sp22/lab/lab03/)\n",
    "\n",
    "So far we have used several types of data - ints, floats, booleans, strings, etc. We perform operations on them by constructing expressions; we assign them to variables; we pass them to functions and return them as results. So what about functions themselves? So far we have called them, that is we applied them to arguments. Sometimes we compose them - just like in math; apply a function to the result of applying a function.\n",
    "\n",
    "In modern programming languages like Python, functions are first class citizens; we can pass them around and put them in data structures. Take a look at the following:"
   ]
  },
  {
   "cell_type": "code",
   "execution_count": null,
   "id": "efba3ab2",
   "metadata": {},
   "outputs": [],
   "source": [
    "def square(x):\n",
    "    return x * x"
   ]
  },
  {
   "cell_type": "code",
   "execution_count": null,
   "id": "692c989b",
   "metadata": {},
   "outputs": [],
   "source": [
    "square(square(3))"
   ]
  },
  {
   "cell_type": "code",
   "execution_count": null,
   "id": "4da7d9a6",
   "metadata": {},
   "outputs": [],
   "source": [
    "square"
   ]
  },
  {
   "cell_type": "code",
   "execution_count": null,
   "id": "14dbd138",
   "metadata": {},
   "outputs": [],
   "source": [
    "x = square"
   ]
  },
  {
   "cell_type": "code",
   "execution_count": null,
   "id": "7daa3173",
   "metadata": {},
   "outputs": [],
   "source": [
    "x(3)"
   ]
  },
  {
   "cell_type": "code",
   "execution_count": null,
   "id": "b7e9dcc4",
   "metadata": {},
   "outputs": [],
   "source": [
    "x(x(2))"
   ]
  },
  {
   "cell_type": "markdown",
   "id": "a8b92d62",
   "metadata": {},
   "source": [
    "## Higher Order Functions and Environment Diagrams\n",
    "Thus far, in Python Tutor, we’ve visualized Python programs in the form of environment diagrams that display which variables are tied to which values within different frames. However, as we noted when introducing Python, values are not necessarily just primitive expressions or types like float, string, integer, and boolean.\n",
    "\n",
    "In a nutshell, a higher order function is any function that takes a function as a parameter or provides a function has a return value. We will be exploring many applications of higher order functions.\n",
    "\n",
    "Let's think about a more practical use of higher order functions. Pretend you’re a math teacher, and you want to teach your students how coefficients affect the shape of a parabola.\n",
    "\n",
    "Open Python Tutor in a new tab: [PythonTutor](http://pythontutor.com/visualize.html#mode=edit)\n",
    "\n",
    "Paste this code into the interpreter:"
   ]
  },
  {
   "cell_type": "code",
   "execution_count": null,
   "id": "6eddc5a5",
   "metadata": {},
   "outputs": [],
   "source": [
    "def define_parabola(a, b, c):\n",
    "    def parabola(x):\n",
    "        return a*(x**2) + b*x + c\n",
    "    return parabola\n",
    "\n",
    "parabola = define_parabola(-2, 3, -4)\n",
    "y1 = parabola(1)\n",
    "y2 = parabola(10)\n",
    "print(y1, y2)"
   ]
  },
  {
   "cell_type": "markdown",
   "id": "4f2cdbf7",
   "metadata": {},
   "source": [
    "Now step through the code.\n",
    "* In the `define_parabola` function, the coefficient values of 'a', 'b', and 'c' are taken in, and in return, a parabolic function with those coefficient values is returned.\n",
    "* As you step through the second half of the code, notice how the value of parabola points at a function object! The `define_parabola` higher order nature comes from the fact that its return value is a function.\n",
    "* Another thing worth noting is where the pointer moves after the `parabola` function is called. Notice that the pointer goes to line 2, where `parabola` was originally defined. In a nutshell, this example is meant to show how a closure is returned from the `define_parabola` function.\n",
    "\n"
   ]
  },
  {
   "cell_type": "markdown",
   "id": "52110916",
   "metadata": {},
   "source": [
    "\n",
    "<br/><br/>\n",
    "<hr style=\"border: 5px solid #003262;\" />\n",
    "<hr style=\"border: 1px solid #fdb515;\" />\n",
    "\n",
    "# Part 2: Environment Diagrams\n",
    "\n",
    "From [CS 88 Discussion 03](https://cs88-website.github.io/sp22/disc/disc03.pdf)."
   ]
  },
  {
   "cell_type": "markdown",
   "id": "9edc16df",
   "metadata": {},
   "source": [
    "<br/><br/>\n",
    "\n",
    "---\n",
    "\n",
    "# Question 1\n",
    "\n",
    "Draw the environment diagram for evaluating the following code. Check your answer with [PythonTutor](https://pythontutor.com/render.html#mode=edit)."
   ]
  },
  {
   "cell_type": "code",
   "execution_count": null,
   "id": "5f4ce1f6",
   "metadata": {},
   "outputs": [],
   "source": [
    "def f(x):\n",
    "    return y + x\n",
    "y = 10\n",
    "f(8)"
   ]
  },
  {
   "cell_type": "markdown",
   "id": "bbb349e5",
   "metadata": {},
   "source": [
    "<br/><br/>\n",
    "\n",
    "---\n",
    "\n",
    "# Question 2\n",
    "\n",
    "Draw the environment diagram for evaluating the following code. Check your answer with [PythonTutor](https://pythontutor.com/render.html#mode=edit)."
   ]
  },
  {
   "cell_type": "code",
   "execution_count": null,
   "id": "820f53ec",
   "metadata": {},
   "outputs": [],
   "source": [
    "def dessef(a, b):\n",
    "    c = a + b\n",
    "    b = b + 1\n",
    "    \n",
    "b = 6\n",
    "dessef(b, 4)"
   ]
  },
  {
   "cell_type": "markdown",
   "id": "feb0f2a2",
   "metadata": {},
   "source": [
    "<br/><br/>\n",
    "\n",
    "---\n",
    "\n",
    "# Question 3\n",
    "\n",
    "Draw the environment diagram for evaluating the following code. Check your answer with [PythonTutor](https://pythontutor.com/render.html#mode=edit)."
   ]
  },
  {
   "cell_type": "code",
   "execution_count": null,
   "id": "dff46b10",
   "metadata": {},
   "outputs": [],
   "source": [
    "def foo(x, y):\n",
    "    foo = bar\n",
    "    return foo(bar(x, x), y)\n",
    "\n",
    "def bar(z, x):\n",
    "    return z + y\n",
    "\n",
    "y = 5\n",
    "foo(1, 2)"
   ]
  },
  {
   "cell_type": "markdown",
   "id": "e8daf681",
   "metadata": {},
   "source": [
    "\n",
    "<br/><br/>\n",
    "<hr style=\"border: 5px solid #003262;\" />\n",
    "<hr style=\"border: 1px solid #fdb515;\" />\n",
    "\n",
    "# Part 3: WWPD?\n",
    "\n",
    "From [CS 88 Discussion 03](https://cs88-website.github.io/sp22/disc/disc03.pdf)."
   ]
  },
  {
   "cell_type": "markdown",
   "id": "7030daa5",
   "metadata": {},
   "source": [
    "---\n",
    "\n",
    "# Question 4: Functions as Parameters\n",
    "\n",
    "One way a higher order function can exploit other functions is by taking functions as\n",
    "input. Consider this higher order function called `negate`."
   ]
  },
  {
   "cell_type": "code",
   "execution_count": null,
   "id": "0abf1bbc",
   "metadata": {},
   "outputs": [],
   "source": [
    "# run this cell\n",
    "def negate(f, x):\n",
    "    return -f(x)"
   ]
  },
  {
   "cell_type": "markdown",
   "id": "5f72fdc8",
   "metadata": {},
   "source": [
    "\n",
    "`negate` takes in a function `f` and a number `x`. It doesn’t care what exactly `f` does, as long\n",
    "as `f` takes in a number and returns a number. Its job is simple: call `f` on `x` and return the\n",
    "negation of that value.\n",
    "\n",
    "Here are some possible functions that can be passed through as `f`:"
   ]
  },
  {
   "cell_type": "code",
   "execution_count": null,
   "id": "86873a06",
   "metadata": {},
   "outputs": [],
   "source": [
    "# run this cell\n",
    "def square(n):\n",
    "    return n * n\n",
    "def double(n):\n",
    "    return 2 * n"
   ]
  },
  {
   "cell_type": "markdown",
   "id": "4eb9a912",
   "metadata": {},
   "source": [
    "What will the following Python statements output?"
   ]
  },
  {
   "cell_type": "code",
   "execution_count": null,
   "id": "1df1e2b5",
   "metadata": {},
   "outputs": [],
   "source": [
    "negate(square, 5)"
   ]
  },
  {
   "cell_type": "code",
   "execution_count": null,
   "id": "a786d14b",
   "metadata": {},
   "outputs": [],
   "source": [
    "negate(double, -19)"
   ]
  },
  {
   "cell_type": "code",
   "execution_count": null,
   "id": "f4f1e035",
   "metadata": {},
   "outputs": [],
   "source": [
    "negate(double, negate(square, -4))"
   ]
  },
  {
   "cell_type": "code",
   "execution_count": null,
   "id": "93769db7",
   "metadata": {},
   "outputs": [],
   "source": [
    "n = 3\n",
    "while n >= 0:\n",
    "    n -= 1\n",
    "    print(n)"
   ]
  },
  {
   "cell_type": "markdown",
   "id": "9152a49c",
   "metadata": {},
   "source": [
    "<br/><br/>\n",
    "\n",
    "---\n",
    "\n",
    "# Question 5: Functions as Return Values\n",
    "\n",
    "Often, we will need to write a function that returns another function. One way to do this\n",
    "is to define a function inside of a function:\n",
    "\n",
    "    def outer(x):\n",
    "        def inner(y):\n",
    "            ...\n",
    "        return inner\n",
    "    \n",
    "The return value of `outer` is the function `inner`. This is a case of a function returning\n",
    "a function. In this example, `inner` is defined inside of `outer`. Although this is a common pattern, we can also define inner outside of `outer` and still use the same return\n",
    "statement.\n",
    "\n",
    "    def inner(y):\n",
    "        ...\n",
    "    def outer(x):\n",
    "        return inner\n",
    "        \n",
    "\n",
    "Use the below definition of `outer`, what will Python output for each of the following cells?"
   ]
  },
  {
   "cell_type": "code",
   "execution_count": null,
   "id": "3f05ed3d",
   "metadata": {},
   "outputs": [],
   "source": [
    "def outer(n):\n",
    "    def inner(m):\n",
    "        return n - m\n",
    "    return inner"
   ]
  },
  {
   "cell_type": "markdown",
   "id": "47780feb",
   "metadata": {},
   "source": [
    "## Question 5a"
   ]
  },
  {
   "cell_type": "code",
   "execution_count": null,
   "id": "aa517756",
   "metadata": {
    "scrolled": true
   },
   "outputs": [],
   "source": [
    "outer(61)"
   ]
  },
  {
   "cell_type": "markdown",
   "id": "bf8f05d7",
   "metadata": {},
   "source": [
    "## Question 5b"
   ]
  },
  {
   "cell_type": "code",
   "execution_count": null,
   "id": "81405c75",
   "metadata": {},
   "outputs": [],
   "source": [
    "f = outer(10)"
   ]
  },
  {
   "cell_type": "markdown",
   "id": "9f2840d8",
   "metadata": {},
   "source": [
    "## Question 5c"
   ]
  },
  {
   "cell_type": "code",
   "execution_count": null,
   "id": "5648cd36",
   "metadata": {},
   "outputs": [],
   "source": [
    "f(4)"
   ]
  },
  {
   "cell_type": "markdown",
   "id": "fd8872bb",
   "metadata": {},
   "source": [
    "## Question 5d"
   ]
  },
  {
   "cell_type": "code",
   "execution_count": null,
   "id": "98f6d273",
   "metadata": {
    "scrolled": true
   },
   "outputs": [],
   "source": [
    "outer(5)(4)"
   ]
  },
  {
   "cell_type": "markdown",
   "id": "284f39e9",
   "metadata": {},
   "source": [
    "<br/><br/>\n",
    "\n",
    "---\n",
    "\n",
    "# Question 6: WWPD?\n",
    "\n",
    "From [CS 61A Lab 02](https://cs61a.org/lab/lab02/). Suppose you have the following function, `cake`:"
   ]
  },
  {
   "cell_type": "code",
   "execution_count": null,
   "id": "64313130",
   "metadata": {
    "scrolled": true
   },
   "outputs": [],
   "source": [
    "def cake():\n",
    "    print('beets')\n",
    "    def pie():\n",
    "        print('sweets')\n",
    "        return 'cake'\n",
    "    return pie"
   ]
  },
  {
   "cell_type": "markdown",
   "id": "245a8830",
   "metadata": {},
   "source": [
    "What will Python do for each of the following calls?\n",
    "\n",
    "## Question 6a(i)"
   ]
  },
  {
   "cell_type": "code",
   "execution_count": null,
   "id": "e07d3e60",
   "metadata": {},
   "outputs": [],
   "source": [
    "chocolate = cake()"
   ]
  },
  {
   "cell_type": "markdown",
   "id": "e71898b2",
   "metadata": {},
   "source": [
    "## Question 6a(ii)"
   ]
  },
  {
   "cell_type": "code",
   "execution_count": null,
   "id": "093764f7",
   "metadata": {},
   "outputs": [],
   "source": [
    "chocolate"
   ]
  },
  {
   "cell_type": "markdown",
   "id": "a2609d6d",
   "metadata": {},
   "source": [
    "## Question 3a(iii)"
   ]
  },
  {
   "cell_type": "code",
   "execution_count": null,
   "id": "95de7e57",
   "metadata": {},
   "outputs": [],
   "source": [
    "chocolate()"
   ]
  },
  {
   "cell_type": "markdown",
   "id": "403ab630",
   "metadata": {},
   "source": [
    "## Question 3a(iv)"
   ]
  },
  {
   "cell_type": "code",
   "execution_count": null,
   "id": "24816783",
   "metadata": {
    "scrolled": true
   },
   "outputs": [],
   "source": [
    "more_chocolate = chocolate()\n",
    "more_cake = cake"
   ]
  },
  {
   "cell_type": "markdown",
   "id": "4bc53525",
   "metadata": {},
   "source": [
    "## Question 3a(v)"
   ]
  },
  {
   "cell_type": "code",
   "execution_count": null,
   "id": "706a215e",
   "metadata": {},
   "outputs": [],
   "source": [
    "more_chocolate"
   ]
  },
  {
   "cell_type": "markdown",
   "id": "19737754",
   "metadata": {},
   "source": [
    "## Question 3b(i)"
   ]
  },
  {
   "cell_type": "code",
   "execution_count": null,
   "id": "9ce3d677",
   "metadata": {},
   "outputs": [],
   "source": [
    "def snake(x, y):\n",
    "    if cake == more_cake:\n",
    "        return chocolate\n",
    "    else:\n",
    "        return x + y"
   ]
  },
  {
   "cell_type": "code",
   "execution_count": null,
   "id": "a8ee8f0f",
   "metadata": {},
   "outputs": [],
   "source": [
    "snake(10, 20)"
   ]
  },
  {
   "cell_type": "markdown",
   "id": "67401e19",
   "metadata": {},
   "source": [
    "## Question 3b(ii)"
   ]
  },
  {
   "cell_type": "code",
   "execution_count": null,
   "id": "745479be",
   "metadata": {},
   "outputs": [],
   "source": [
    "snake(10, 20)()"
   ]
  },
  {
   "cell_type": "markdown",
   "id": "6b5f9260",
   "metadata": {},
   "source": [
    "## Question 3b(iii)"
   ]
  },
  {
   "cell_type": "code",
   "execution_count": null,
   "id": "d5de85a2",
   "metadata": {},
   "outputs": [],
   "source": [
    "cake = 'cake'"
   ]
  },
  {
   "cell_type": "code",
   "execution_count": null,
   "id": "fa1c163b",
   "metadata": {},
   "outputs": [],
   "source": [
    "snake(10, 20)"
   ]
  },
  {
   "cell_type": "markdown",
   "id": "c1a7c7fa",
   "metadata": {},
   "source": [
    "## Done!\n",
    "\n",
    "That's it! There's nowhere for you to submit this, as labs are not assignments. However, please ask any questions you have with this notebook in lab or on Slack."
   ]
  }
 ],
 "metadata": {
  "kernelspec": {
   "display_name": "Python 3 (ipykernel)",
   "language": "python",
   "name": "python3"
  },
  "language_info": {
   "codemirror_mode": {
    "name": "ipython",
    "version": 3
   },
   "file_extension": ".py",
   "mimetype": "text/x-python",
   "name": "python",
   "nbconvert_exporter": "python",
   "pygments_lexer": "ipython3",
   "version": "3.9.10"
  }
 },
 "nbformat": 4,
 "nbformat_minor": 5
}
