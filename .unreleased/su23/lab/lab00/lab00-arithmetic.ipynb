{
 "cells": [
  {
   "cell_type": "markdown",
   "id": "922c49e3",
   "metadata": {},
   "source": [
    "# Coding Lab 0: Introduction to Jupyter Notebooks\n",
    "\n",
    "## Tuskegee Scholars Summer 2022\n",
    "\n",
    "Material is from [CS61A](https://cs61a.org/lab/lab00/) and [CS88](https://cs88-website.github.io/sp22/lab/sol-lab00/).\n",
    "\n",
    "Labs for this two-week \"bootcamp\" are designed as a combination of thought exercises, coding, and discussion. While programming may seem like solo work, a lot of learning actually happens through conversation. We encourage you to work in pairs!\n",
    "\n",
    "The goals of this \"warmup\" Lab 0 are as follows:\n",
    "\n",
    "* Familiarize yourself with the Jupyter Notebook environment\n",
    "* Use arithmetic operators in Python\n",
    "* Read how Python raises \"errors\" to the programmer\n",
    "* Make a friend\n",
    "* Meet your teaching staff\n",
    "\n",
    "While you will not submit these labs, we hope that you can work through the \"required\" parts of each lab. This will help build your foundation for Data 6, which starts in Week 3 of this program."
   ]
  },
  {
   "cell_type": "markdown",
   "id": "bc90296e",
   "metadata": {},
   "source": [
    "<br/><br/>\n",
    "<hr style=\"border: 5px solid #003262;\" />\n",
    "<hr style=\"border: 1px solid #fdb515;\" />\n",
    "\n",
    "# Part 0: Find a Partner!\n",
    "\n",
    "Labs are best worked on in pairs (or groups of three)! First, find a partner (or two) that you'd like to work with on this lab. Share the following things:\n",
    "\n",
    "* Introduce yourself (name, major, year, etc.).\n",
    "* Is this your first time in the San Francisco Bay Area?\n",
    "* What's your current favorite song?\n",
    "* What did you have for breakfast? Was it good?\n",
    "\n",
    "Now that you have introductions out of the way, let's work on the lab together!"
   ]
  },
  {
   "cell_type": "markdown",
   "id": "ff48a981",
   "metadata": {},
   "source": [
    "<br/><br/>\n",
    "<hr style=\"border: 5px solid #003262;\" />\n",
    "<hr style=\"border: 1px solid #fdb515;\" />\n",
    "\n",
    "# Part 1: Jupyter Notebooks\n",
    "\n",
    "## Cells\n",
    "\n",
    "**Not these!**\n",
    "\n",
    "<div align=center>\n",
    "    \n",
    "<img src='images/cell_graphic.jpeg' width=200>\n",
    "   \n",
    "</div>\n",
    "\n",
    "<br>\n",
    "\n",
    "Jupyter Notebooks are made up of cells. There are two types of cells in a Jupyter Notebook: code cells and Markdown cells. \n",
    "- Code cells are where we write all of our Python code.\n",
    "- Markdown cells allow us to write text, like the text you're reading right now. In Homework 1, you'll get a chance to learn a bit of Markdown.\n",
    "\n",
    "## Code cells\n",
    "\n",
    "Running a code cell will execute all of the code it contains.  Below the cell, any output produced by the code will appear below. Notice the `In:` and `Out:` statements to the left of the cells, followed by a number. That number designated the number of times you have run code cells so far, including that one.\n",
    "\n",
    "To run the code in a code cell, first click on that cell to activate it.  It'll be highlighted with a little green or blue rectangle. Next, do one of the following:\n",
    "* **Keyboard shortcut**: Hold down the `Shift` key and press `Return` or `Enter`.\n",
    "* **Button click**: Click the \"Run\" button in the cell toolbar above.\n",
    "\n",
    "While the above two options give no difference in computer runtime performance, it's useful to internalize some common keyboard shortcuts early in your Jupyter experience (think of it like learning \"Ctrl-C\" in place of \"Right click -> Copy to Clipboard\"). While they're not required for this course, keyboard shortuts will greatly improve your quality of life when programming Python.\n",
    "\n",
    "Try running the code cells below:"
   ]
  },
  {
   "cell_type": "code",
   "execution_count": null,
   "id": "2123e089",
   "metadata": {},
   "outputs": [],
   "source": [
    "3 + 4 ** 2"
   ]
  },
  {
   "cell_type": "code",
   "execution_count": null,
   "id": "dc4a1062",
   "metadata": {},
   "outputs": [],
   "source": [
    "1 + 2 + 4 + 8 + 16 + 32 + 64"
   ]
  },
  {
   "cell_type": "code",
   "execution_count": null,
   "id": "c53aa04b",
   "metadata": {},
   "outputs": [],
   "source": [
    "10000\n",
    "10 + 20 + 30 - max(10, 20, 30) - min(10, 20, 30)"
   ]
  },
  {
   "cell_type": "markdown",
   "id": "cd51ba0f",
   "metadata": {},
   "source": [
    "You should have seen the values `19`, `127`, and `20` displayed, respectively. Note that in the third cell above, only the value of the last line was displayed; `10000` wasn't shown in the output at all. This is expected behavior.\n",
    "\n",
    "**Comments** in code cells are denoted using a hashtag (`#`). Comments are used to explain what code does when necessary (or, occasionally in our case, to provide instructions)."
   ]
  },
  {
   "cell_type": "code",
   "execution_count": null,
   "id": "67f94191",
   "metadata": {},
   "outputs": [],
   "source": [
    "# This is a comment!\n",
    "19 - 18"
   ]
  },
  {
   "cell_type": "markdown",
   "id": "f9bac3ff",
   "metadata": {},
   "source": [
    "Python **syntax** are the words and symbols that make up Python code. If you try and use syntax Python doesn't know about, it will give you an error."
   ]
  },
  {
   "cell_type": "code",
   "execution_count": null,
   "id": "882a20d3",
   "metadata": {},
   "outputs": [],
   "source": [
    "3 + * 4"
   ]
  },
  {
   "cell_type": "code",
   "execution_count": null,
   "id": "05745f64",
   "metadata": {},
   "outputs": [],
   "source": [
    "# Why does this work while the above cell causes an error?\n",
    "3 * - 4"
   ]
  },
  {
   "cell_type": "markdown",
   "id": "491855bc",
   "metadata": {},
   "source": [
    "<br/>\n",
    "\n",
    "---\n",
    "\n",
    "# Question 1: Markdown Cells\n",
    "\n",
    "\n",
    "To edit an existing Markdown cell, double click it and change whatever you want. To render it correctly, \"run\" it as if you'd run a code cell by either clicking the \"▶ Run\" button or using the keyboard shortcut `Shift+Enter`.\n",
    "\n",
    "Edit the following cell to contain your name and your favorite color.<br/>\n",
    "*Side note:* This is how questions will be formatted in your homework assignments."
   ]
  },
  {
   "cell_type": "markdown",
   "id": "2c1f8afb",
   "metadata": {},
   "source": [
    "Lisa's favorite color is orange."
   ]
  },
  {
   "cell_type": "markdown",
   "id": "9ea6485b",
   "metadata": {},
   "source": [
    "<br/>\n",
    "\n",
    "---\n",
    "\n",
    "# Question 2: Converting cells\n",
    "\n",
    "To convert a cell from code to Markdown (or vice versa), you should use the dropdown menu in the cell toolbar. For instance, to convert the following cell from Markdown to code, you should:\n",
    "1. Click the cell.\n",
    "2. Click \"Markdown\" in the cell toolbar, and change it to \"Code.\"\n",
    "\n",
    "Change the following cell from a Markdown cell to a code cell, then run it by pressing the \"▶ Run\" button or using the keyboard shortcut `Shift + Enter`."
   ]
  },
  {
   "cell_type": "markdown",
   "id": "d13945e4",
   "metadata": {},
   "source": [
    "3 + 4 + 5"
   ]
  },
  {
   "cell_type": "markdown",
   "id": "9d75d1ab",
   "metadata": {},
   "source": [
    "<br/>\n",
    "\n",
    "## Adding and deleting cells\n",
    "\n",
    "To add cells, you can go to \"Insert\" in the toolbar at the top, then click \"Insert cell Above\" or \"Insert cell Below.\" To delete cells, you can go to \"Edit\" in the toolbar at the top and click \"Delete cells\". (Be very careful when deleting a cell.)\n",
    "\n",
    "For your convenience, we provide this screenshot that details how to switch between \"Edit mode\" and \"Command mode\", which is relevant if you want to learn keyboard shortcuts. Again, keyboard shortcuts are not required for this course, but learning some now will greatly improve your programming quality of life.\n",
    "\n",
    "<img src='images/edit-mode.png' width=400>\n",
    "\n",
    "Some useful keyboard shortcuts:\n",
    "\n",
    "| Action | Mode | Keyboard shortcut |\n",
    "| :--- | :--- | :---\n",
    "| Run cell + jump to next cell | Either (puts you in edit mode) | `SHIFT + ENTER` |\n",
    "| Save notebook | Either | `CTRL/CMD + S` |\n",
    "| Switch to command mode | Either (puts you in command mode) | `ESCAPE` |\n",
    "| Switch to edit mode | Command | `ENTER` | \n",
    "| Comment out the current line | Edit | `CTRL/CMD + /` |\n",
    "| Create new cell above/below | Command |  `A/B` |\n",
    "| Delete cell | Command | `DD` |\n",
    "| Convert cell to Markdown | Command | `M` |\n",
    "| Convert cell to code | Command | `Y` |\n",
    "| Show all shortcuts | Command |  `H` |\n"
   ]
  },
  {
   "cell_type": "markdown",
   "id": "fb505720",
   "metadata": {},
   "source": [
    "<br/>\n",
    "\n",
    "---\n",
    "\n",
    "# Question 3: Insert Cell\n",
    "\n",
    "Add a Markdown below this one, and in it write your middle name (or, if you don't have one, the name of your parent/sibling/relative), or write \"I don't have a middle name\"."
   ]
  },
  {
   "cell_type": "code",
   "execution_count": null,
   "id": "9c673d10",
   "metadata": {},
   "outputs": [],
   "source": [
    "# The cell you create should be above this one!"
   ]
  },
  {
   "cell_type": "markdown",
   "id": "cda37ba5",
   "metadata": {},
   "source": [
    "# Question 4: Delete Cell\n",
    "\n",
    "Delete the cell below."
   ]
  },
  {
   "cell_type": "code",
   "execution_count": null,
   "id": "331c022b",
   "metadata": {},
   "outputs": [],
   "source": [
    "# This should be deleted!"
   ]
  },
  {
   "cell_type": "markdown",
   "id": "24dbb071",
   "metadata": {},
   "source": [
    "<br/><br/>\n",
    "<hr style=\"border: 5px solid #003262;\" />\n",
    "<hr style=\"border: 1px solid #fdb515;\" />\n",
    "\n",
    "# Part 2: Arithmetic Expressions\n",
    "\n",
    "### Primitive expressions\n",
    "\n",
    "Primitive expressions only take one step to evaluate. This includes numbers (both `float`s and `int`s), which just evaluate to themselves."
   ]
  },
  {
   "cell_type": "code",
   "execution_count": null,
   "id": "e52004f5",
   "metadata": {},
   "outputs": [],
   "source": [
    "3"
   ]
  },
  {
   "cell_type": "code",
   "execution_count": null,
   "id": "0f15e71b",
   "metadata": {},
   "outputs": [],
   "source": [
    "12.5"
   ]
  },
  {
   "cell_type": "markdown",
   "id": "dfe372df",
   "metadata": {},
   "source": [
    "### Arithmetic expressions\n",
    "\n",
    "Numbers may be combined with mathematical operators to form compound expressions. In addition to the `+` operator (addition), the `-` operator (subtraction), the `*` operator (multiplication) and the `**` operator (exponentiation), there are three division-like operators to remember:\n",
    "\n",
    "* Floating point division (`/`): divides the first number number by the second, evaluating to a number with a decimal point even if the numbers divide evenly.\n",
    "* Floor division (`//`): divides the first number by the second and then rounds down, evaluating to an integer.\n",
    "* Modulo (`%`): evaluates to the positive remainder left over from division.\n",
    "\n",
    "Parentheses may be used to group subexpressions together; the entire expression is evaluated in PEMDAS (Parentheses, Exponentiation, Multiplication / Division, Addition / Subtraction) order."
   ]
  },
  {
   "cell_type": "code",
   "execution_count": null,
   "id": "f4ed7020",
   "metadata": {},
   "outputs": [],
   "source": [
    "7 / 4"
   ]
  },
  {
   "cell_type": "code",
   "execution_count": null,
   "id": "ae6bdd98",
   "metadata": {},
   "outputs": [],
   "source": [
    "(2 + 6) / 4"
   ]
  },
  {
   "cell_type": "code",
   "execution_count": null,
   "id": "6d377dae",
   "metadata": {},
   "outputs": [],
   "source": [
    "7 // 4        # Floor division (rounding down)"
   ]
  },
  {
   "cell_type": "code",
   "execution_count": null,
   "id": "6f2546e8",
   "metadata": {},
   "outputs": [],
   "source": [
    "7 % 4         # Modulus (remainder of 7 // 4)"
   ]
  },
  {
   "cell_type": "markdown",
   "id": "daa3ef71",
   "metadata": {},
   "source": [
    "---\n",
    "\n",
    "# Question 5: What Would Python Do? (WWPD)\n",
    "\n",
    "In this bootcamp, the WWPD activity is a **code tracing** activity, where you gain fluency with reading code and understanding how Python would evaluate it.\n",
    "\n",
    "**Before** running the following cells, consider what Python would do. Then, run the cells."
   ]
  },
  {
   "cell_type": "code",
   "execution_count": null,
   "id": "543a7790",
   "metadata": {},
   "outputs": [],
   "source": [
    "# BEFORE running: What will output? Why?\n",
    "10 + 2"
   ]
  },
  {
   "cell_type": "code",
   "execution_count": null,
   "id": "9213ee94",
   "metadata": {},
   "outputs": [],
   "source": [
    "# BEFORE running: What will output? Why?\n",
    "7 / 2"
   ]
  },
  {
   "cell_type": "code",
   "execution_count": null,
   "id": "d3700690",
   "metadata": {},
   "outputs": [],
   "source": [
    "# BEFORE running: What will output? Why?\n",
    "7 // 2"
   ]
  },
  {
   "cell_type": "code",
   "execution_count": null,
   "id": "7e978a90",
   "metadata": {},
   "outputs": [],
   "source": [
    "# BEFORE running: What will output? Why?\n",
    "7 % 2"
   ]
  },
  {
   "cell_type": "markdown",
   "id": "87906b2b",
   "metadata": {},
   "source": [
    "<br/><br/>\n",
    "\n",
    "---\n",
    "\n",
    "# Question 6: Math Time!\n",
    "\n",
    "Come up with your most creative arithmetic expression that evaluates to `2022` using only numbers and the `+`, `*`, and `-` operators.\n",
    "\n",
    "Then, running the entire cell should evaluate to `2022`.\n"
   ]
  },
  {
   "cell_type": "code",
   "execution_count": null,
   "id": "777e1cf8",
   "metadata": {},
   "outputs": [],
   "source": [
    "# replace this line with your expression"
   ]
  },
  {
   "cell_type": "markdown",
   "id": "ab09daaa",
   "metadata": {},
   "source": [
    "<br/><br/>\n",
    "<hr style=\"border: 5px solid #003262;\" />\n",
    "<hr style=\"border: 1px solid #fdb515;\" />\n",
    "\n",
    "# Part 3: Call Expressions\n",
    "\n",
    "While many functions like `max()`, `min()`, and `pow()` are built in to every Python environment, we can also import functions from various modules in what's called the Python standard library.\n",
    "\n",
    "We use the below line to import functions like `add()`, `sub()`, etc. from the `operator` module in the Python standard library.\n",
    "\n",
    "**Note**: This is a good time to ask your teaching staff about the **import statement** below: why it is needed, and what new functions it brings in."
   ]
  },
  {
   "cell_type": "code",
   "execution_count": null,
   "id": "702e146f",
   "metadata": {},
   "outputs": [],
   "source": [
    "# just run this cell. After running, you can call add(..., ...).\n",
    "from operator import add"
   ]
  },
  {
   "cell_type": "markdown",
   "id": "7a7cf2dd",
   "metadata": {},
   "source": [
    "Now that the function  `add` has been imported, we can use it in expressions instead of the operator `+`:"
   ]
  },
  {
   "cell_type": "code",
   "execution_count": null,
   "id": "04969bd6",
   "metadata": {
    "scrolled": true
   },
   "outputs": [],
   "source": [
    "add(18, 69)"
   ]
  },
  {
   "cell_type": "markdown",
   "id": "3b814dba",
   "metadata": {},
   "source": [
    "<br/><br/>\n",
    "\n",
    "---\n",
    "\n",
    "# Question 7: What Would Python Do? (WWPD)\n",
    "\n",
    "From [CS88 Discussion 01](https://cs88-website.github.io/sp22/disc/disc01.pdf)\n",
    "\n",
    "First, load in the operators:"
   ]
  },
  {
   "cell_type": "code",
   "execution_count": null,
   "id": "3b761860",
   "metadata": {},
   "outputs": [],
   "source": [
    "# just run this cell\n",
    "from operator import add, mul"
   ]
  },
  {
   "cell_type": "markdown",
   "id": "296267a7",
   "metadata": {},
   "source": [
    "Then, \n",
    "**before** running the following cell, consider what Python would do. Then, run the cell. Were you on the right track?"
   ]
  },
  {
   "cell_type": "code",
   "execution_count": null,
   "id": "4d3f934e",
   "metadata": {},
   "outputs": [],
   "source": [
    "# what would Python do?\n",
    "mul(add(5, 6), 8)"
   ]
  },
  {
   "cell_type": "markdown",
   "id": "5e788b2a",
   "metadata": {},
   "source": [
    "<br/><br/>\n",
    "\n",
    "---\n",
    "\n",
    "# Question 8:  Arithmetic Expressions\n",
    "\n",
    "\n",
    "Below, type expressions that use function calls and correspond to each arithmetic expression. In other words, you should use `add()`, `sub()`, etc., and not `+`, `-`, etc.\n",
    "\n",
    "Make sure to run the following cell to import the needed functions from the `operator` module."
   ]
  },
  {
   "cell_type": "code",
   "execution_count": null,
   "id": "e2450585",
   "metadata": {},
   "outputs": [],
   "source": [
    "# just run this cell\n",
    "from operator import add, sub, mul, truediv, floordiv, mod"
   ]
  },
  {
   "cell_type": "markdown",
   "id": "928af19a",
   "metadata": {},
   "source": [
    "## Question 8a\n",
    "\n",
    "```\n",
    "30 + 2\n",
    "```"
   ]
  },
  {
   "cell_type": "code",
   "execution_count": null,
   "id": "63c84d74",
   "metadata": {},
   "outputs": [],
   "source": [
    "# your call expression here"
   ]
  },
  {
   "cell_type": "markdown",
   "id": "f7661942",
   "metadata": {},
   "source": [
    "## Question 8b\n",
    "\n",
    "```\n",
    "30 - 2\n",
    "```"
   ]
  },
  {
   "cell_type": "code",
   "execution_count": null,
   "id": "e0f6205c",
   "metadata": {},
   "outputs": [],
   "source": [
    "# your call expression here"
   ]
  },
  {
   "cell_type": "markdown",
   "id": "096a1d10",
   "metadata": {},
   "source": [
    "## Question 8c\n",
    "\n",
    "```\n",
    "30 * 2\n",
    "```"
   ]
  },
  {
   "cell_type": "code",
   "execution_count": null,
   "id": "ab4b0fd6",
   "metadata": {},
   "outputs": [],
   "source": [
    "# your call expression here"
   ]
  },
  {
   "cell_type": "markdown",
   "id": "2644a71b",
   "metadata": {},
   "source": [
    "## Question 8d\n",
    "\n",
    "```\n",
    "30 / 2\n",
    "```"
   ]
  },
  {
   "cell_type": "code",
   "execution_count": null,
   "id": "d92e8bba",
   "metadata": {},
   "outputs": [],
   "source": [
    "# your call expression here"
   ]
  },
  {
   "cell_type": "markdown",
   "id": "aff279b6",
   "metadata": {},
   "source": [
    "## Question 8e\n",
    "\n",
    "```\n",
    "30 % 2\n",
    "```"
   ]
  },
  {
   "cell_type": "code",
   "execution_count": null,
   "id": "60080cd4",
   "metadata": {},
   "outputs": [],
   "source": [
    "# your call expression here"
   ]
  },
  {
   "cell_type": "markdown",
   "id": "6bbbcc2b",
   "metadata": {},
   "source": [
    "## Question 8f\n",
    "\n",
    "Nested expressions!\n",
    "\n",
    "```\n",
    "30 + (2 * 4)\n",
    "```"
   ]
  },
  {
   "cell_type": "code",
   "execution_count": null,
   "id": "187cb322",
   "metadata": {},
   "outputs": [],
   "source": [
    "# your call expression here"
   ]
  },
  {
   "cell_type": "markdown",
   "id": "af4e4045",
   "metadata": {},
   "source": [
    "## Question 8g\n",
    "\n",
    "\n",
    "Nested expressions!\n",
    "\n",
    "```\n",
    "3 * (10 - 2)\n",
    "```"
   ]
  },
  {
   "cell_type": "code",
   "execution_count": null,
   "id": "366ecec2",
   "metadata": {},
   "outputs": [],
   "source": [
    "# your call expression here"
   ]
  },
  {
   "cell_type": "markdown",
   "id": "24fb4a23",
   "metadata": {},
   "source": [
    "<br/><br/>\n",
    "<hr style=\"border: 5px solid #003262;\" />\n",
    "<hr style=\"border: 1px solid #fdb515;\" />\n",
    "\n",
    "# Part 4: Errors"
   ]
  },
  {
   "cell_type": "markdown",
   "id": "c8f79397",
   "metadata": {},
   "source": [
    "By now, you've probably seen a couple of error messages. They might look intimidating, but error messages are very helpful for debugging code. The following are some common types of errors:\n",
    "\n",
    "| Error Types | Descriptions |\n",
    "| :--- | :--- |\n",
    "| `SyntaxError`| Contained improper syntax (e.g. forgetting to close parentheses/quotes) | \n",
    "| `TypeError` | Attempted operation on incompatible types (e.g. trying to add a function and a number) or called function with the wrong number of arguments | \n",
    "| `ZeroDivisionError` | Attempted division by zero | \n",
    "\n",
    "Using these descriptions of error messages, you should be able to get a better idea of what went wrong with your code. If you run into error messages, try to identify the problem before asking for help. You can often Google unfamiliar error messages to see if others have made similar mistakes to help you debug.\n",
    "\n",
    "For example:\n"
   ]
  },
  {
   "cell_type": "code",
   "execution_count": null,
   "id": "0f4fd1d3",
   "metadata": {},
   "outputs": [],
   "source": [
    "# just run this cell\n",
    "add(4, 5, 6)"
   ]
  },
  {
   "cell_type": "markdown",
   "id": "3e2e43c2",
   "metadata": {},
   "source": [
    "Notes:\n",
    "* The last line of an error message tells us the type of the error. In the example above, we have a TypeError.\n",
    "* The error message tells us what we did wrong — we gave `add` 3 arguments when it can only take in 2 argument. In general, the last line is the most helpful.\n",
    "* The second to last line of the error message tells us on which line the error occurred. This helps us track down he error. In the example above, TypeError occurred at line 1."
   ]
  },
  {
   "cell_type": "markdown",
   "id": "9b3bfdc7",
   "metadata": {},
   "source": [
    "<br/><br/>\n",
    "\n",
    "---\n",
    "\n",
    "# Question 9:  Fixing Errors\n",
    "\n",
    "Consider the following expression, which is supposed to evaluate to `20.8` but contains an error."
   ]
  },
  {
   "cell_type": "code",
   "execution_count": null,
   "id": "8c37defc",
   "metadata": {},
   "outputs": [],
   "source": [
    "# just run this cell. it will error.\n",
    "(20 + 54 // 35 - (1 / 0)"
   ]
  },
  {
   "cell_type": "markdown",
   "id": "e316171d",
   "metadata": {},
   "source": [
    "There's a `SyntaxError`!\n",
    "\n",
    "In the cell below, we've copy-pasted the original expression. Edit/delete/add exactly **two characters** (i.e., symbols or numbers) such that the code correctly evaluates to `20.8`.\n",
    "\n",
    "**Hint**: There are **two** errors in the above cell, but Python only displays one at a time. You will need to fix the `SyntaxError` first."
   ]
  },
  {
   "cell_type": "code",
   "execution_count": null,
   "id": "4cb386f9",
   "metadata": {},
   "outputs": [],
   "source": [
    "# edit/delete/add exactly two characters to debug.\n",
    "(20 + 54 // 35 - (1 / 0)"
   ]
  },
  {
   "cell_type": "markdown",
   "id": "10b633e4",
   "metadata": {},
   "source": [
    "<br/><br/>\n",
    "\n",
    "# Congratulations!\n",
    "\n",
    "You're done with this lab! There's nothing more to do for today, nor do you need to submit this assignment anywhere.\n",
    "\n",
    "You have the Research and Pedagogy Seminar at 3pm today (Berkeley time means it starts at 3:10pm).\n",
    "\n",
    "In the meantime, there are some optional readings for today and tomorrow's Python content. Or....take a break!"
   ]
  }
 ],
 "metadata": {
  "kernelspec": {
   "display_name": "Python 3 (ipykernel)",
   "language": "python",
   "name": "python3"
  },
  "language_info": {
   "codemirror_mode": {
    "name": "ipython",
    "version": 3
   },
   "file_extension": ".py",
   "mimetype": "text/x-python",
   "name": "python",
   "nbconvert_exporter": "python",
   "pygments_lexer": "ipython3",
   "version": "3.9.13"
  }
 },
 "nbformat": 4,
 "nbformat_minor": 5
}
