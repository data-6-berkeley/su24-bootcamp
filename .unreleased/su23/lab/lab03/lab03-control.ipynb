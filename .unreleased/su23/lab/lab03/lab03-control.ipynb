{
 "cells": [
  {
   "cell_type": "raw",
   "id": "35028dcc",
   "metadata": {},
   "source": [
    "# ASSIGNMENT CONFIG\n",
    "generate: true\n",
    "export_cell:\n",
    "    run_tests: true\n",
    "    pdf: false\n",
    "seed:\n",
    "    variable: rng_seed\n",
    "    autograder_value: 42\n",
    "    student_value: 90"
   ]
  },
  {
   "cell_type": "markdown",
   "id": "f5ffdad0",
   "metadata": {},
   "source": [
    "# Coding Lab 3: Print, `None`, and Control\n",
    "\n",
    "## Tuskegee Scholars Summer 2023\n",
    "\n",
    "Goals of Lab 3:\n",
    "* Differentiate betwen the `print()` function and the `return` statement\n",
    "* Understand the properties of `None`\n",
    "* Build functions with `if-elif-else` conditional statements\n",
    "\n",
    "While you will not submit these labs, we hope that you can work through the \"required\" parts of each lab. This will help build your foundation for Data 6, which starts in Week 3 of this program.\n",
    "\n",
    "You will just be working through this single lab today, which has 6 questions. There are several bonus questions; feel free to work through these once you've finished the main lab."
   ]
  },
  {
   "cell_type": "markdown",
   "id": "ee3c84d2",
   "metadata": {},
   "source": [
    "<br/><br/>\n",
    "<hr style=\"border: 5px solid #003262;\" />\n",
    "<hr style=\"border: 1px solid #fdb515;\" />\n",
    "\n",
    "# Part 0: Find a Partner!\n",
    "\n",
    "Labs are best worked on in pairs (or groups of three)! First, find a **new** partner (or two) that you'd like to work with on this lab. Share the following things:\n",
    "\n",
    "* Introduce yourself (name, major, year, etc.).\n",
    "* What's your current favorite song?\n",
    "* What did you have for dinner? Was it good?\n",
    "* How was your summer so far?\n",
    "\n",
    "Now that you have introductions out of the way, let's work on the lab together!"
   ]
  },
  {
   "cell_type": "markdown",
   "id": "0c0bcb69",
   "metadata": {},
   "source": [
    "<br/><br/>\n",
    "<hr style=\"border: 5px solid #003262;\" />\n",
    "<hr style=\"border: 1px solid #fdb515;\" />\n",
    "\n",
    "# Part 1: Warmup/Review\n",
    "\n",
    "Let's review functions!"
   ]
  },
  {
   "cell_type": "raw",
   "id": "eb30982f",
   "metadata": {},
   "source": [
    "# BEGIN QUESTION\n",
    "name: q1\n",
    "points: 2"
   ]
  },
  {
   "cell_type": "markdown",
   "id": "750817f6",
   "metadata": {},
   "source": [
    "---\n",
    "\n",
    "# Question 1: Temperature Converter\n",
    "\n",
    "How can we communicate the highs and lows of climate change with people who use a different temperature unit? \n",
    "Let's make a temperature converter based on the steps here: \n",
    "https://www.mathsisfun.com/temperature-conversion.html\n",
    "\n",
    "Create a function called `celsius_to_fahrenheit` that:\n",
    "* takes a single argument, the temperature in celsius\n",
    "* calculates and returns the fahrenheit equivalent\n",
    "\n",
    "Similarly, create another function called `fahrenheit_to_celsius` that:\n",
    "* takes a single argument, the temperature in fahrenheit\n",
    "* calculates and returns the celsius equivalent\n",
    "\n",
    "\n",
    "Your implementations should correctly evaluate the following:\n",
    "```\n",
    "celsius_to_fahrenheit(0)   # 32\n",
    "celsius_to_fahrenheit(100) # 212\n",
    "fahrenheit_to_celsius(32)  # 0\n",
    "fahrenheit_to_celsius(212) # 100\n",
    "```"
   ]
  },
  {
   "cell_type": "raw",
   "id": "363ba14e",
   "metadata": {},
   "source": [
    "# BEGIN SOLUTION"
   ]
  },
  {
   "cell_type": "code",
   "execution_count": 1,
   "id": "d6c3eec4",
   "metadata": {},
   "outputs": [
    {
     "name": "stdout",
     "output_type": "stream",
     "text": [
      "0 degrees Celsius is 32 degrees Farenheit\n",
      "0 degrees Farenheit is -18 degrees Celsius\n"
     ]
    }
   ],
   "source": [
    "\"\"\" # BEGIN PROMPT\n",
    "# This def statement may be incomplete...\n",
    "def celsius_to_farenheit():\n",
    "    ...\n",
    "    \n",
    "# This def statement may be incomplete...\n",
    "def farenheit_to_celsius():\n",
    "    ...\n",
    "\"\"\" # END PROMPT\n",
    "\n",
    "# BEGIN SOLUTION NO PROMPT\n",
    "def celsius_to_farenheit(degrees_c):\n",
    "    return round(degrees_c * 9/5 + 32)\n",
    "\n",
    "def farenheit_to_celsius(degrees_f):\n",
    "    return round((degrees_f - 32) * 5/9)\n",
    "# END SOLUTION\n",
    "\n",
    "# edit the below lines as needed to test your functions\n",
    "print(\"0 degrees Celsius is\", celsius_to_farenheit(0), \"degrees Farenheit\")\n",
    "print(\"0 degrees Farenheit is\", farenheit_to_celsius(0), \"degrees Celsius\")"
   ]
  },
  {
   "cell_type": "raw",
   "id": "c753a9f6",
   "metadata": {},
   "source": [
    "# END SOLUTION"
   ]
  },
  {
   "cell_type": "raw",
   "id": "9ea95f63",
   "metadata": {},
   "source": [
    "# BEGIN TESTS"
   ]
  },
  {
   "cell_type": "code",
   "execution_count": 2,
   "id": "88b77156",
   "metadata": {},
   "outputs": [
    {
     "data": {
      "text/plain": [
       "True"
      ]
     },
     "execution_count": 2,
     "metadata": {},
     "output_type": "execute_result"
    }
   ],
   "source": [
    "celsius_to_farenheit(0) == 32"
   ]
  },
  {
   "cell_type": "code",
   "execution_count": 3,
   "id": "c3d4cdb2",
   "metadata": {},
   "outputs": [
    {
     "data": {
      "text/plain": [
       "True"
      ]
     },
     "execution_count": 3,
     "metadata": {},
     "output_type": "execute_result"
    }
   ],
   "source": [
    "celsius_to_farenheit(100) == 212"
   ]
  },
  {
   "cell_type": "code",
   "execution_count": 4,
   "id": "7e851f77",
   "metadata": {},
   "outputs": [
    {
     "data": {
      "text/plain": [
       "True"
      ]
     },
     "execution_count": 4,
     "metadata": {},
     "output_type": "execute_result"
    }
   ],
   "source": [
    "farenheit_to_celsius(32) == 0"
   ]
  },
  {
   "cell_type": "code",
   "execution_count": 5,
   "id": "171e6338",
   "metadata": {},
   "outputs": [
    {
     "data": {
      "text/plain": [
       "True"
      ]
     },
     "execution_count": 5,
     "metadata": {},
     "output_type": "execute_result"
    }
   ],
   "source": [
    "farenheit_to_celsius(212) == 100"
   ]
  },
  {
   "cell_type": "raw",
   "id": "4175e205",
   "metadata": {},
   "source": [
    "# END TESTS"
   ]
  },
  {
   "cell_type": "raw",
   "id": "ecd979f3",
   "metadata": {},
   "source": [
    "# END QUESTION"
   ]
  },
  {
   "cell_type": "markdown",
   "id": "37e6eb58",
   "metadata": {},
   "source": [
    "<br/><br/>\n",
    "<hr style=\"border: 5px solid #003262;\" />\n",
    "<hr style=\"border: 1px solid #fdb515;\" />\n",
    "\n",
    "# Part 2: `print()`\n",
    "\n",
    "The `print()` function is used to display values in Jupyter. This can lead to some confusion between print and **output**, because evaluating the last expression in a Jupyter code cell will **output** the resulting value.\n",
    "\n",
    "However, this is different from **displaying** values directly from the cell (which is what `print()` does)."
   ]
  },
  {
   "cell_type": "code",
   "execution_count": 6,
   "id": "a7d0baf5",
   "metadata": {},
   "outputs": [
    {
     "name": "stdout",
     "output_type": "stream",
     "text": [
      "Hello World!\n"
     ]
    }
   ],
   "source": [
    "# printing/displaying\n",
    "print(\"Hello World!\")"
   ]
  },
  {
   "cell_type": "code",
   "execution_count": 7,
   "id": "f9b10ceb",
   "metadata": {},
   "outputs": [
    {
     "data": {
      "text/plain": [
       "'Hello World!'"
      ]
     },
     "execution_count": 7,
     "metadata": {},
     "output_type": "execute_result"
    }
   ],
   "source": [
    "# vs outputting\n",
    "\"Hello World!\""
   ]
  },
  {
   "cell_type": "markdown",
   "id": "56cdada2",
   "metadata": {},
   "source": [
    "Another thing to remember is that 'print' is a function itself, so it also has a return value. The return value of 'print' is 'None'."
   ]
  },
  {
   "cell_type": "code",
   "execution_count": 8,
   "id": "010e05b3",
   "metadata": {},
   "outputs": [
    {
     "name": "stdout",
     "output_type": "stream",
     "text": [
      "Hello World!\n",
      "None\n"
     ]
    }
   ],
   "source": [
    "print(print(\"Hello World!\"))"
   ]
  },
  {
   "cell_type": "markdown",
   "id": "9fdc8d92",
   "metadata": {},
   "source": [
    "However, note that the following cell only **prints**; it does **not** output."
   ]
  },
  {
   "cell_type": "code",
   "execution_count": 9,
   "id": "5a95e322",
   "metadata": {},
   "outputs": [
    {
     "name": "stdout",
     "output_type": "stream",
     "text": [
      "Hello World!\n"
     ]
    }
   ],
   "source": [
    "output_of_print = print(\"Hello World!\")\n",
    "output_of_print"
   ]
  },
  {
   "cell_type": "markdown",
   "id": "3f6fce6e",
   "metadata": {},
   "source": [
    "This is because Jupyter code cells are programmed not to output `None` even if it is the last evaluated value in the cell. Check it out:"
   ]
  },
  {
   "cell_type": "code",
   "execution_count": 10,
   "id": "cb9f85cc",
   "metadata": {},
   "outputs": [],
   "source": [
    "# this does not output anything\n",
    "None"
   ]
  },
  {
   "cell_type": "markdown",
   "id": "24f56795",
   "metadata": {},
   "source": [
    "The below cell doesn't output anything either; it only displays:"
   ]
  },
  {
   "cell_type": "code",
   "execution_count": 11,
   "id": "a09166db",
   "metadata": {},
   "outputs": [
    {
     "name": "stdout",
     "output_type": "stream",
     "text": [
      "no output! only print!\n"
     ]
    }
   ],
   "source": [
    "print(\"no output! only print!\")"
   ]
  },
  {
   "cell_type": "markdown",
   "id": "5badbe00",
   "metadata": {},
   "source": [
    "By contrast,"
   ]
  },
  {
   "cell_type": "code",
   "execution_count": 12,
   "id": "8f81f08d",
   "metadata": {},
   "outputs": [
    {
     "data": {
      "text/plain": [
       "2"
      ]
     },
     "execution_count": 12,
     "metadata": {},
     "output_type": "execute_result"
    }
   ],
   "source": [
    "2"
   ]
  },
  {
   "cell_type": "markdown",
   "id": "6db7cd30",
   "metadata": {},
   "source": [
    "### `return` vs `print`\n",
    "\n",
    "Let's return to a familiar function:"
   ]
  },
  {
   "cell_type": "code",
   "execution_count": 13,
   "id": "adc69752",
   "metadata": {},
   "outputs": [
    {
     "data": {
      "text/plain": [
       "16"
      ]
     },
     "execution_count": 13,
     "metadata": {},
     "output_type": "execute_result"
    }
   ],
   "source": [
    "def square(x):\n",
    "    return x * x\n",
    "\n",
    "square(4)"
   ]
  },
  {
   "cell_type": "markdown",
   "id": "9691bdf3",
   "metadata": {},
   "source": [
    "Recall that when Python executes a `return` statement, the function terminates immediately. If Python reaches the end of the function body without executing a `return` statement, it will automatically return `None`.\n",
    "\n",
    "In contrast, the `print()` function is used to **display** values in the notebook. This can lead to some confusion between `print()` and `return` because calling a function in a cell will often **output** the function's return value.\n",
    "\n",
    "However, unlike a `return` statement, when Python evaluates a `print()` expression, the function does not terminate immediately."
   ]
  },
  {
   "cell_type": "code",
   "execution_count": 14,
   "id": "8f450c1d",
   "metadata": {},
   "outputs": [],
   "source": [
    "def what_prints():\n",
    "    print('Hello World!')\n",
    "    return 'Exiting this function.'\n",
    "    print('We are awesome!')"
   ]
  },
  {
   "cell_type": "code",
   "execution_count": 15,
   "id": "d370ac85",
   "metadata": {},
   "outputs": [
    {
     "name": "stdout",
     "output_type": "stream",
     "text": [
      "Hello World!\n"
     ]
    },
    {
     "data": {
      "text/plain": [
       "'Exiting this function.'"
      ]
     },
     "execution_count": 15,
     "metadata": {},
     "output_type": "execute_result"
    }
   ],
   "source": [
    "what_prints()"
   ]
  },
  {
   "cell_type": "markdown",
   "id": "b1a2e72c",
   "metadata": {},
   "source": [
    "Notice also that print will display text **without the quotes**, but return will preserve the quotes (because it's the output value).\n",
    "\n",
    "Finally, remember that `print()` is a function itself, so it also has a return value. The return value of `print()` is `None`."
   ]
  },
  {
   "cell_type": "markdown",
   "id": "2f486f4a",
   "metadata": {},
   "source": [
    "<br/><br/>\n",
    "\n",
    "---\n",
    "\n",
    "# Question 2: What Would Python *Display*? Part 1\n",
    "\n",
    "From [CS 88, Discussion 01](https://cs88-website.github.io/sp22/disc/disc01.pdf).\n",
    "\n",
    "**Before** running the following cells, consider what (if anything) Python will print, (i.e., display--not output). Then, run the cells. You can use the keyboard shortcut `Shift + <Enter>` to run and step to the next cell.\n",
    "\n",
    "\n",
    "This question is designed as a discussion question, so talk through your ideas with your partner(s)!"
   ]
  },
  {
   "cell_type": "code",
   "execution_count": 16,
   "id": "36040a1b",
   "metadata": {},
   "outputs": [
    {
     "name": "stdout",
     "output_type": "stream",
     "text": [
      "x\n"
     ]
    }
   ],
   "source": [
    "print('x')"
   ]
  },
  {
   "cell_type": "code",
   "execution_count": 17,
   "id": "ed784627",
   "metadata": {},
   "outputs": [
    {
     "name": "stdout",
     "output_type": "stream",
     "text": [
      "x\n"
     ]
    }
   ],
   "source": [
    "y = print('x')"
   ]
  },
  {
   "cell_type": "code",
   "execution_count": 18,
   "id": "243df2ca",
   "metadata": {},
   "outputs": [
    {
     "name": "stdout",
     "output_type": "stream",
     "text": [
      "None\n"
     ]
    }
   ],
   "source": [
    "print(y)"
   ]
  },
  {
   "cell_type": "code",
   "execution_count": 19,
   "id": "a4492de5",
   "metadata": {},
   "outputs": [
    {
     "name": "stdout",
     "output_type": "stream",
     "text": [
      "a\n",
      "6 None\n"
     ]
    }
   ],
   "source": [
    "from operator import add\n",
    "print(add(4, 2), print('a'))"
   ]
  },
  {
   "cell_type": "markdown",
   "id": "cc707464",
   "metadata": {},
   "source": [
    "<br/><br/>\n",
    "\n",
    "---\n",
    "\n",
    "# Question 3: What would Python *Display*? Part 2\n",
    "\n",
    "Remember: `print()` (unlike `return`) does not cause the function to exit!\n",
    "\n",
    "\n",
    "This question is designed as a discussion question, so talk through your ideas with your partner(s)!\n",
    "\n",
    "## Question 3a"
   ]
  },
  {
   "cell_type": "code",
   "execution_count": 20,
   "id": "0e77c7f6",
   "metadata": {},
   "outputs": [
    {
     "name": "stdout",
     "output_type": "stream",
     "text": [
      "10\n",
      "foo\n"
     ]
    }
   ],
   "source": [
    "def ab(c, d):\n",
    "    if c > 5:\n",
    "        print(c)\n",
    "    elif c > 7:\n",
    "        print(d)\n",
    "    print('foo')\n",
    "\n",
    "ab(10, 20)"
   ]
  },
  {
   "cell_type": "markdown",
   "id": "f732ea38",
   "metadata": {},
   "source": [
    "## Question 3b"
   ]
  },
  {
   "cell_type": "code",
   "execution_count": 21,
   "id": "0e36e20d",
   "metadata": {},
   "outputs": [],
   "source": [
    "def bake(cake, make):\n",
    "    if cake == 0:\n",
    "        cake = cake + 1\n",
    "        print(cake)\n",
    "    if cake == 1:\n",
    "        print(make)\n",
    "    else:\n",
    "        return cake\n",
    "    return make"
   ]
  },
  {
   "cell_type": "code",
   "execution_count": 22,
   "id": "0a25c8af",
   "metadata": {},
   "outputs": [
    {
     "name": "stdout",
     "output_type": "stream",
     "text": [
      "1\n",
      "29\n"
     ]
    },
    {
     "data": {
      "text/plain": [
       "29"
      ]
     },
     "execution_count": 22,
     "metadata": {},
     "output_type": "execute_result"
    }
   ],
   "source": [
    "bake(0, 29)"
   ]
  },
  {
   "cell_type": "code",
   "execution_count": 23,
   "id": "d9d4987e",
   "metadata": {},
   "outputs": [
    {
     "name": "stdout",
     "output_type": "stream",
     "text": [
      "mashed potatoes\n"
     ]
    },
    {
     "data": {
      "text/plain": [
       "'mashed potatoes'"
      ]
     },
     "execution_count": 23,
     "metadata": {},
     "output_type": "execute_result"
    }
   ],
   "source": [
    "bake(1, \"mashed potatoes\")"
   ]
  },
  {
   "cell_type": "markdown",
   "id": "45951437",
   "metadata": {},
   "source": [
    "\n",
    "<br/><br/>\n",
    "<hr style=\"border: 5px solid #003262;\" />\n",
    "<hr style=\"border: 1px solid #fdb515;\" />\n",
    "\n",
    "# Part 3: Conditional Statements\n",
    "\n",
    "Conditional statements let programs execute different lines of code depending on certain\n",
    "conditions. Let’s review the if- elif-else syntax:\n",
    "\n",
    "```\n",
    "if <conditional expression>:\n",
    "    <suite of statements>\n",
    "elif <conditional expression>:\n",
    "    <suite of statements>\n",
    "else:\n",
    "    <suite of statements>\n",
    "```\n",
    "\n",
    "Recall the following points:\n",
    "* The `else` and `elif` clauses are optional, and you can have any number of elif clause.\n",
    "* A **conditional expression** is a expression that evaluates to either a true value (`True`, a non-zero integer, etc.) or a false value (`False`, `0`, `None`, etc.).\n",
    "* Only the suite that is indented under the first `if`/`elif` that has a conditional expression that evaluates to True will be executed.\n",
    "* If none of the conditional expressions are `True`, then the else suite is executed. There can only be one `else` clause in a conditional statement!\n",
    "\n",
    "**Tip**: You may be tempted to write code like this:\n",
    "\n",
    "```\n",
    "if x > 3:\n",
    "    return True\n",
    "else:\n",
    "    return False\n",
    "````\n",
    "\n",
    "This can be written more concisely as:\n",
    "\n",
    "```\n",
    "return x > 3\n",
    "```\n",
    "\n",
    "Boolean expressions and conditional statements take practice! Whenever you write conditional statements that involve returning or binding boolean values, see if you can rewrite your code.\n"
   ]
  },
  {
   "cell_type": "markdown",
   "id": "5c3d092f",
   "metadata": {},
   "source": [
    "<br/>\n",
    "\n",
    "---\n",
    "\n",
    "# Question 4: If True, What Would Python Do? (ITWWPD)\n",
    "\n",
    "From [CS 88 Lab 01](https://cs88-website.github.io/sp22/lab/lab01/), [CS 61A Lab 01](https://cs61a.org/lab/lab01/#error-messages) and [CS 61A Discussion 01](https://cs61a.org/disc/disc01/).\n",
    "\n",
    "\n",
    "**Before** running the following cells, consider what Python would do. Then, run the cells. You can use the keyboard shortcut `Shift + <Enter>` to run and step to the next cell.\n",
    "\n",
    "\n",
    "This question is designed as a discussion question, so talk through your ideas with your partner(s)!\n"
   ]
  },
  {
   "cell_type": "markdown",
   "id": "caf343bd",
   "metadata": {},
   "source": [
    "\n",
    "## Question 4a"
   ]
  },
  {
   "cell_type": "code",
   "execution_count": 24,
   "id": "8a5315f4",
   "metadata": {},
   "outputs": [],
   "source": [
    "def xk(c, d):\n",
    "    if c == 4:\n",
    "        return 6\n",
    "    elif d >= 4:\n",
    "        return 6 + 7 + c\n",
    "    else:\n",
    "        return 25\n",
    "    return 12"
   ]
  },
  {
   "cell_type": "code",
   "execution_count": 25,
   "id": "5ad59bfb",
   "metadata": {},
   "outputs": [
    {
     "data": {
      "text/plain": [
       "23"
      ]
     },
     "execution_count": 25,
     "metadata": {},
     "output_type": "execute_result"
    }
   ],
   "source": [
    "xk(10, 10)"
   ]
  },
  {
   "cell_type": "code",
   "execution_count": 26,
   "id": "b8c2f2c0",
   "metadata": {},
   "outputs": [
    {
     "data": {
      "text/plain": [
       "23"
      ]
     },
     "execution_count": 26,
     "metadata": {},
     "output_type": "execute_result"
    }
   ],
   "source": [
    "xk(10, 6)"
   ]
  },
  {
   "cell_type": "code",
   "execution_count": 27,
   "id": "6c5a671a",
   "metadata": {},
   "outputs": [
    {
     "data": {
      "text/plain": [
       "6"
      ]
     },
     "execution_count": 27,
     "metadata": {},
     "output_type": "execute_result"
    }
   ],
   "source": [
    "xk(4, 6)"
   ]
  },
  {
   "cell_type": "code",
   "execution_count": 28,
   "id": "34ff7ed2",
   "metadata": {},
   "outputs": [
    {
     "data": {
      "text/plain": [
       "25"
      ]
     },
     "execution_count": 28,
     "metadata": {},
     "output_type": "execute_result"
    }
   ],
   "source": [
    "xk(0, 0)"
   ]
  },
  {
   "cell_type": "markdown",
   "id": "54a20a03",
   "metadata": {},
   "source": [
    "<br/>\n",
    "\n",
    "\n",
    "## Question 4b"
   ]
  },
  {
   "cell_type": "code",
   "execution_count": 29,
   "id": "3c8cba36",
   "metadata": {},
   "outputs": [],
   "source": [
    "def how_big(x):\n",
    "    if x < 0:\n",
    "        print('negative')\n",
    "    if x > 10:\n",
    "        print('huge')\n",
    "    elif x > 5:\n",
    "        print('big')\n",
    "    elif x > 0:\n",
    "        print('small')\n",
    "    else:\n",
    "        print('nothing')"
   ]
  },
  {
   "cell_type": "code",
   "execution_count": 30,
   "id": "8425bf8c",
   "metadata": {},
   "outputs": [
    {
     "name": "stdout",
     "output_type": "stream",
     "text": [
      "big\n"
     ]
    }
   ],
   "source": [
    "how_big(7)"
   ]
  },
  {
   "cell_type": "code",
   "execution_count": 31,
   "id": "bc45a671",
   "metadata": {},
   "outputs": [
    {
     "name": "stdout",
     "output_type": "stream",
     "text": [
      "huge\n"
     ]
    }
   ],
   "source": [
    "how_big(12)"
   ]
  },
  {
   "cell_type": "code",
   "execution_count": 32,
   "id": "84e8d30f",
   "metadata": {},
   "outputs": [
    {
     "name": "stdout",
     "output_type": "stream",
     "text": [
      "small\n"
     ]
    }
   ],
   "source": [
    "how_big(1)"
   ]
  },
  {
   "cell_type": "code",
   "execution_count": 33,
   "id": "a6d76c4e",
   "metadata": {},
   "outputs": [
    {
     "name": "stdout",
     "output_type": "stream",
     "text": [
      "negative\n",
      "nothing\n"
     ]
    }
   ],
   "source": [
    "how_big(-1)"
   ]
  },
  {
   "cell_type": "markdown",
   "id": "3d5324f0",
   "metadata": {},
   "source": [
    "<br/><br/>\n",
    "\n",
    "---\n",
    "\n",
    "# Question 5: `if` vs `elif`\n",
    "\n",
    "In this question, we will explore the difference between `if` and `elif`.\n",
    "\n",
    "All parts of this question are designed as discussion exercises, so talk through your ideas with your partner(s)!\n",
    "\n",
    "## Question 5a\n",
    "What is the result of evaluating the following code?\n"
   ]
  },
  {
   "cell_type": "code",
   "execution_count": 34,
   "id": "7a248eff",
   "metadata": {},
   "outputs": [
    {
     "data": {
      "text/plain": [
       "12"
      ]
     },
     "execution_count": 34,
     "metadata": {},
     "output_type": "execute_result"
    }
   ],
   "source": [
    "def special_case():\n",
    "    x = 10\n",
    "    if x > 0:\n",
    "        x += 2\n",
    "    elif x < 13:\n",
    "        x += 3\n",
    "    elif x % 2 == 1:\n",
    "        x += 4\n",
    "    return x\n",
    "\n",
    "special_case()"
   ]
  },
  {
   "cell_type": "markdown",
   "id": "b6117a4e",
   "metadata": {},
   "source": [
    "_Write your answer in this Markdown cell._"
   ]
  },
  {
   "cell_type": "markdown",
   "id": "8f8000f8",
   "metadata": {},
   "source": [
    "## Question 5b\n",
    "\n",
    "What about this piece of code?"
   ]
  },
  {
   "cell_type": "code",
   "execution_count": 35,
   "id": "f82f923b",
   "metadata": {},
   "outputs": [
    {
     "data": {
      "text/plain": [
       "19"
      ]
     },
     "execution_count": 35,
     "metadata": {},
     "output_type": "execute_result"
    }
   ],
   "source": [
    "def just_in_case():\n",
    "    x = 10\n",
    "    if x > 0:\n",
    "        x += 2\n",
    "    if x < 13:\n",
    "        x += 3\n",
    "    if x % 2 == 1:\n",
    "        x += 4\n",
    "    return x\n",
    "\n",
    "just_in_case()"
   ]
  },
  {
   "cell_type": "markdown",
   "id": "fcf61ae1",
   "metadata": {},
   "source": [
    "_Replace this cell with your answer._"
   ]
  },
  {
   "cell_type": "markdown",
   "id": "23bbf8ae",
   "metadata": {},
   "source": [
    "_Write your answer in this Markdown cell._"
   ]
  },
  {
   "cell_type": "markdown",
   "id": "d7a7b27d",
   "metadata": {},
   "source": [
    "## Question 5c\n",
    "\n",
    "What about this one?"
   ]
  },
  {
   "cell_type": "code",
   "execution_count": 36,
   "id": "97d367a0",
   "metadata": {},
   "outputs": [
    {
     "data": {
      "text/plain": [
       "12"
      ]
     },
     "execution_count": 36,
     "metadata": {},
     "output_type": "execute_result"
    }
   ],
   "source": [
    "def case_in_point():\n",
    "    x = 10\n",
    "    if x > 0:\n",
    "        return x + 2\n",
    "    if x < 13:\n",
    "        return x + 3\n",
    "    if x % 2 == 1:\n",
    "        return x + 4\n",
    "    return x\n",
    "\n",
    "case_in_point()"
   ]
  },
  {
   "cell_type": "markdown",
   "id": "cc20d8ca",
   "metadata": {},
   "source": [
    "_Write your answer in this Markdown cell._"
   ]
  },
  {
   "cell_type": "markdown",
   "id": "5051d9d6",
   "metadata": {},
   "source": [
    "## Question 5d\n",
    "\n",
    "Which of the above code snippets result in the same output, and why? Based on your findings, when do you think using a series of `if` statements has the same effect as using both `if` and `elif` cases?"
   ]
  },
  {
   "cell_type": "markdown",
   "id": "22ed2df2",
   "metadata": {},
   "source": [
    "_Write your answer in this Markdown cell._"
   ]
  },
  {
   "cell_type": "markdown",
   "id": "60cfbe7a",
   "metadata": {},
   "source": [
    "\n",
    "<br/><br/>\n",
    "<hr style=\"border: 5px solid #003262;\" />\n",
    "<hr style=\"border: 1px solid #fdb515;\" />\n",
    "\n",
    "# Part 4: Conditional Statements vs Boolean Expressions\n",
    "\n",
    "For the last part of this lab, you will implement a function that returns a boolean value and compare two different approaches: (1) a conditional statement or (2) a one-line boolean expression."
   ]
  },
  {
   "cell_type": "raw",
   "id": "d2e40251",
   "metadata": {},
   "source": [
    "# BEGIN QUESTION\n",
    "name: q6a\n",
    "points: 2"
   ]
  },
  {
   "cell_type": "markdown",
   "id": "381643e8",
   "metadata": {},
   "source": [
    "# Question 6: Jacket? No Jacket?\n",
    "\n",
    "From [CS 88 Discussion 01](https://cs88-website.github.io/sp22/disc/disc01.pdf).\n",
    "\n",
    "Tommy will only wear a jacket outside if it is below 60 degrees or it is raining.\n",
    "Write a function that takes in the current temperature and a boolean value telling if it\n",
    "is raining and returns `True` if Tommy will wear a jacket and `False` otherwise.\n",
    "\n",
    "In other words, the function should correctly evaluate the following:\n",
    "```\n",
    "wears_jacket(90, False)  # False\n",
    "wears_jacket(40, False)  # True\n",
    "wears_jacket(100, True)  # True\n",
    "```"
   ]
  },
  {
   "cell_type": "markdown",
   "id": "d701e221",
   "metadata": {},
   "source": [
    "## Question 6a\n",
    "First, try solving this problem using an `if-elif-else` statement."
   ]
  },
  {
   "cell_type": "raw",
   "id": "98418557",
   "metadata": {},
   "source": [
    "# BEGIN SOLUTION"
   ]
  },
  {
   "cell_type": "code",
   "execution_count": 37,
   "id": "33a35801",
   "metadata": {},
   "outputs": [
    {
     "data": {
      "text/plain": [
       "False"
      ]
     },
     "execution_count": 37,
     "metadata": {},
     "output_type": "execute_result"
    }
   ],
   "source": [
    "def wears_jacket(temp, raining):\n",
    "    # BEGIN SOLUTION\n",
    "    if temp < 60:\n",
    "        return True\n",
    "    elif raining:\n",
    "        return True\n",
    "    else:\n",
    "        return False\n",
    "    # END SOLUTION\n",
    "\n",
    "# edit the below line as needed for testing\n",
    "wears_jacket(90, False)"
   ]
  },
  {
   "cell_type": "raw",
   "id": "ad972aab",
   "metadata": {},
   "source": [
    "# END SOLUTION"
   ]
  },
  {
   "cell_type": "raw",
   "id": "27d23621",
   "metadata": {},
   "source": [
    "# BEGIN TESTS"
   ]
  },
  {
   "cell_type": "code",
   "execution_count": 38,
   "id": "9066f493",
   "metadata": {},
   "outputs": [
    {
     "data": {
      "text/plain": [
       "True"
      ]
     },
     "execution_count": 38,
     "metadata": {},
     "output_type": "execute_result"
    }
   ],
   "source": [
    "wears_jacket(90, False) == False"
   ]
  },
  {
   "cell_type": "code",
   "execution_count": 39,
   "id": "8484f24c",
   "metadata": {},
   "outputs": [
    {
     "data": {
      "text/plain": [
       "True"
      ]
     },
     "execution_count": 39,
     "metadata": {},
     "output_type": "execute_result"
    }
   ],
   "source": [
    "wears_jacket(40, False) == True"
   ]
  },
  {
   "cell_type": "code",
   "execution_count": 40,
   "id": "e0415f21",
   "metadata": {},
   "outputs": [
    {
     "data": {
      "text/plain": [
       "True"
      ]
     },
     "execution_count": 40,
     "metadata": {},
     "output_type": "execute_result"
    }
   ],
   "source": [
    "wears_jacket(100, True) == True"
   ]
  },
  {
   "cell_type": "raw",
   "id": "fe05460f",
   "metadata": {},
   "source": [
    "# END TESTS"
   ]
  },
  {
   "cell_type": "raw",
   "id": "8ffc8d1b",
   "metadata": {},
   "source": [
    "# END QUESTION"
   ]
  },
  {
   "cell_type": "raw",
   "id": "6a58c099",
   "metadata": {},
   "source": [
    "# BEGIN QUESTION\n",
    "name: q6b\n",
    "points: 2"
   ]
  },
  {
   "cell_type": "markdown",
   "id": "f45d6f88",
   "metadata": {},
   "source": [
    "<br/>\n",
    "\n",
    "## Question 6b\n",
    "Note that we’ll either return `True` or `False` based on a single condition, whose truthiness value will also be either `True` or `False`. \n",
    "\n",
    "Knowing this, try to implement this using a single line in the function `wears_jacket_single_line` below."
   ]
  },
  {
   "cell_type": "raw",
   "id": "f8e95290",
   "metadata": {},
   "source": [
    "# BEGIN SOLUTION"
   ]
  },
  {
   "cell_type": "code",
   "execution_count": 41,
   "id": "cd04ccd5",
   "metadata": {},
   "outputs": [
    {
     "data": {
      "text/plain": [
       "False"
      ]
     },
     "execution_count": 41,
     "metadata": {},
     "output_type": "execute_result"
    }
   ],
   "source": [
    "def wears_jacket_single_line(temp, raining):\n",
    "    return (temp < 60) or raining # SOLUTION\n",
    "\n",
    "# edit the below line as needed for testing\n",
    "wears_jacket_single_line(90, False)"
   ]
  },
  {
   "cell_type": "raw",
   "id": "fae821fc",
   "metadata": {},
   "source": [
    "# END SOLUTION"
   ]
  },
  {
   "cell_type": "raw",
   "id": "5e609829",
   "metadata": {},
   "source": [
    "# BEGIN TESTS"
   ]
  },
  {
   "cell_type": "code",
   "execution_count": 42,
   "id": "4994a067",
   "metadata": {},
   "outputs": [
    {
     "data": {
      "text/plain": [
       "True"
      ]
     },
     "execution_count": 42,
     "metadata": {},
     "output_type": "execute_result"
    }
   ],
   "source": [
    "wears_jacket_single_line(90, False) == False"
   ]
  },
  {
   "cell_type": "code",
   "execution_count": 43,
   "id": "93faa6a4",
   "metadata": {},
   "outputs": [
    {
     "data": {
      "text/plain": [
       "True"
      ]
     },
     "execution_count": 43,
     "metadata": {},
     "output_type": "execute_result"
    }
   ],
   "source": [
    "wears_jacket_single_line(40, False) == True"
   ]
  },
  {
   "cell_type": "code",
   "execution_count": 44,
   "id": "9aedf76a",
   "metadata": {},
   "outputs": [
    {
     "data": {
      "text/plain": [
       "True"
      ]
     },
     "execution_count": 44,
     "metadata": {},
     "output_type": "execute_result"
    }
   ],
   "source": [
    "wears_jacket_single_line(100, True) == True"
   ]
  },
  {
   "cell_type": "raw",
   "id": "c9649f14",
   "metadata": {},
   "source": [
    "# END TESTS"
   ]
  },
  {
   "cell_type": "raw",
   "id": "6c00524a",
   "metadata": {},
   "source": [
    "# END QUESTION"
   ]
  },
  {
   "cell_type": "markdown",
   "id": "16ac43b5",
   "metadata": {},
   "source": [
    "\n",
    "<br/><br/>\n",
    "<hr style=\"border: 5px solid #003262;\" />\n",
    "<hr style=\"border: 1px solid #fdb515;\" />\n",
    "\n",
    "# Bonus/More Practice\n",
    "\n",
    "From [CS 88 Discussion 01](https://cs88-website.github.io/sp22/disc/disc01.pdf), [CS 88 Lab 01](https://cs88-website.github.io/sp22/lab/lab01/), [CS 61A Lab 01](https://cs61a.org/lab/lab01/#error-messages), and [CS 61A Lecture 03](https://inst.eecs.berkeley.edu/~cs61a/sp22/assets/slides/03-Control.html#/32)."
   ]
  },
  {
   "cell_type": "raw",
   "id": "191c0f3a",
   "metadata": {},
   "source": [
    "# BEGIN QUESTION\n",
    "name: q7\n",
    "points: 2"
   ]
  },
  {
   "cell_type": "markdown",
   "id": "21953d11",
   "metadata": {},
   "source": [
    "# Question 7: Greater Number\n",
    "\n",
    "Write a function named `greater_num` that:\n",
    "* takes 2 arguments, both numbers.\n",
    "* returns whichever number is the greater (higher) number.\n",
    "\n",
    "Use conditional statements to implement the function.\n",
    "\n",
    "Your implementation should correctly evaluate the following:\n",
    "\n",
    "```\n",
    "greater_num(45, 10)   # 45\n",
    "greater_num(-1, 30)   # 30\n",
    "greater_num(20, 20)   # 20\n",
    "```"
   ]
  },
  {
   "cell_type": "raw",
   "id": "ffd14fe3",
   "metadata": {},
   "source": [
    "# BEGIN SOLUTION"
   ]
  },
  {
   "cell_type": "code",
   "execution_count": 45,
   "id": "325c3060",
   "metadata": {},
   "outputs": [
    {
     "data": {
      "text/plain": [
       "45"
      ]
     },
     "execution_count": 45,
     "metadata": {},
     "output_type": "execute_result"
    }
   ],
   "source": [
    "def greater_num(num1, num2):\n",
    "    # BEGIN SOLUTION\n",
    "    if num1 >= num2:\n",
    "        return num1\n",
    "    else:\n",
    "        return num2\n",
    "\n",
    "    # alternatively\n",
    "    if num1 >= num2:\n",
    "        return num1\n",
    "    return num2\n",
    "    # END SOLUTION\n",
    "\n",
    "# edit the below line as needed for testing\n",
    "greater_num(45, 30)"
   ]
  },
  {
   "cell_type": "raw",
   "id": "31e171a0",
   "metadata": {},
   "source": [
    "# END SOLUTION"
   ]
  },
  {
   "cell_type": "raw",
   "id": "80decdcb",
   "metadata": {},
   "source": [
    "# BEGIN TESTS"
   ]
  },
  {
   "cell_type": "code",
   "execution_count": 46,
   "id": "9e7b419a",
   "metadata": {},
   "outputs": [
    {
     "data": {
      "text/plain": [
       "True"
      ]
     },
     "execution_count": 46,
     "metadata": {},
     "output_type": "execute_result"
    }
   ],
   "source": [
    "greater_num(45, 10) == 45"
   ]
  },
  {
   "cell_type": "code",
   "execution_count": 47,
   "id": "5ebc146d",
   "metadata": {},
   "outputs": [
    {
     "data": {
      "text/plain": [
       "True"
      ]
     },
     "execution_count": 47,
     "metadata": {},
     "output_type": "execute_result"
    }
   ],
   "source": [
    "greater_num(-1, 30) == 30"
   ]
  },
  {
   "cell_type": "code",
   "execution_count": 48,
   "id": "a939e814",
   "metadata": {},
   "outputs": [
    {
     "data": {
      "text/plain": [
       "True"
      ]
     },
     "execution_count": 48,
     "metadata": {},
     "output_type": "execute_result"
    }
   ],
   "source": [
    "greater_num(20, 20) == 20"
   ]
  },
  {
   "cell_type": "raw",
   "id": "64fcabe9",
   "metadata": {},
   "source": [
    "# END TESTS"
   ]
  },
  {
   "cell_type": "raw",
   "id": "ae306af9",
   "metadata": {},
   "source": [
    "# END QUESTION"
   ]
  },
  {
   "cell_type": "raw",
   "id": "efa7b134",
   "metadata": {},
   "source": [
    "# BEGIN QUESTION\n",
    "name: q8\n",
    "points: 2"
   ]
  },
  {
   "cell_type": "markdown",
   "id": "dbfa7da5",
   "metadata": {},
   "source": [
    "# Question 8: Hello, Worldwide!\n",
    "\n",
    "Write a function named `hello_world` that:\n",
    "* takes 1 argument, a language code (e.g. `\"es\"`, `\"pt\"`, `\"en\"`)\n",
    "* returns `\"Hello, World\"` for the given language\n",
    "It should return English if an invalid language code is specified.\n",
    "\n",
    "Your implementation should correctly evaluate the following:\n",
    "\n",
    "```\n",
    "hello_world(\"en\")    # 'Hello, World'\n",
    "hello_world(\"es\")    # 'Hola, Mundo'\n",
    "hello_world(\"pt\")    # 'Olá, Mundo'\n",
    "```\n",
    "\n",
    "We encourage you to expand this function by adding your favorite language!\n"
   ]
  },
  {
   "cell_type": "raw",
   "id": "3a8b7c09",
   "metadata": {},
   "source": [
    "# BEGIN SOLUTION"
   ]
  },
  {
   "cell_type": "code",
   "execution_count": 49,
   "id": "993bd93d",
   "metadata": {},
   "outputs": [
    {
     "data": {
      "text/plain": [
       "'Hello, World'"
      ]
     },
     "execution_count": 49,
     "metadata": {},
     "output_type": "execute_result"
    }
   ],
   "source": [
    "def hello_world(language_code):\n",
    "    # BEGIN SOLUTION\n",
    "    if language_code == \"en\":\n",
    "        return \"Hello, World\"\n",
    "    elif language_code == \"es\":\n",
    "        return \"Hola, Mundo\"\n",
    "    elif language_code == \"pt\":\n",
    "        return \"Olá, Mundo\"\n",
    "    # END SOLUTION\n",
    "\n",
    "# edit the below line as needed for testing\n",
    "hello_world('en')"
   ]
  },
  {
   "cell_type": "raw",
   "id": "2262bda9",
   "metadata": {},
   "source": [
    "# END SOLUTION"
   ]
  },
  {
   "cell_type": "raw",
   "id": "82c19574",
   "metadata": {},
   "source": [
    "# BEGIN TESTS"
   ]
  },
  {
   "cell_type": "code",
   "execution_count": 50,
   "id": "d7dcac0b",
   "metadata": {},
   "outputs": [
    {
     "data": {
      "text/plain": [
       "True"
      ]
     },
     "execution_count": 50,
     "metadata": {},
     "output_type": "execute_result"
    }
   ],
   "source": [
    "hello_world(\"en\") == 'Hello, World'"
   ]
  },
  {
   "cell_type": "code",
   "execution_count": 51,
   "id": "004227d5",
   "metadata": {},
   "outputs": [
    {
     "data": {
      "text/plain": [
       "True"
      ]
     },
     "execution_count": 51,
     "metadata": {},
     "output_type": "execute_result"
    }
   ],
   "source": [
    "hello_world(\"es\") == 'Hola, Mundo'"
   ]
  },
  {
   "cell_type": "code",
   "execution_count": 52,
   "id": "ad3a405e",
   "metadata": {},
   "outputs": [
    {
     "data": {
      "text/plain": [
       "True"
      ]
     },
     "execution_count": 52,
     "metadata": {},
     "output_type": "execute_result"
    }
   ],
   "source": [
    "hello_world(\"pt\") == 'Olá, Mundo'"
   ]
  },
  {
   "cell_type": "raw",
   "id": "0696f872",
   "metadata": {},
   "source": [
    "# END TESTS"
   ]
  },
  {
   "cell_type": "raw",
   "id": "881d5ff2",
   "metadata": {},
   "source": [
    "# END QUESTION"
   ]
  },
  {
   "cell_type": "raw",
   "id": "82a6f66f",
   "metadata": {},
   "source": [
    "# BEGIN QUESTION\n",
    "name: q9\n",
    "points: 2"
   ]
  },
  {
   "cell_type": "markdown",
   "id": "eb904d57",
   "metadata": {},
   "source": [
    "# Question 9: Assign Grading Bins\n",
    "\n",
    "Write a function named `assign_grade` that:\n",
    "* takes 1 argument, an integer representing the score.\n",
    "* returns a grade for the score, either `\"A\"` (90-100), `\"B\"` (80-89), `\"C\"` (70-79), `\"D\"` (65-69), or `\"F\"` (0-64).\n",
    "\n",
    "Call that function for a few different scores and log the result to make sure it works.\n",
    "\n",
    "Your implementation should correctly evaluate the following:\n",
    "```\n",
    "assign_grade(95)   # 'A'\n",
    "assign_grade(90)   # 'A'\n",
    "assign_grade(85)   # 'B'\n",
    "assign_grade(80)   # 'B'\n",
    "assign_grade(77)   # 'C'\n",
    "assign_grade(70)   # 'C'\n",
    "assign_grade(68)   # 'D'\n",
    "assign_grade(65)   # 'D'\n",
    "assign_grade(64)   # 'F'\n",
    "assign_grade(0)    # 'F'\n",
    "```"
   ]
  },
  {
   "cell_type": "raw",
   "id": "d1c96219",
   "metadata": {},
   "source": [
    "# BEGIN SOLUTION"
   ]
  },
  {
   "cell_type": "code",
   "execution_count": 53,
   "id": "59e21dd0",
   "metadata": {},
   "outputs": [
    {
     "data": {
      "text/plain": [
       "'A'"
      ]
     },
     "execution_count": 53,
     "metadata": {},
     "output_type": "execute_result"
    }
   ],
   "source": [
    "def assign_grade(score):\n",
    "    # BEGIN SOLUTION\n",
    "    if score >= 90:\n",
    "        return \"A\"\n",
    "    elif score >= 80:\n",
    "        return \"B\"\n",
    "    elif score >= 70:\n",
    "        return \"C\"\n",
    "    elif score >= 65:\n",
    "        return \"D\"\n",
    "    else:\n",
    "        return \"F\"\n",
    "    \n",
    "    # alternatively\n",
    "    if score >= 90:\n",
    "        return \"A\"\n",
    "    if score >= 80:\n",
    "        return \"B\"\n",
    "    if score >= 70:\n",
    "        return \"C\"\n",
    "    if score >= 65:\n",
    "        return \"D\"\n",
    "    return \"F\"\n",
    "    # END SOLUTION\n",
    "\n",
    "# edit the below line as needed to test your function\n",
    "assign_grade(95)"
   ]
  },
  {
   "cell_type": "raw",
   "id": "aea50b24",
   "metadata": {},
   "source": [
    "# END SOLUTION"
   ]
  },
  {
   "cell_type": "raw",
   "id": "ca61c2c8",
   "metadata": {},
   "source": [
    "# BEGIN TESTS"
   ]
  },
  {
   "cell_type": "code",
   "execution_count": 54,
   "id": "77ac0ee0",
   "metadata": {},
   "outputs": [
    {
     "data": {
      "text/plain": [
       "'A'"
      ]
     },
     "execution_count": 54,
     "metadata": {},
     "output_type": "execute_result"
    }
   ],
   "source": [
    "assign_grade(95)   # 'A'"
   ]
  },
  {
   "cell_type": "code",
   "execution_count": 55,
   "id": "0ce99d69",
   "metadata": {},
   "outputs": [
    {
     "data": {
      "text/plain": [
       "'A'"
      ]
     },
     "execution_count": 55,
     "metadata": {},
     "output_type": "execute_result"
    }
   ],
   "source": [
    "assign_grade(90)   # 'A'"
   ]
  },
  {
   "cell_type": "code",
   "execution_count": 56,
   "id": "da756d65",
   "metadata": {},
   "outputs": [
    {
     "data": {
      "text/plain": [
       "'B'"
      ]
     },
     "execution_count": 56,
     "metadata": {},
     "output_type": "execute_result"
    }
   ],
   "source": [
    "assign_grade(85)   # 'B'"
   ]
  },
  {
   "cell_type": "code",
   "execution_count": 57,
   "id": "52637090",
   "metadata": {},
   "outputs": [
    {
     "data": {
      "text/plain": [
       "'B'"
      ]
     },
     "execution_count": 57,
     "metadata": {},
     "output_type": "execute_result"
    }
   ],
   "source": [
    "assign_grade(80)   # 'B'"
   ]
  },
  {
   "cell_type": "code",
   "execution_count": 58,
   "id": "e8189c28",
   "metadata": {},
   "outputs": [
    {
     "data": {
      "text/plain": [
       "'C'"
      ]
     },
     "execution_count": 58,
     "metadata": {},
     "output_type": "execute_result"
    }
   ],
   "source": [
    "assign_grade(77)   # 'C'"
   ]
  },
  {
   "cell_type": "code",
   "execution_count": 59,
   "id": "d1a7f7da",
   "metadata": {},
   "outputs": [
    {
     "data": {
      "text/plain": [
       "'C'"
      ]
     },
     "execution_count": 59,
     "metadata": {},
     "output_type": "execute_result"
    }
   ],
   "source": [
    "assign_grade(70)   # 'C'"
   ]
  },
  {
   "cell_type": "code",
   "execution_count": 60,
   "id": "d7b5035f",
   "metadata": {},
   "outputs": [
    {
     "data": {
      "text/plain": [
       "'D'"
      ]
     },
     "execution_count": 60,
     "metadata": {},
     "output_type": "execute_result"
    }
   ],
   "source": [
    "assign_grade(68)   # 'D'"
   ]
  },
  {
   "cell_type": "code",
   "execution_count": 61,
   "id": "8f3b86cd",
   "metadata": {},
   "outputs": [
    {
     "data": {
      "text/plain": [
       "'D'"
      ]
     },
     "execution_count": 61,
     "metadata": {},
     "output_type": "execute_result"
    }
   ],
   "source": [
    "assign_grade(65)   # 'D'"
   ]
  },
  {
   "cell_type": "code",
   "execution_count": 62,
   "id": "6e89334e",
   "metadata": {},
   "outputs": [
    {
     "data": {
      "text/plain": [
       "'F'"
      ]
     },
     "execution_count": 62,
     "metadata": {},
     "output_type": "execute_result"
    }
   ],
   "source": [
    "assign_grade(64)   # 'F'"
   ]
  },
  {
   "cell_type": "code",
   "execution_count": 63,
   "id": "5d79b04d",
   "metadata": {},
   "outputs": [
    {
     "data": {
      "text/plain": [
       "'F'"
      ]
     },
     "execution_count": 63,
     "metadata": {},
     "output_type": "execute_result"
    }
   ],
   "source": [
    "assign_grade(0)    # 'F'"
   ]
  },
  {
   "cell_type": "raw",
   "id": "36c2a6cb",
   "metadata": {},
   "source": [
    "# END TESTS"
   ]
  },
  {
   "cell_type": "raw",
   "id": "02ca96c2",
   "metadata": {},
   "source": [
    "# END QUESTION"
   ]
  },
  {
   "cell_type": "raw",
   "id": "6188c42e",
   "metadata": {},
   "source": [
    "# BEGIN QUESTION\n",
    "name: q6\n",
    "points: 2"
   ]
  },
  {
   "cell_type": "markdown",
   "id": "0dc2135c",
   "metadata": {},
   "source": [
    "<br/><br/>\n",
    "\n",
    "---\n",
    "\n",
    "# Question 10: Classroom Management\n",
    "\n",
    "To handle discussion section overflow, Matt and other TAs may direct students to a more empty section that is happening at the same time.\n",
    "\n",
    "Write a function that takes in the number of students in two sections and returns (does not print!) a string about what to do if either section exceeds 30 students.\n",
    "\n",
    "**Hint**: You can do `str(<number>)+ <string>` to concatenate a number and a string.\n",
    "\n",
    "Your implementation should correctly evaluate the following:\n",
    "\n",
    "```\n",
    "handle_overflow(27, 15)     # \"No overflow\"\n",
    "handle_overflow(35, 29)     # \"Move to Section 2: 1\"\n",
    "handle_overflow(20, 32)     # \"Move to Section 1: 10\"\n",
    "handle_overflow(35, 30)     # \"No space left in either section\"\n",
    "```\n"
   ]
  },
  {
   "cell_type": "raw",
   "id": "46b6e755",
   "metadata": {},
   "source": [
    "# BEGIN SOLUTION"
   ]
  },
  {
   "cell_type": "code",
   "execution_count": 64,
   "id": "aff4d55f",
   "metadata": {},
   "outputs": [
    {
     "data": {
      "text/plain": [
       "'No overflow'"
      ]
     },
     "execution_count": 64,
     "metadata": {},
     "output_type": "execute_result"
    }
   ],
   "source": [
    "def handle_overflow(s1, s2):\n",
    "    # BEGIN SOLUTION\n",
    "    if s1 < 30 and s2 < 30:\n",
    "        return \"No overflow\"\n",
    "    if s1 > 30 and s2 < 30:\n",
    "        return \"Move to Section 2: \" + str(30 - s2)\n",
    "    if s2 > 30 and s1 < 30:\n",
    "        return \"Move to Section 1: \" + str(30 - s1)\n",
    "    return \"No space left in either section\"\n",
    "    # END SOLUTION\n",
    "\n",
    "# edit the below line as needed to test your function\n",
    "handle_overflow(27, 15)"
   ]
  },
  {
   "cell_type": "raw",
   "id": "1fcd1fc7",
   "metadata": {},
   "source": [
    "# END SOLUTION"
   ]
  },
  {
   "cell_type": "raw",
   "id": "b75bbadc",
   "metadata": {},
   "source": [
    "# BEGIN TESTS"
   ]
  },
  {
   "cell_type": "code",
   "execution_count": 65,
   "id": "a6d6d3f1",
   "metadata": {},
   "outputs": [
    {
     "data": {
      "text/plain": [
       "True"
      ]
     },
     "execution_count": 65,
     "metadata": {},
     "output_type": "execute_result"
    }
   ],
   "source": [
    "handle_overflow(27, 15) == \"No overflow\""
   ]
  },
  {
   "cell_type": "code",
   "execution_count": 66,
   "id": "ef398c90",
   "metadata": {},
   "outputs": [
    {
     "data": {
      "text/plain": [
       "True"
      ]
     },
     "execution_count": 66,
     "metadata": {},
     "output_type": "execute_result"
    }
   ],
   "source": [
    "handle_overflow(35, 29) == \"Move to Section 2: 1\""
   ]
  },
  {
   "cell_type": "code",
   "execution_count": 67,
   "id": "686b6caa",
   "metadata": {},
   "outputs": [
    {
     "data": {
      "text/plain": [
       "True"
      ]
     },
     "execution_count": 67,
     "metadata": {},
     "output_type": "execute_result"
    }
   ],
   "source": [
    "handle_overflow(20, 32) == \"Move to Section 1: 10\""
   ]
  },
  {
   "cell_type": "code",
   "execution_count": 68,
   "id": "16197cd9",
   "metadata": {},
   "outputs": [
    {
     "data": {
      "text/plain": [
       "True"
      ]
     },
     "execution_count": 68,
     "metadata": {},
     "output_type": "execute_result"
    }
   ],
   "source": [
    "handle_overflow(35, 30) == \"No space left in either section\""
   ]
  },
  {
   "cell_type": "raw",
   "id": "93dd475c",
   "metadata": {},
   "source": [
    "# END TESTS"
   ]
  },
  {
   "cell_type": "raw",
   "id": "f7af3a22",
   "metadata": {},
   "source": [
    "# END QUESTION"
   ]
  },
  {
   "cell_type": "raw",
   "id": "7f38a240",
   "metadata": {},
   "source": [
    "# BEGIN QUESTION\n",
    "name: q11\n",
    "points: 2"
   ]
  },
  {
   "cell_type": "markdown",
   "id": "04ac1a1f",
   "metadata": {},
   "source": [
    "<br/><br/>\n",
    "\n",
    "---\n",
    "\n",
    "# [Challenge] Question 11: If \"Function\" vs If Statement\n",
    "Now that we've learned about how if statements work, let's see if we can write a function that behaves the same as an if statement."
   ]
  },
  {
   "cell_type": "code",
   "execution_count": 69,
   "id": "d499322d",
   "metadata": {},
   "outputs": [],
   "source": [
    "# just run this cell\n",
    "def if_function(condition, true_result, false_result):\n",
    "    \"\"\"Return true_result if condition is a true value, and\n",
    "    false_result otherwise.\n",
    "    \"\"\"\n",
    "    if condition:\n",
    "        return true_result\n",
    "    else:\n",
    "        return false_result"
   ]
  },
  {
   "cell_type": "markdown",
   "id": "919d8ca4",
   "metadata": {},
   "source": [
    "We'd expect the function to run as follows:"
   ]
  },
  {
   "cell_type": "code",
   "execution_count": 70,
   "id": "8d1abc3a",
   "metadata": {},
   "outputs": [
    {
     "data": {
      "text/plain": [
       "2"
      ]
     },
     "execution_count": 70,
     "metadata": {},
     "output_type": "execute_result"
    }
   ],
   "source": [
    "if_function(True, 2, 3)                    # 2"
   ]
  },
  {
   "cell_type": "code",
   "execution_count": 71,
   "id": "4dca4c75",
   "metadata": {},
   "outputs": [
    {
     "data": {
      "text/plain": [
       "3"
      ]
     },
     "execution_count": 71,
     "metadata": {},
     "output_type": "execute_result"
    }
   ],
   "source": [
    "if_function(False, 2, 3)                   # 3"
   ]
  },
  {
   "cell_type": "code",
   "execution_count": 72,
   "id": "6bcde326",
   "metadata": {},
   "outputs": [
    {
     "data": {
      "text/plain": [
       "'not equal'"
      ]
     },
     "execution_count": 72,
     "metadata": {},
     "output_type": "execute_result"
    }
   ],
   "source": [
    "if_function(3==2, 'equal', 'not equal')    # 'not equal'"
   ]
  },
  {
   "cell_type": "code",
   "execution_count": 73,
   "id": "f166fde8",
   "metadata": {
    "scrolled": true
   },
   "outputs": [
    {
     "data": {
      "text/plain": [
       "'bigger'"
      ]
     },
     "execution_count": 73,
     "metadata": {},
     "output_type": "execute_result"
    }
   ],
   "source": [
    "if_function(3>2, 'bigger', 'smaller')      # 'bigger'"
   ]
  },
  {
   "cell_type": "markdown",
   "id": "294ad3f4",
   "metadata": {},
   "source": [
    "Despite what's written above, this function actually does not always do the same thing as an `if` statement!\n",
    "\n",
    "<br/>\n",
    "\n",
    "---\n",
    "\n",
    "We want to find a case where this `if_function` will behave differently from an `if` statement. To do so, implement the following functions:\n",
    "* `cond`: Calling `cond` should act as the `if` condition.\n",
    "* `true_func`: Calling `true_func` should represent the result of the truthy case.\n",
    "* `false_func`: Calling `false_func` should represent the result of the falsey case.\n",
    "\n",
    "so that `with_if_function` does not behave the same as `with_if_statement` as follows:\n",
    "* When `with_if_statement` is called, we print out `UC Berkeley`.\n",
    "* When `with_if_function` is called, we print out both `Welcome to` and `UC Berkeley` on separate lines.\n",
    "\n",
    "In other words, when you implement the below functions, you should observe the following output:\n",
    "\n",
    "```\n",
    ">>>> testing with_if_statement()\n",
    "UC Berkeley\n",
    "None\n",
    "\n",
    ">>>> testing with_if_function()\n",
    "Welcome to\n",
    "UC Berkeley\n",
    "None\n",
    "```\n",
    "\n",
    "Implement `cond`, `true_func`, and `false_func` below.\n",
    "\n",
    "**Hint**: If you are having a hard time identifying how `with_if_statement` and `with_if_function` would differ in behavior, consider the rules of evaluation for `if` statements and call expressions."
   ]
  },
  {
   "cell_type": "raw",
   "id": "3e2e0c33",
   "metadata": {},
   "source": [
    "# BEGIN SOLUTION"
   ]
  },
  {
   "cell_type": "code",
   "execution_count": 74,
   "id": "47c9f518",
   "metadata": {},
   "outputs": [
    {
     "name": "stdout",
     "output_type": "stream",
     "text": [
      ">>>> testing with_if_statement()\n",
      "UC Berkeley\n",
      "None\n",
      "\n",
      ">>>> testing with_if_function()\n",
      "Welcome to\n",
      "UC Berkeley\n",
      "None\n"
     ]
    }
   ],
   "source": [
    "# repeated for your reference\n",
    "def if_function(condition, true_result, false_result):\n",
    "    if condition:\n",
    "        return true_result\n",
    "    else:\n",
    "        return false_result\n",
    "\n",
    "def with_if_statement():\n",
    "    if cond():\n",
    "        return true_func()\n",
    "    else:\n",
    "        return false_func()\n",
    "\n",
    "def with_if_function():\n",
    "    return if_function(cond(), true_func(), false_func())\n",
    "\n",
    "def cond():\n",
    "    True # SOLUTION\n",
    "\n",
    "def true_func():\n",
    "    print(\"Welcome to\") # SOLUTION\n",
    "\n",
    "def false_func():\n",
    "    print(\"UC Berkeley\") # SOLUTION\n",
    "    \n",
    "    \n",
    "##### do not change anything below this line ######\n",
    "print(\">>>> testing with_if_statement()\")\n",
    "result = with_if_statement()\n",
    "print(result)\n",
    "print() # prints a blank line\n",
    "print(\">>>> testing with_if_function()\")\n",
    "result = with_if_function()\n",
    "print(result)"
   ]
  },
  {
   "cell_type": "raw",
   "id": "affe38b2",
   "metadata": {},
   "source": [
    "# END SOLUTION"
   ]
  },
  {
   "cell_type": "raw",
   "id": "9e546a6d",
   "metadata": {},
   "source": [
    "# END QUESTION"
   ]
  },
  {
   "cell_type": "markdown",
   "id": "cfc29726",
   "metadata": {},
   "source": [
    "## Done!\n",
    "\n",
    "That's it! Please feel free to ask any questions!!!"
   ]
  }
 ],
 "metadata": {
  "kernelspec": {
   "display_name": "Python 3 (ipykernel)",
   "language": "python",
   "name": "python3"
  },
  "language_info": {
   "codemirror_mode": {
    "name": "ipython",
    "version": 3
   },
   "file_extension": ".py",
   "mimetype": "text/x-python",
   "name": "python",
   "nbconvert_exporter": "python",
   "pygments_lexer": "ipython3",
   "version": "3.11.3"
  }
 },
 "nbformat": 4,
 "nbformat_minor": 5
}
