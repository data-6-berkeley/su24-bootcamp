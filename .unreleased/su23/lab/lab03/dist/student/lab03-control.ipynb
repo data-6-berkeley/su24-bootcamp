{
 "cells": [
  {
   "cell_type": "code",
   "execution_count": null,
   "id": "caeb6b68",
   "metadata": {
    "deletable": false,
    "editable": false
   },
   "outputs": [],
   "source": [
    "# Initialize Otter\n",
    "import otter\n",
    "grader = otter.Notebook(\"lab03-control.ipynb\")"
   ]
  },
  {
   "cell_type": "markdown",
   "id": "96253b03",
   "metadata": {},
   "source": [
    "# Coding Lab 3: Print, `None`, and Control\n",
    "\n",
    "## Tuskegee Scholars Summer 2023\n",
    "\n",
    "Goals of Lab 3:\n",
    "* Differentiate betwen the `print()` function and the `return` statement\n",
    "* Understand the properties of `None`\n",
    "* Build functions with `if-elif-else` conditional statements\n",
    "\n",
    "While you will not submit these labs, we hope that you can work through the \"required\" parts of each lab. This will help build your foundation for Data 6, which starts in Week 3 of this program.\n",
    "\n",
    "You will just be working through this single lab today, which has 6 questions. There are several bonus questions; feel free to work through these once you've finished the main lab."
   ]
  },
  {
   "cell_type": "markdown",
   "id": "22cf98a6",
   "metadata": {},
   "source": [
    "<br/><br/>\n",
    "<hr style=\"border: 5px solid #003262;\" />\n",
    "<hr style=\"border: 1px solid #fdb515;\" />\n",
    "\n",
    "# Part 0: Find a Partner!\n",
    "\n",
    "Labs are best worked on in pairs (or groups of three)! First, find a **new** partner (or two) that you'd like to work with on this lab. Share the following things:\n",
    "\n",
    "* Introduce yourself (name, major, year, etc.).\n",
    "* What's your current favorite song?\n",
    "* What did you have for dinner? Was it good?\n",
    "* How was your summer so far?\n",
    "\n",
    "Now that you have introductions out of the way, let's work on the lab together!"
   ]
  },
  {
   "cell_type": "markdown",
   "id": "bb691430",
   "metadata": {},
   "source": [
    "<br/><br/>\n",
    "<hr style=\"border: 5px solid #003262;\" />\n",
    "<hr style=\"border: 1px solid #fdb515;\" />\n",
    "\n",
    "# Part 1: Warmup/Review\n",
    "\n",
    "Let's review functions!"
   ]
  },
  {
   "cell_type": "markdown",
   "id": "e90956c7",
   "metadata": {},
   "source": [
    "---\n",
    "\n",
    "# Question 1: Temperature Converter\n",
    "\n",
    "How can we communicate the highs and lows of climate change with people who use a different temperature unit? \n",
    "Let's make a temperature converter based on the steps here: \n",
    "https://www.mathsisfun.com/temperature-conversion.html\n",
    "\n",
    "Create a function called `celsius_to_fahrenheit` that:\n",
    "* takes a single argument, the temperature in celsius\n",
    "* calculates and returns the fahrenheit equivalent\n",
    "\n",
    "Similarly, create another function called `fahrenheit_to_celsius` that:\n",
    "* takes a single argument, the temperature in fahrenheit\n",
    "* calculates and returns the celsius equivalent\n",
    "\n",
    "\n",
    "Your implementations should correctly evaluate the following:\n",
    "```\n",
    "celsius_to_fahrenheit(0)   # 32\n",
    "celsius_to_fahrenheit(100) # 212\n",
    "fahrenheit_to_celsius(32)  # 0\n",
    "fahrenheit_to_celsius(212) # 100\n",
    "```"
   ]
  },
  {
   "cell_type": "code",
   "execution_count": null,
   "id": "3fa4545d",
   "metadata": {
    "tags": []
   },
   "outputs": [],
   "source": [
    "# This def statement may be incomplete...\n",
    "def celsius_to_farenheit():\n",
    "    ...\n",
    "    \n",
    "# This def statement may be incomplete...\n",
    "def farenheit_to_celsius():\n",
    "    ...\n",
    "\n",
    "\n",
    "# edit the below lines as needed to test your functions\n",
    "print(\"0 degrees Celsius is\", celsius_to_farenheit(0), \"degrees Farenheit\")\n",
    "print(\"0 degrees Farenheit is\", farenheit_to_celsius(0), \"degrees Celsius\")"
   ]
  },
  {
   "cell_type": "code",
   "execution_count": null,
   "id": "8ee3ac05",
   "metadata": {
    "deletable": false,
    "editable": false
   },
   "outputs": [],
   "source": [
    "grader.check(\"q1\")"
   ]
  },
  {
   "cell_type": "markdown",
   "id": "ff6abeeb",
   "metadata": {},
   "source": [
    "<br/><br/>\n",
    "<hr style=\"border: 5px solid #003262;\" />\n",
    "<hr style=\"border: 1px solid #fdb515;\" />\n",
    "\n",
    "# Part 2: `print()`\n",
    "\n",
    "The `print()` function is used to display values in Jupyter. This can lead to some confusion between print and **output**, because evaluating the last expression in a Jupyter code cell will **output** the resulting value.\n",
    "\n",
    "However, this is different from **displaying** values directly from the cell (which is what `print()` does)."
   ]
  },
  {
   "cell_type": "code",
   "execution_count": null,
   "id": "49992e62",
   "metadata": {},
   "outputs": [],
   "source": [
    "# printing/displaying\n",
    "print(\"Hello World!\")"
   ]
  },
  {
   "cell_type": "code",
   "execution_count": null,
   "id": "872c4c3e",
   "metadata": {},
   "outputs": [],
   "source": [
    "# vs outputting\n",
    "\"Hello World!\""
   ]
  },
  {
   "cell_type": "markdown",
   "id": "36174a05",
   "metadata": {},
   "source": [
    "Another thing to remember is that 'print' is a function itself, so it also has a return value. The return value of 'print' is 'None'."
   ]
  },
  {
   "cell_type": "code",
   "execution_count": null,
   "id": "e8900a82",
   "metadata": {},
   "outputs": [],
   "source": [
    "print(print(\"Hello World!\"))"
   ]
  },
  {
   "cell_type": "markdown",
   "id": "ea3da5ce",
   "metadata": {},
   "source": [
    "However, note that the following cell only **prints**; it does **not** output."
   ]
  },
  {
   "cell_type": "code",
   "execution_count": null,
   "id": "652f80b2",
   "metadata": {},
   "outputs": [],
   "source": [
    "output_of_print = print(\"Hello World!\")\n",
    "output_of_print"
   ]
  },
  {
   "cell_type": "markdown",
   "id": "9d81850a",
   "metadata": {},
   "source": [
    "This is because Jupyter code cells are programmed not to output `None` even if it is the last evaluated value in the cell. Check it out:"
   ]
  },
  {
   "cell_type": "code",
   "execution_count": null,
   "id": "73fb2b4c",
   "metadata": {},
   "outputs": [],
   "source": [
    "# this does not output anything\n",
    "None"
   ]
  },
  {
   "cell_type": "markdown",
   "id": "87828aa7",
   "metadata": {},
   "source": [
    "The below cell doesn't output anything either; it only displays:"
   ]
  },
  {
   "cell_type": "code",
   "execution_count": null,
   "id": "214503b4",
   "metadata": {},
   "outputs": [],
   "source": [
    "print(\"no output! only print!\")"
   ]
  },
  {
   "cell_type": "markdown",
   "id": "dfc4fddc",
   "metadata": {},
   "source": [
    "By contrast,"
   ]
  },
  {
   "cell_type": "code",
   "execution_count": null,
   "id": "da997712",
   "metadata": {},
   "outputs": [],
   "source": [
    "2"
   ]
  },
  {
   "cell_type": "markdown",
   "id": "c9f6b0a7",
   "metadata": {},
   "source": [
    "### `return` vs `print`\n",
    "\n",
    "Let's return to a familiar function:"
   ]
  },
  {
   "cell_type": "code",
   "execution_count": null,
   "id": "16b7b3ce",
   "metadata": {},
   "outputs": [],
   "source": [
    "def square(x):\n",
    "    return x * x\n",
    "\n",
    "square(4)"
   ]
  },
  {
   "cell_type": "markdown",
   "id": "1275a42d",
   "metadata": {},
   "source": [
    "Recall that when Python executes a `return` statement, the function terminates immediately. If Python reaches the end of the function body without executing a `return` statement, it will automatically return `None`.\n",
    "\n",
    "In contrast, the `print()` function is used to **display** values in the notebook. This can lead to some confusion between `print()` and `return` because calling a function in a cell will often **output** the function's return value.\n",
    "\n",
    "However, unlike a `return` statement, when Python evaluates a `print()` expression, the function does not terminate immediately."
   ]
  },
  {
   "cell_type": "code",
   "execution_count": null,
   "id": "699aec61",
   "metadata": {},
   "outputs": [],
   "source": [
    "def what_prints():\n",
    "    print('Hello World!')\n",
    "    return 'Exiting this function.'\n",
    "    print('We are awesome!')"
   ]
  },
  {
   "cell_type": "code",
   "execution_count": null,
   "id": "6c731a22",
   "metadata": {},
   "outputs": [],
   "source": [
    "what_prints()"
   ]
  },
  {
   "cell_type": "markdown",
   "id": "b55a1cee",
   "metadata": {},
   "source": [
    "Notice also that print will display text **without the quotes**, but return will preserve the quotes (because it's the output value).\n",
    "\n",
    "Finally, remember that `print()` is a function itself, so it also has a return value. The return value of `print()` is `None`."
   ]
  },
  {
   "cell_type": "markdown",
   "id": "99a6fdde",
   "metadata": {},
   "source": [
    "<br/><br/>\n",
    "\n",
    "---\n",
    "\n",
    "# Question 2: What Would Python *Display*? Part 1\n",
    "\n",
    "From [CS 88, Discussion 01](https://cs88-website.github.io/sp22/disc/disc01.pdf).\n",
    "\n",
    "**Before** running the following cells, consider what (if anything) Python will print, (i.e., display--not output). Then, run the cells. You can use the keyboard shortcut `Shift + <Enter>` to run and step to the next cell.\n",
    "\n",
    "\n",
    "This question is designed as a discussion question, so talk through your ideas with your partner(s)!"
   ]
  },
  {
   "cell_type": "code",
   "execution_count": null,
   "id": "6420aafb",
   "metadata": {},
   "outputs": [],
   "source": [
    "print('x')"
   ]
  },
  {
   "cell_type": "code",
   "execution_count": null,
   "id": "163e2c97",
   "metadata": {},
   "outputs": [],
   "source": [
    "y = print('x')"
   ]
  },
  {
   "cell_type": "code",
   "execution_count": null,
   "id": "46279830",
   "metadata": {},
   "outputs": [],
   "source": [
    "print(y)"
   ]
  },
  {
   "cell_type": "code",
   "execution_count": null,
   "id": "2a1ae45b",
   "metadata": {},
   "outputs": [],
   "source": [
    "from operator import add\n",
    "print(add(4, 2), print('a'))"
   ]
  },
  {
   "cell_type": "markdown",
   "id": "d038bda7",
   "metadata": {},
   "source": [
    "<br/><br/>\n",
    "\n",
    "---\n",
    "\n",
    "# Question 3: What would Python *Display*? Part 2\n",
    "\n",
    "Remember: `print()` (unlike `return`) does not cause the function to exit!\n",
    "\n",
    "\n",
    "This question is designed as a discussion question, so talk through your ideas with your partner(s)!\n",
    "\n",
    "## Question 3a"
   ]
  },
  {
   "cell_type": "code",
   "execution_count": null,
   "id": "80e4e434",
   "metadata": {},
   "outputs": [],
   "source": [
    "def ab(c, d):\n",
    "    if c > 5:\n",
    "        print(c)\n",
    "    elif c > 7:\n",
    "        print(d)\n",
    "    print('foo')\n",
    "\n",
    "ab(10, 20)"
   ]
  },
  {
   "cell_type": "markdown",
   "id": "29e0dcf3",
   "metadata": {},
   "source": [
    "## Question 3b"
   ]
  },
  {
   "cell_type": "code",
   "execution_count": null,
   "id": "9cb0453a",
   "metadata": {},
   "outputs": [],
   "source": [
    "def bake(cake, make):\n",
    "    if cake == 0:\n",
    "        cake = cake + 1\n",
    "        print(cake)\n",
    "    if cake == 1:\n",
    "        print(make)\n",
    "    else:\n",
    "        return cake\n",
    "    return make"
   ]
  },
  {
   "cell_type": "code",
   "execution_count": null,
   "id": "adc250c7",
   "metadata": {},
   "outputs": [],
   "source": [
    "bake(0, 29)"
   ]
  },
  {
   "cell_type": "code",
   "execution_count": null,
   "id": "11a3bb07",
   "metadata": {},
   "outputs": [],
   "source": [
    "bake(1, \"mashed potatoes\")"
   ]
  },
  {
   "cell_type": "markdown",
   "id": "a833210d",
   "metadata": {},
   "source": [
    "\n",
    "<br/><br/>\n",
    "<hr style=\"border: 5px solid #003262;\" />\n",
    "<hr style=\"border: 1px solid #fdb515;\" />\n",
    "\n",
    "# Part 3: Conditional Statements\n",
    "\n",
    "Conditional statements let programs execute different lines of code depending on certain\n",
    "conditions. Let’s review the if- elif-else syntax:\n",
    "\n",
    "```\n",
    "if <conditional expression>:\n",
    "    <suite of statements>\n",
    "elif <conditional expression>:\n",
    "    <suite of statements>\n",
    "else:\n",
    "    <suite of statements>\n",
    "```\n",
    "\n",
    "Recall the following points:\n",
    "* The `else` and `elif` clauses are optional, and you can have any number of elif clause.\n",
    "* A **conditional expression** is a expression that evaluates to either a true value (`True`, a non-zero integer, etc.) or a false value (`False`, `0`, `None`, etc.).\n",
    "* Only the suite that is indented under the first `if`/`elif` that has a conditional expression that evaluates to True will be executed.\n",
    "* If none of the conditional expressions are `True`, then the else suite is executed. There can only be one `else` clause in a conditional statement!\n",
    "\n",
    "**Tip**: You may be tempted to write code like this:\n",
    "\n",
    "```\n",
    "if x > 3:\n",
    "    return True\n",
    "else:\n",
    "    return False\n",
    "````\n",
    "\n",
    "This can be written more concisely as:\n",
    "\n",
    "```\n",
    "return x > 3\n",
    "```\n",
    "\n",
    "Boolean expressions and conditional statements take practice! Whenever you write conditional statements that involve returning or binding boolean values, see if you can rewrite your code.\n"
   ]
  },
  {
   "cell_type": "markdown",
   "id": "e1a31a31",
   "metadata": {},
   "source": [
    "<br/>\n",
    "\n",
    "---\n",
    "\n",
    "# Question 4: If True, What Would Python Do? (ITWWPD)\n",
    "\n",
    "From [CS 88 Lab 01](https://cs88-website.github.io/sp22/lab/lab01/), [CS 61A Lab 01](https://cs61a.org/lab/lab01/#error-messages) and [CS 61A Discussion 01](https://cs61a.org/disc/disc01/).\n",
    "\n",
    "\n",
    "**Before** running the following cells, consider what Python would do. Then, run the cells. You can use the keyboard shortcut `Shift + <Enter>` to run and step to the next cell.\n",
    "\n",
    "\n",
    "This question is designed as a discussion question, so talk through your ideas with your partner(s)!\n"
   ]
  },
  {
   "cell_type": "markdown",
   "id": "a9843f92",
   "metadata": {},
   "source": [
    "\n",
    "## Question 4a"
   ]
  },
  {
   "cell_type": "code",
   "execution_count": null,
   "id": "37f01bde",
   "metadata": {},
   "outputs": [],
   "source": [
    "def xk(c, d):\n",
    "    if c == 4:\n",
    "        return 6\n",
    "    elif d >= 4:\n",
    "        return 6 + 7 + c\n",
    "    else:\n",
    "        return 25\n",
    "    return 12"
   ]
  },
  {
   "cell_type": "code",
   "execution_count": null,
   "id": "737baa41",
   "metadata": {},
   "outputs": [],
   "source": [
    "xk(10, 10)"
   ]
  },
  {
   "cell_type": "code",
   "execution_count": null,
   "id": "4e94bf3c",
   "metadata": {},
   "outputs": [],
   "source": [
    "xk(10, 6)"
   ]
  },
  {
   "cell_type": "code",
   "execution_count": null,
   "id": "57d99d2a",
   "metadata": {},
   "outputs": [],
   "source": [
    "xk(4, 6)"
   ]
  },
  {
   "cell_type": "code",
   "execution_count": null,
   "id": "05ef703c",
   "metadata": {},
   "outputs": [],
   "source": [
    "xk(0, 0)"
   ]
  },
  {
   "cell_type": "markdown",
   "id": "465e4485",
   "metadata": {},
   "source": [
    "<br/>\n",
    "\n",
    "\n",
    "## Question 4b"
   ]
  },
  {
   "cell_type": "code",
   "execution_count": null,
   "id": "a764da3f",
   "metadata": {},
   "outputs": [],
   "source": [
    "def how_big(x):\n",
    "    if x < 0:\n",
    "        print('negative')\n",
    "    if x > 10:\n",
    "        print('huge')\n",
    "    elif x > 5:\n",
    "        print('big')\n",
    "    elif x > 0:\n",
    "        print('small')\n",
    "    else:\n",
    "        print('nothing')"
   ]
  },
  {
   "cell_type": "code",
   "execution_count": null,
   "id": "a3a0cb3c",
   "metadata": {},
   "outputs": [],
   "source": [
    "how_big(7)"
   ]
  },
  {
   "cell_type": "code",
   "execution_count": null,
   "id": "fc5e1c5b",
   "metadata": {},
   "outputs": [],
   "source": [
    "how_big(12)"
   ]
  },
  {
   "cell_type": "code",
   "execution_count": null,
   "id": "8ba64938",
   "metadata": {},
   "outputs": [],
   "source": [
    "how_big(1)"
   ]
  },
  {
   "cell_type": "code",
   "execution_count": null,
   "id": "58140e63",
   "metadata": {},
   "outputs": [],
   "source": [
    "how_big(-1)"
   ]
  },
  {
   "cell_type": "markdown",
   "id": "ae52cbfb",
   "metadata": {},
   "source": [
    "<br/><br/>\n",
    "\n",
    "---\n",
    "\n",
    "# Question 5: `if` vs `elif`\n",
    "\n",
    "In this question, we will explore the difference between `if` and `elif`.\n",
    "\n",
    "All parts of this question are designed as discussion exercises, so talk through your ideas with your partner(s)!\n",
    "\n",
    "## Question 5a\n",
    "What is the result of evaluating the following code?\n"
   ]
  },
  {
   "cell_type": "code",
   "execution_count": null,
   "id": "851b6cf3",
   "metadata": {},
   "outputs": [],
   "source": [
    "def special_case():\n",
    "    x = 10\n",
    "    if x > 0:\n",
    "        x += 2\n",
    "    elif x < 13:\n",
    "        x += 3\n",
    "    elif x % 2 == 1:\n",
    "        x += 4\n",
    "    return x\n",
    "\n",
    "special_case()"
   ]
  },
  {
   "cell_type": "markdown",
   "id": "db5224a3",
   "metadata": {},
   "source": [
    "_Write your answer in this Markdown cell._"
   ]
  },
  {
   "cell_type": "markdown",
   "id": "8fecf08f",
   "metadata": {},
   "source": [
    "## Question 5b\n",
    "\n",
    "What about this piece of code?"
   ]
  },
  {
   "cell_type": "code",
   "execution_count": null,
   "id": "4c95a512",
   "metadata": {},
   "outputs": [],
   "source": [
    "def just_in_case():\n",
    "    x = 10\n",
    "    if x > 0:\n",
    "        x += 2\n",
    "    if x < 13:\n",
    "        x += 3\n",
    "    if x % 2 == 1:\n",
    "        x += 4\n",
    "    return x\n",
    "\n",
    "just_in_case()"
   ]
  },
  {
   "cell_type": "markdown",
   "id": "0f09956e",
   "metadata": {},
   "source": [
    "_Replace this cell with your answer._"
   ]
  },
  {
   "cell_type": "markdown",
   "id": "947f7762",
   "metadata": {},
   "source": [
    "_Write your answer in this Markdown cell._"
   ]
  },
  {
   "cell_type": "markdown",
   "id": "c31f2073",
   "metadata": {},
   "source": [
    "## Question 5c\n",
    "\n",
    "What about this one?"
   ]
  },
  {
   "cell_type": "code",
   "execution_count": null,
   "id": "c8a81545",
   "metadata": {},
   "outputs": [],
   "source": [
    "def case_in_point():\n",
    "    x = 10\n",
    "    if x > 0:\n",
    "        return x + 2\n",
    "    if x < 13:\n",
    "        return x + 3\n",
    "    if x % 2 == 1:\n",
    "        return x + 4\n",
    "    return x\n",
    "\n",
    "case_in_point()"
   ]
  },
  {
   "cell_type": "markdown",
   "id": "6c27108f",
   "metadata": {},
   "source": [
    "_Write your answer in this Markdown cell._"
   ]
  },
  {
   "cell_type": "markdown",
   "id": "d68407c4",
   "metadata": {},
   "source": [
    "## Question 5d\n",
    "\n",
    "Which of the above code snippets result in the same output, and why? Based on your findings, when do you think using a series of `if` statements has the same effect as using both `if` and `elif` cases?"
   ]
  },
  {
   "cell_type": "markdown",
   "id": "f93a4ab2",
   "metadata": {},
   "source": [
    "_Write your answer in this Markdown cell._"
   ]
  },
  {
   "cell_type": "markdown",
   "id": "e0a41174",
   "metadata": {},
   "source": [
    "\n",
    "<br/><br/>\n",
    "<hr style=\"border: 5px solid #003262;\" />\n",
    "<hr style=\"border: 1px solid #fdb515;\" />\n",
    "\n",
    "# Part 4: Conditional Statements vs Boolean Expressions\n",
    "\n",
    "For the last part of this lab, you will implement a function that returns a boolean value and compare two different approaches: (1) a conditional statement or (2) a one-line boolean expression."
   ]
  },
  {
   "cell_type": "markdown",
   "id": "b69b8f4e",
   "metadata": {},
   "source": [
    "# Question 6: Jacket? No Jacket?\n",
    "\n",
    "From [CS 88 Discussion 01](https://cs88-website.github.io/sp22/disc/disc01.pdf).\n",
    "\n",
    "Tommy will only wear a jacket outside if it is below 60 degrees or it is raining.\n",
    "Write a function that takes in the current temperature and a boolean value telling if it\n",
    "is raining and returns `True` if Tommy will wear a jacket and `False` otherwise.\n",
    "\n",
    "In other words, the function should correctly evaluate the following:\n",
    "```\n",
    "wears_jacket(90, False)  # False\n",
    "wears_jacket(40, False)  # True\n",
    "wears_jacket(100, True)  # True\n",
    "```"
   ]
  },
  {
   "cell_type": "markdown",
   "id": "cbc820d3",
   "metadata": {},
   "source": [
    "## Question 6a\n",
    "First, try solving this problem using an `if-elif-else` statement."
   ]
  },
  {
   "cell_type": "code",
   "execution_count": null,
   "id": "53b6f882",
   "metadata": {
    "tags": []
   },
   "outputs": [],
   "source": [
    "def wears_jacket(temp, raining):\n",
    "    ...\n",
    "\n",
    "# edit the below line as needed for testing\n",
    "wears_jacket(90, False)"
   ]
  },
  {
   "cell_type": "code",
   "execution_count": null,
   "id": "0dce19f0",
   "metadata": {
    "deletable": false,
    "editable": false
   },
   "outputs": [],
   "source": [
    "grader.check(\"q6a\")"
   ]
  },
  {
   "cell_type": "markdown",
   "id": "88ad5824",
   "metadata": {},
   "source": [
    "<br/>\n",
    "\n",
    "## Question 6b\n",
    "Note that we’ll either return `True` or `False` based on a single condition, whose truthiness value will also be either `True` or `False`. \n",
    "\n",
    "Knowing this, try to implement this using a single line in the function `wears_jacket_single_line` below."
   ]
  },
  {
   "cell_type": "code",
   "execution_count": null,
   "id": "591b6d94",
   "metadata": {
    "tags": []
   },
   "outputs": [],
   "source": [
    "def wears_jacket_single_line(temp, raining):\n",
    "    ...\n",
    "\n",
    "# edit the below line as needed for testing\n",
    "wears_jacket_single_line(90, False)"
   ]
  },
  {
   "cell_type": "code",
   "execution_count": null,
   "id": "bfed74e9",
   "metadata": {
    "deletable": false,
    "editable": false
   },
   "outputs": [],
   "source": [
    "grader.check(\"q6b\")"
   ]
  },
  {
   "cell_type": "markdown",
   "id": "e67d5ddf",
   "metadata": {},
   "source": [
    "\n",
    "<br/><br/>\n",
    "<hr style=\"border: 5px solid #003262;\" />\n",
    "<hr style=\"border: 1px solid #fdb515;\" />\n",
    "\n",
    "# Bonus/More Practice\n",
    "\n",
    "From [CS 88 Discussion 01](https://cs88-website.github.io/sp22/disc/disc01.pdf), [CS 88 Lab 01](https://cs88-website.github.io/sp22/lab/lab01/), [CS 61A Lab 01](https://cs61a.org/lab/lab01/#error-messages), and [CS 61A Lecture 03](https://inst.eecs.berkeley.edu/~cs61a/sp22/assets/slides/03-Control.html#/32)."
   ]
  },
  {
   "cell_type": "markdown",
   "id": "1e030320",
   "metadata": {},
   "source": [
    "# Question 7: Greater Number\n",
    "\n",
    "Write a function named `greater_num` that:\n",
    "* takes 2 arguments, both numbers.\n",
    "* returns whichever number is the greater (higher) number.\n",
    "\n",
    "Use conditional statements to implement the function.\n",
    "\n",
    "Your implementation should correctly evaluate the following:\n",
    "\n",
    "```\n",
    "greater_num(45, 10)   # 45\n",
    "greater_num(-1, 30)   # 30\n",
    "greater_num(20, 20)   # 20\n",
    "```"
   ]
  },
  {
   "cell_type": "code",
   "execution_count": null,
   "id": "7065d5b7",
   "metadata": {
    "tags": []
   },
   "outputs": [],
   "source": [
    "def greater_num(num1, num2):\n",
    "    ...\n",
    "\n",
    "# edit the below line as needed for testing\n",
    "greater_num(45, 30)"
   ]
  },
  {
   "cell_type": "code",
   "execution_count": null,
   "id": "023073a2",
   "metadata": {
    "deletable": false,
    "editable": false
   },
   "outputs": [],
   "source": [
    "grader.check(\"q7\")"
   ]
  },
  {
   "cell_type": "markdown",
   "id": "67a9dda0",
   "metadata": {},
   "source": [
    "# Question 8: Hello, Worldwide!\n",
    "\n",
    "Write a function named `hello_world` that:\n",
    "* takes 1 argument, a language code (e.g. `\"es\"`, `\"pt\"`, `\"en\"`)\n",
    "* returns `\"Hello, World\"` for the given language\n",
    "It should return English if an invalid language code is specified.\n",
    "\n",
    "Your implementation should correctly evaluate the following:\n",
    "\n",
    "```\n",
    "hello_world(\"en\")    # 'Hello, World'\n",
    "hello_world(\"es\")    # 'Hola, Mundo'\n",
    "hello_world(\"pt\")    # 'Olá, Mundo'\n",
    "```\n",
    "\n",
    "We encourage you to expand this function by adding your favorite language!\n"
   ]
  },
  {
   "cell_type": "code",
   "execution_count": null,
   "id": "48f85cc8",
   "metadata": {
    "tags": []
   },
   "outputs": [],
   "source": [
    "def hello_world(language_code):\n",
    "    ...\n",
    "\n",
    "# edit the below line as needed for testing\n",
    "hello_world('en')"
   ]
  },
  {
   "cell_type": "code",
   "execution_count": null,
   "id": "052d6023",
   "metadata": {
    "deletable": false,
    "editable": false
   },
   "outputs": [],
   "source": [
    "grader.check(\"q8\")"
   ]
  },
  {
   "cell_type": "markdown",
   "id": "0ed795b5",
   "metadata": {},
   "source": [
    "# Question 9: Assign Grading Bins\n",
    "\n",
    "Write a function named `assign_grade` that:\n",
    "* takes 1 argument, an integer representing the score.\n",
    "* returns a grade for the score, either `\"A\"` (90-100), `\"B\"` (80-89), `\"C\"` (70-79), `\"D\"` (65-69), or `\"F\"` (0-64).\n",
    "\n",
    "Call that function for a few different scores and log the result to make sure it works.\n",
    "\n",
    "Your implementation should correctly evaluate the following:\n",
    "```\n",
    "assign_grade(95)   # 'A'\n",
    "assign_grade(90)   # 'A'\n",
    "assign_grade(85)   # 'B'\n",
    "assign_grade(80)   # 'B'\n",
    "assign_grade(77)   # 'C'\n",
    "assign_grade(70)   # 'C'\n",
    "assign_grade(68)   # 'D'\n",
    "assign_grade(65)   # 'D'\n",
    "assign_grade(64)   # 'F'\n",
    "assign_grade(0)    # 'F'\n",
    "```"
   ]
  },
  {
   "cell_type": "code",
   "execution_count": null,
   "id": "c84ef259",
   "metadata": {
    "tags": []
   },
   "outputs": [],
   "source": [
    "def assign_grade(score):\n",
    "    ...\n",
    "\n",
    "# edit the below line as needed to test your function\n",
    "assign_grade(95)"
   ]
  },
  {
   "cell_type": "code",
   "execution_count": null,
   "id": "b6d42b27",
   "metadata": {
    "deletable": false,
    "editable": false
   },
   "outputs": [],
   "source": [
    "grader.check(\"q9\")"
   ]
  },
  {
   "cell_type": "markdown",
   "id": "70158d39",
   "metadata": {},
   "source": [
    "<br/><br/>\n",
    "\n",
    "---\n",
    "\n",
    "# Question 10: Classroom Management\n",
    "\n",
    "To handle discussion section overflow, Matt and other TAs may direct students to a more empty section that is happening at the same time.\n",
    "\n",
    "Write a function that takes in the number of students in two sections and returns (does not print!) a string about what to do if either section exceeds 30 students.\n",
    "\n",
    "**Hint**: You can do `str(<number>)+ <string>` to concatenate a number and a string.\n",
    "\n",
    "Your implementation should correctly evaluate the following:\n",
    "\n",
    "```\n",
    "handle_overflow(27, 15)     # \"No overflow\"\n",
    "handle_overflow(35, 29)     # \"Move to Section 2: 1\"\n",
    "handle_overflow(20, 32)     # \"Move to Section 1: 10\"\n",
    "handle_overflow(35, 30)     # \"No space left in either section\"\n",
    "```\n"
   ]
  },
  {
   "cell_type": "code",
   "execution_count": null,
   "id": "915357c8",
   "metadata": {
    "tags": []
   },
   "outputs": [],
   "source": [
    "def handle_overflow(s1, s2):\n",
    "    ...\n",
    "\n",
    "# edit the below line as needed to test your function\n",
    "handle_overflow(27, 15)"
   ]
  },
  {
   "cell_type": "code",
   "execution_count": null,
   "id": "4974d6b2",
   "metadata": {
    "deletable": false,
    "editable": false
   },
   "outputs": [],
   "source": [
    "grader.check(\"q6\")"
   ]
  },
  {
   "cell_type": "markdown",
   "id": "f88d4b8a",
   "metadata": {},
   "source": [
    "<br/><br/>\n",
    "\n",
    "---\n",
    "\n",
    "# [Challenge] Question 11: If \"Function\" vs If Statement\n",
    "Now that we've learned about how if statements work, let's see if we can write a function that behaves the same as an if statement."
   ]
  },
  {
   "cell_type": "code",
   "execution_count": null,
   "id": "d93bfaf6",
   "metadata": {},
   "outputs": [],
   "source": [
    "# just run this cell\n",
    "def if_function(condition, true_result, false_result):\n",
    "    \"\"\"Return true_result if condition is a true value, and\n",
    "    false_result otherwise.\n",
    "    \"\"\"\n",
    "    if condition:\n",
    "        return true_result\n",
    "    else:\n",
    "        return false_result"
   ]
  },
  {
   "cell_type": "markdown",
   "id": "11d68542",
   "metadata": {},
   "source": [
    "We'd expect the function to run as follows:"
   ]
  },
  {
   "cell_type": "code",
   "execution_count": null,
   "id": "c4b69b19",
   "metadata": {},
   "outputs": [],
   "source": [
    "if_function(True, 2, 3)                    # 2"
   ]
  },
  {
   "cell_type": "code",
   "execution_count": null,
   "id": "3a275311",
   "metadata": {},
   "outputs": [],
   "source": [
    "if_function(False, 2, 3)                   # 3"
   ]
  },
  {
   "cell_type": "code",
   "execution_count": null,
   "id": "a0a615a7",
   "metadata": {},
   "outputs": [],
   "source": [
    "if_function(3==2, 'equal', 'not equal')    # 'not equal'"
   ]
  },
  {
   "cell_type": "code",
   "execution_count": null,
   "id": "6247f6db",
   "metadata": {
    "scrolled": true
   },
   "outputs": [],
   "source": [
    "if_function(3>2, 'bigger', 'smaller')      # 'bigger'"
   ]
  },
  {
   "cell_type": "markdown",
   "id": "576f30fc",
   "metadata": {},
   "source": [
    "Despite what's written above, this function actually does not always do the same thing as an `if` statement!\n",
    "\n",
    "<br/>\n",
    "\n",
    "---\n",
    "\n",
    "We want to find a case where this `if_function` will behave differently from an `if` statement. To do so, implement the following functions:\n",
    "* `cond`: Calling `cond` should act as the `if` condition.\n",
    "* `true_func`: Calling `true_func` should represent the result of the truthy case.\n",
    "* `false_func`: Calling `false_func` should represent the result of the falsey case.\n",
    "\n",
    "so that `with_if_function` does not behave the same as `with_if_statement` as follows:\n",
    "* When `with_if_statement` is called, we print out `UC Berkeley`.\n",
    "* When `with_if_function` is called, we print out both `Welcome to` and `UC Berkeley` on separate lines.\n",
    "\n",
    "In other words, when you implement the below functions, you should observe the following output:\n",
    "\n",
    "```\n",
    ">>>> testing with_if_statement()\n",
    "UC Berkeley\n",
    "None\n",
    "\n",
    ">>>> testing with_if_function()\n",
    "Welcome to\n",
    "UC Berkeley\n",
    "None\n",
    "```\n",
    "\n",
    "Implement `cond`, `true_func`, and `false_func` below.\n",
    "\n",
    "**Hint**: If you are having a hard time identifying how `with_if_statement` and `with_if_function` would differ in behavior, consider the rules of evaluation for `if` statements and call expressions."
   ]
  },
  {
   "cell_type": "code",
   "execution_count": null,
   "id": "e9091a7e",
   "metadata": {
    "tags": []
   },
   "outputs": [],
   "source": [
    "# repeated for your reference\n",
    "def if_function(condition, true_result, false_result):\n",
    "    if condition:\n",
    "        return true_result\n",
    "    else:\n",
    "        return false_result\n",
    "\n",
    "def with_if_statement():\n",
    "    if cond():\n",
    "        return true_func()\n",
    "    else:\n",
    "        return false_func()\n",
    "\n",
    "def with_if_function():\n",
    "    return if_function(cond(), true_func(), false_func())\n",
    "\n",
    "def cond():\n",
    "    ...\n",
    "\n",
    "def true_func():\n",
    "    ...\n",
    "\n",
    "def false_func():\n",
    "    ...\n",
    "    \n",
    "    \n",
    "##### do not change anything below this line ######\n",
    "print(\">>>> testing with_if_statement()\")\n",
    "result = with_if_statement()\n",
    "print(result)\n",
    "print() # prints a blank line\n",
    "print(\">>>> testing with_if_function()\")\n",
    "result = with_if_function()\n",
    "print(result)"
   ]
  },
  {
   "cell_type": "markdown",
   "id": "68bced83",
   "metadata": {},
   "source": [
    "## Done!\n",
    "\n",
    "That's it! Please feel free to ask any questions!!!"
   ]
  },
  {
   "cell_type": "markdown",
   "id": "687e46f9",
   "metadata": {
    "deletable": false,
    "editable": false
   },
   "source": [
    "## Submission\n",
    "\n",
    "Make sure you have run all cells in your notebook in order before running the cell below, so that all images/graphs appear in the output. The cell below will generate a zip file for you to submit. **Please save before exporting!**"
   ]
  },
  {
   "cell_type": "code",
   "execution_count": null,
   "id": "70979253",
   "metadata": {
    "deletable": false,
    "editable": false
   },
   "outputs": [],
   "source": [
    "# Save your notebook first, then run this cell to export your submission.\n",
    "grader.export(pdf=False, run_tests=True)"
   ]
  },
  {
   "cell_type": "markdown",
   "id": "7b500040",
   "metadata": {},
   "source": [
    " "
   ]
  }
 ],
 "metadata": {
  "kernelspec": {
   "display_name": "Python 3 (ipykernel)",
   "language": "python",
   "name": "python3"
  },
  "language_info": {
   "codemirror_mode": {
    "name": "ipython",
    "version": 3
   },
   "file_extension": ".py",
   "mimetype": "text/x-python",
   "name": "python",
   "nbconvert_exporter": "python",
   "pygments_lexer": "ipython3",
   "version": "3.11.3"
  },
  "otter": {
   "OK_FORMAT": true,
   "tests": {
    "q1": {
     "name": "q1",
     "points": 2,
     "suites": [
      {
       "cases": [
        {
         "code": ">>> celsius_to_farenheit(0) == 32\nTrue",
         "hidden": false,
         "locked": false
        },
        {
         "code": ">>> celsius_to_farenheit(100) == 212\nTrue",
         "hidden": false,
         "locked": false
        },
        {
         "code": ">>> farenheit_to_celsius(32) == 0\nTrue",
         "hidden": false,
         "locked": false
        },
        {
         "code": ">>> farenheit_to_celsius(212) == 100\nTrue",
         "hidden": false,
         "locked": false
        }
       ],
       "scored": true,
       "setup": "",
       "teardown": "",
       "type": "doctest"
      }
     ]
    },
    "q6": {
     "name": "q6",
     "points": 2,
     "suites": [
      {
       "cases": [
        {
         "code": ">>> handle_overflow(27, 15) == \"No overflow\"\nTrue",
         "hidden": false,
         "locked": false
        },
        {
         "code": ">>> handle_overflow(35, 29) == \"Move to Section 2: 1\"\nTrue",
         "hidden": false,
         "locked": false
        },
        {
         "code": ">>> handle_overflow(20, 32) == \"Move to Section 1: 10\"\nTrue",
         "hidden": false,
         "locked": false
        },
        {
         "code": ">>> handle_overflow(35, 30) == \"No space left in either section\"\nTrue",
         "hidden": false,
         "locked": false
        }
       ],
       "scored": true,
       "setup": "",
       "teardown": "",
       "type": "doctest"
      }
     ]
    },
    "q6a": {
     "name": "q6a",
     "points": 2,
     "suites": [
      {
       "cases": [
        {
         "code": ">>> wears_jacket(90, False) == False\nTrue",
         "hidden": false,
         "locked": false
        },
        {
         "code": ">>> wears_jacket(40, False) == True\nTrue",
         "hidden": false,
         "locked": false
        },
        {
         "code": ">>> wears_jacket(100, True) == True\nTrue",
         "hidden": false,
         "locked": false
        }
       ],
       "scored": true,
       "setup": "",
       "teardown": "",
       "type": "doctest"
      }
     ]
    },
    "q6b": {
     "name": "q6b",
     "points": 2,
     "suites": [
      {
       "cases": [
        {
         "code": ">>> wears_jacket_single_line(90, False) == False\nTrue",
         "hidden": false,
         "locked": false
        },
        {
         "code": ">>> wears_jacket_single_line(40, False) == True\nTrue",
         "hidden": false,
         "locked": false
        },
        {
         "code": ">>> wears_jacket_single_line(100, True) == True\nTrue",
         "hidden": false,
         "locked": false
        }
       ],
       "scored": true,
       "setup": "",
       "teardown": "",
       "type": "doctest"
      }
     ]
    },
    "q7": {
     "name": "q7",
     "points": 2,
     "suites": [
      {
       "cases": [
        {
         "code": ">>> greater_num(45, 10) == 45\nTrue",
         "hidden": false,
         "locked": false
        },
        {
         "code": ">>> greater_num(-1, 30) == 30\nTrue",
         "hidden": false,
         "locked": false
        },
        {
         "code": ">>> greater_num(20, 20) == 20\nTrue",
         "hidden": false,
         "locked": false
        }
       ],
       "scored": true,
       "setup": "",
       "teardown": "",
       "type": "doctest"
      }
     ]
    },
    "q8": {
     "name": "q8",
     "points": 2,
     "suites": [
      {
       "cases": [
        {
         "code": ">>> hello_world(\"en\") == 'Hello, World'\nTrue",
         "hidden": false,
         "locked": false
        },
        {
         "code": ">>> hello_world(\"es\") == 'Hola, Mundo'\nTrue",
         "hidden": false,
         "locked": false
        },
        {
         "code": ">>> hello_world(\"pt\") == 'Olá, Mundo'\nTrue",
         "hidden": false,
         "locked": false
        }
       ],
       "scored": true,
       "setup": "",
       "teardown": "",
       "type": "doctest"
      }
     ]
    },
    "q9": {
     "name": "q9",
     "points": 2,
     "suites": [
      {
       "cases": [
        {
         "code": ">>> assign_grade(95)   # 'A'\n'A'",
         "hidden": false,
         "locked": false
        },
        {
         "code": ">>> assign_grade(90)   # 'A'\n'A'",
         "hidden": false,
         "locked": false
        },
        {
         "code": ">>> assign_grade(85)   # 'B'\n'B'",
         "hidden": false,
         "locked": false
        },
        {
         "code": ">>> assign_grade(80)   # 'B'\n'B'",
         "hidden": false,
         "locked": false
        },
        {
         "code": ">>> assign_grade(77)   # 'C'\n'C'",
         "hidden": false,
         "locked": false
        },
        {
         "code": ">>> assign_grade(70)   # 'C'\n'C'",
         "hidden": false,
         "locked": false
        },
        {
         "code": ">>> assign_grade(68)   # 'D'\n'D'",
         "hidden": false,
         "locked": false
        },
        {
         "code": ">>> assign_grade(65)   # 'D'\n'D'",
         "hidden": false,
         "locked": false
        },
        {
         "code": ">>> assign_grade(64)   # 'F'\n'F'",
         "hidden": false,
         "locked": false
        },
        {
         "code": ">>> assign_grade(0)    # 'F'\n'F'",
         "hidden": false,
         "locked": false
        }
       ],
       "scored": true,
       "setup": "",
       "teardown": "",
       "type": "doctest"
      }
     ]
    }
   }
  }
 },
 "nbformat": 4,
 "nbformat_minor": 5
}
