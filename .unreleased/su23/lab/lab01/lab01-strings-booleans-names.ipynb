{
 "cells": [
  {
   "cell_type": "markdown",
   "id": "922c49e3",
   "metadata": {},
   "source": [
    "# Coding Lab 1: Strings, Booleans, and Names\n",
    "\n",
    "## Tuskegee Scholars Summer 2023\n",
    "\n",
    "Material is from  [CS 88 Discussion 01](https://cs88-website.github.io/sp22/disc/disc01.pdf).\n",
    "\n",
    "\n",
    "Goals of Lab 1:\n",
    "* Practice string length and concatenation operators\n",
    "* Use assignment statements\n",
    "* Interpret boolean expressions\n",
    "* Draw environment diagrams\n",
    "\n",
    "While you will not submit these labs, we hope that you can work through the \"required\" parts of each lab. This will help build your foundation for Data 6, which starts in Week 3 of this program.\n",
    "\n",
    "Lab 1 (this file) covers up to (and including) assignment statements. There are 5 questions and 1 bonus question, interspaced between tutorials.\n"
   ]
  },
  {
   "cell_type": "markdown",
   "id": "e7b5f90c",
   "metadata": {},
   "source": [
    "<br/><br/>\n",
    "<hr style=\"border: 5px solid #003262;\" />\n",
    "<hr style=\"border: 1px solid #fdb515;\" />\n",
    "\n",
    "# Part 0: Find a Partner!\n",
    "\n",
    "Labs are best worked on in pairs (or groups of three)! First, find a **new** partner (or two) that you'd like to work with on this lab. Share the following things:\n",
    "\n",
    "* Introduce yourself (name, major, year, etc.).\n",
    "* What's your current favorite song?\n",
    "* What did you have for breakfast? Was it good?\n",
    "* What's your favorite city/town in the world?\n",
    "\n",
    "Now that you have introductions out of the way, let's work on the lab together!"
   ]
  },
  {
   "cell_type": "markdown",
   "id": "24dbb071",
   "metadata": {},
   "source": [
    "<br/><br/>\n",
    "<hr style=\"border: 5px solid #003262;\" />\n",
    "<hr style=\"border: 1px solid #fdb515;\" />\n",
    "\n",
    "# Part 1: Strings"
   ]
  },
  {
   "cell_type": "markdown",
   "id": "6bcc3b67",
   "metadata": {},
   "source": [
    "### Strings\n",
    "\n",
    "A string consists of one or more characters wrapped in either single quotes (`''`) or double quotes (`\"\"`). Strings actually differ slightly from primitive expressions, but for the purposes of this assignment can be treated similarly as expressions which evaluate to themselves. You'll learn more about the intricacies of strings in the coming weeks in this course!"
   ]
  },
  {
   "cell_type": "code",
   "execution_count": null,
   "id": "8d09264e",
   "metadata": {},
   "outputs": [],
   "source": [
    "\"hello\"       # Both single and double quotes work!"
   ]
  },
  {
   "cell_type": "code",
   "execution_count": null,
   "id": "3a3a38a6",
   "metadata": {},
   "outputs": [],
   "source": [
    "'world!'"
   ]
  },
  {
   "cell_type": "markdown",
   "id": "2de6c6ec",
   "metadata": {},
   "source": [
    "We have learned two ways to work with the string data type:\n",
    "* Get a string's length (using the `len()` function), and\n",
    "* Concatenate two strings (using the concatenation `+` operator).\n",
    "\n",
    "Note that with numeric values, we refer to `+` as the addition operator, but with string values, we refer to it as concatenation. Operators behave differently with different data types!"
   ]
  },
  {
   "cell_type": "code",
   "execution_count": null,
   "id": "594c32bd",
   "metadata": {},
   "outputs": [],
   "source": [
    "len(\"hello\")"
   ]
  },
  {
   "cell_type": "code",
   "execution_count": null,
   "id": "78425e7f",
   "metadata": {},
   "outputs": [],
   "source": [
    "\"hello\" + 'world!'"
   ]
  },
  {
   "cell_type": "code",
   "execution_count": null,
   "id": "096b1266",
   "metadata": {},
   "outputs": [],
   "source": [
    "\"hello \" + 'world!'"
   ]
  },
  {
   "cell_type": "code",
   "execution_count": null,
   "id": "569cd265",
   "metadata": {
    "scrolled": true
   },
   "outputs": [],
   "source": [
    "\"hello\" + ' ' + \"world!\""
   ]
  },
  {
   "cell_type": "markdown",
   "id": "4aa7ddeb",
   "metadata": {},
   "source": [
    "<br/><br/>\n",
    "\n",
    "---\n",
    "\n",
    "# Question 1: Conversions and String Functions\n",
    "\n",
    "## Question 1a\n",
    "\n",
    "In the cell below, write an expression that fills in the blank in the following expression and outputs the length of the string `\"ice cream! \"`.\n",
    "\n",
    "$$ \\texttt{len(}\\_\\_\\_\\_\\_\\texttt{)}$$\n",
    "\n",
    "**Hint**: Your expression should evaluate to 11. Python counts all characters, including punctuation and spaces, but it doesn't count the surrounding quotes.\n",
    "\n"
   ]
  },
  {
   "cell_type": "code",
   "execution_count": null,
   "id": "caa6f73c",
   "metadata": {},
   "outputs": [],
   "source": [
    "# write your expression here"
   ]
  },
  {
   "cell_type": "markdown",
   "id": "9e36630d",
   "metadata": {},
   "source": [
    "## Question 1b\n",
    "\n",
    "Now consider the string `\"ice cream! \"` repeated 50 times:\n",
    "\n",
    "    \"ice cream! ice cream! ice cream! ...ice cream! \"`\n",
    "\n",
    "(replace the ellipsis with 46 more `\"ice cream! \"`s).\n",
    "\n",
    "In the cell below, write an expression that fills in the blanks in the following expression and outputs the length of this new string.\n",
    "\n",
    "$$ \\_\\_\\_\\_ \\texttt{* len(}\\_\\_\\_\\_\\_\\texttt{)}$$\n",
    "\n",
    "**Hint**: Your expression should evaluate to 550."
   ]
  },
  {
   "cell_type": "code",
   "execution_count": null,
   "id": "e5dca2f8",
   "metadata": {},
   "outputs": [],
   "source": [
    "# write your expression here"
   ]
  },
  {
   "cell_type": "markdown",
   "id": "8e9fe3e8",
   "metadata": {},
   "source": [
    "## Question 1c\n",
    "\n",
    "Your friend (who does not know Python as well as you) has tried to use string concatenation to print out the founding year of Tuskegee University, but it's buggy:"
   ]
  },
  {
   "cell_type": "code",
   "execution_count": null,
   "id": "e5c2d5d3",
   "metadata": {},
   "outputs": [],
   "source": [
    "# just run this cell\n",
    "\"Tuskegee \" + \" University was founded in\" + 1881.0"
   ]
  },
  {
   "cell_type": "markdown",
   "id": "ee9db4ab",
   "metadata": {},
   "source": [
    "In the cell below, debug the expression such that running the cell outputs `'Tuskegee University was founded in 1881.'` Note the period!\n",
    "\n",
    "The original expression has been copied below for your convenience.\n",
    "\n",
    "**Hint**: Try using a **typecast**: `int()`, `float()`, or `str()`.\n"
   ]
  },
  {
   "cell_type": "code",
   "execution_count": null,
   "id": "dc55a6d8",
   "metadata": {},
   "outputs": [],
   "source": [
    "# debug this cell\n",
    "\"Tuskegee \" + \" University was founded in\" + 1881.0"
   ]
  },
  {
   "cell_type": "markdown",
   "id": "2f039417",
   "metadata": {},
   "source": [
    "<br/><br/>\n",
    "<hr style=\"border: 5px solid #003262;\" />\n",
    "<hr style=\"border: 1px solid #fdb515;\" />\n",
    "\n",
    "# Part 2: Assignment Statements and Names\n",
    "\n",
    "An assignment statement consists of a name and an expression. It changes the state of the program by evaluating the expression to the right of the `=` sign and *binding* its value to the name on the left."
   ]
  },
  {
   "cell_type": "code",
   "execution_count": null,
   "id": "ac0753f9",
   "metadata": {},
   "outputs": [],
   "source": [
    "a = (100 + 50) // 2"
   ]
  },
  {
   "cell_type": "markdown",
   "id": "80418638",
   "metadata": {},
   "source": [
    "Now, if we evaluate `a`, the interpreter will display the value 75."
   ]
  },
  {
   "cell_type": "code",
   "execution_count": null,
   "id": "33cc212c",
   "metadata": {},
   "outputs": [],
   "source": [
    "a"
   ]
  },
  {
   "cell_type": "markdown",
   "id": "037e7a1b",
   "metadata": {},
   "source": [
    "We can use `a` in any sort of complex expression."
   ]
  },
  {
   "cell_type": "code",
   "execution_count": null,
   "id": "8dee43b5",
   "metadata": {},
   "outputs": [],
   "source": [
    "(25 - a) ** 2"
   ]
  },
  {
   "cell_type": "markdown",
   "id": "8371bd7b",
   "metadata": {},
   "source": [
    "## Environment Diagrams\n",
    "\n",
    "An **environment diagram** is a model we use to keep track of all the names (i.e., variables) that have been defined and the values they are bound to. We will be using this tool throughout the course to understand complex programs involving several different assignments and function calls.\n",
    "\n",
    "**Python Tutor** is a website which auto-generates environment diagrams. For the below cell, see the environment diagram in [this Python Tutor link](https://pythontutor.com/render.html#code=x%20%3D%203%0Ay%20%3D%204%0Az%20%3D%20x%20%2B%20y%0Az&cumulative=false&curInstr=0&heapPrimitives=nevernest&mode=display&origin=opt-frontend.js&py=3&rawInputLstJSON=%5B%5D&textReferences=false). Then, step through each line of the code to understand how Python assigns and evalutes values. "
   ]
  },
  {
   "cell_type": "code",
   "execution_count": null,
   "id": "4d92d493",
   "metadata": {},
   "outputs": [],
   "source": [
    "x = 3\n",
    "y = 4\n",
    "z = x + y\n",
    "z"
   ]
  },
  {
   "cell_type": "markdown",
   "id": "b73ab976",
   "metadata": {},
   "source": [
    "\n",
    "Remember that programs are mainly just a set of statements or instructions— so drawing diagrams that represent these programs also involves following sets of instructions! Let’s dive in..."
   ]
  },
  {
   "cell_type": "markdown",
   "id": "d13ac9fc",
   "metadata": {},
   "source": [
    "<br/><br/>\n",
    "\n",
    "---\n",
    "\n",
    "# Question 2: Draw a Diagram\n",
    "\n",
    "Assignment statements, such as `x = 3`, define names in programs. To execute one in an environment diagram, record the name and the value:\n",
    "\n",
    "1. Evaluate the expression on the right side of the `=` sign.\n",
    "1. Write the name and the expression’s value in the current frame.\n",
    "\n",
    "Use these rules to draw an environment diagram for the assignment statements below:"
   ]
  },
  {
   "cell_type": "code",
   "execution_count": null,
   "id": "75ee43cb",
   "metadata": {},
   "outputs": [],
   "source": [
    "x = 11 % 4\n",
    "y = x\n",
    "x **= 2"
   ]
  },
  {
   "cell_type": "markdown",
   "id": "b9135e9d",
   "metadata": {},
   "source": [
    "Then, try it out in [Python Tutor](https://pythontutor.com/visualize.html#mode=edit) and trace the values."
   ]
  },
  {
   "cell_type": "markdown",
   "id": "d761b6c2",
   "metadata": {},
   "source": [
    "\n",
    "<br/><br/>\n",
    "\n",
    "---\n",
    "\n",
    "# Question 3: Names\n",
    "\n",
    "Note that assignment statements also work with functions!!! The below cell evaluates the maximum of `3`, `-1`, and `4`.\n",
    "\n",
    "## Question 3a: Tutorial\n",
    "\n",
    "See this Python Tutor [link](https://pythontutor.com/render.html#code=another_name_for_max%20%3D%20max%0Aval%20%3D%20another_name_for_max%283,%20-1,%204%29%0Aval&cumulative=false&curInstr=0&heapPrimitives=nevernest&mode=display&origin=opt-frontend.js&py=3&rawInputLstJSON=%5B%5D&textReferences=false) for how Python assigns the two names `another_name_for_max` and `val`."
   ]
  },
  {
   "cell_type": "code",
   "execution_count": null,
   "id": "f356e608",
   "metadata": {},
   "outputs": [],
   "source": [
    "# run this cell and check out the Python Tutor link above\n",
    "another_name_for_max = max\n",
    "val = another_name_for_max(3, -1, 4)\n",
    "val"
   ]
  },
  {
   "cell_type": "markdown",
   "id": "4434628b",
   "metadata": {},
   "source": [
    "## Question 3b: Tutorial, continued\n",
    "\n",
    "What will be the value of the final expression in this sequence? Why? Draw a diagram!"
   ]
  },
  {
   "cell_type": "code",
   "execution_count": null,
   "id": "d26629da",
   "metadata": {},
   "outputs": [],
   "source": [
    "f = min\n",
    "f = max\n",
    "g = min\n",
    "h = max\n",
    "max = g\n",
    "max(f(2, g(h(1, 5), 3)), 4)"
   ]
  },
  {
   "cell_type": "markdown",
   "id": "9356256d",
   "metadata": {},
   "source": [
    "Then, try it out in [Python Tutor](https://pythontutor.com/visualize.html#mode=edit) and trace the assignment statements."
   ]
  },
  {
   "cell_type": "markdown",
   "id": "7dfa37d4",
   "metadata": {},
   "source": [
    "<br/><br/>\n",
    "<hr style=\"border: 5px solid #003262;\" />\n",
    "<hr style=\"border: 1px solid #fdb515;\" />\n",
    "\n",
    "# Part 3: Booleans and Boolean Operators\n",
    "\n",
    "Python supports three boolean operators: `and`, `or`, and `not`. These operators are used to combine and manipulate boolean values.\n",
    "\n",
    "* `not` returns the opposite boolean value of the following expression, and will always return either `True` or `False`.\n",
    "* `and` evaluates expressions in order and stops evaluating (short-circuits) once it reaches the first falsy value, and then returns it. If all values evaluate to a truthy value, the last value is returned.\n",
    "* `or` evalutes expressions in order and short-circuits at the first truthy value and returns it. If all values evaluate to a falsy value, the last value is returned."
   ]
  },
  {
   "cell_type": "code",
   "execution_count": null,
   "id": "7a11e65c",
   "metadata": {},
   "outputs": [],
   "source": [
    "a = 4"
   ]
  },
  {
   "cell_type": "code",
   "execution_count": null,
   "id": "d4237faa",
   "metadata": {},
   "outputs": [],
   "source": [
    "a < 2 and a > 0"
   ]
  },
  {
   "cell_type": "code",
   "execution_count": null,
   "id": "2211d1e5",
   "metadata": {},
   "outputs": [],
   "source": [
    "a < 2 or a > 0"
   ]
  },
  {
   "cell_type": "code",
   "execution_count": null,
   "id": "b035c438",
   "metadata": {},
   "outputs": [],
   "source": [
    "not (a > 0)"
   ]
  },
  {
   "cell_type": "code",
   "execution_count": null,
   "id": "810ea390",
   "metadata": {},
   "outputs": [],
   "source": [
    "not True"
   ]
  },
  {
   "cell_type": "code",
   "execution_count": null,
   "id": "69d469c9",
   "metadata": {},
   "outputs": [],
   "source": [
    "-1 and 0 and 1"
   ]
  },
  {
   "cell_type": "code",
   "execution_count": null,
   "id": "54e36684",
   "metadata": {},
   "outputs": [],
   "source": [
    "False or 9999 or 1/0"
   ]
  },
  {
   "cell_type": "markdown",
   "id": "0eed61f1",
   "metadata": {},
   "source": [
    "### Boolean Order of Operations\n",
    "\n",
    "What do you think the following expression evaluates to? Try it out in the Python interpreter."
   ]
  },
  {
   "cell_type": "code",
   "execution_count": null,
   "id": "ef16ba1e",
   "metadata": {},
   "outputs": [],
   "source": [
    "True and not False or not True and False"
   ]
  },
  {
   "cell_type": "markdown",
   "id": "62cc9422",
   "metadata": {},
   "source": [
    "It is difficult to read complex expressions, like the one above, and understand how a program will behave. Using parentheses can make your code easier to understand. Just so you know, Python interprets that expression in the following way:"
   ]
  },
  {
   "cell_type": "code",
   "execution_count": null,
   "id": "99daeceb",
   "metadata": {},
   "outputs": [],
   "source": [
    "(True and (not False)) or ((not True) and False)"
   ]
  },
  {
   "cell_type": "markdown",
   "id": "da2079c9",
   "metadata": {},
   "source": [
    "This is because boolean operators, like arithmetic operators, have an **order of operation**:\n",
    "\n",
    "* `not` has the highest priority\n",
    "* `and`\n",
    "* `or` has the lowest priority\n",
    "\n",
    "To make your code more readable, and and or work on more than just booleans (True, False). Other Python values can be considered \"false-y,\" including `0`, `None`, and `''` (the empty string). All other values are considered \"truth-y.\"\n"
   ]
  },
  {
   "cell_type": "markdown",
   "id": "89c5e19d",
   "metadata": {},
   "source": [
    "<br/><br/>\n",
    "\n",
    "---\n",
    "\n",
    "# Question 4: What Would Python Do? (WWPD)\n",
    "\n",
    "From [CS 88, Lab 01](https://cs88-website.github.io/sp22/lab/lab01/).\n",
    "\n",
    "**Before** running the following cells, consider what Python would do. Then, run the cells. You can use the keyboard shortcut `Shift + <Enter>` to run and step to the next cell.\n"
   ]
  },
  {
   "cell_type": "code",
   "execution_count": null,
   "id": "3d8fcdab",
   "metadata": {},
   "outputs": [],
   "source": [
    "True and 13"
   ]
  },
  {
   "cell_type": "code",
   "execution_count": null,
   "id": "f8ebc8fd",
   "metadata": {},
   "outputs": [],
   "source": [
    "False or 0"
   ]
  },
  {
   "cell_type": "code",
   "execution_count": null,
   "id": "60c09b94",
   "metadata": {},
   "outputs": [],
   "source": [
    "not 10"
   ]
  },
  {
   "cell_type": "code",
   "execution_count": null,
   "id": "f85e1acb",
   "metadata": {},
   "outputs": [],
   "source": [
    "not None"
   ]
  },
  {
   "cell_type": "markdown",
   "id": "ef91fabc",
   "metadata": {},
   "source": [
    "<br/><br/>\n",
    "\n",
    "---\n",
    "\n",
    "# Question 5: WWPD, Part 2\n",
    "\n",
    "From [CS 88, Lab 01](https://cs88-website.github.io/sp22/lab/lab01/).\n",
    "\n",
    "**Before** running the following cells, consider what Python would do. Then, run the cells. You can use the keyboard shortcut `Shift + <Enter>` to run and step to the next cell.\n"
   ]
  },
  {
   "cell_type": "code",
   "execution_count": null,
   "id": "e4f78995",
   "metadata": {},
   "outputs": [],
   "source": [
    "not 0"
   ]
  },
  {
   "cell_type": "code",
   "execution_count": null,
   "id": "429c0b7d",
   "metadata": {},
   "outputs": [],
   "source": [
    "(1 + 1) and 1"
   ]
  },
  {
   "cell_type": "code",
   "execution_count": null,
   "id": "adad21c5",
   "metadata": {},
   "outputs": [],
   "source": [
    "1/0 or True"
   ]
  },
  {
   "cell_type": "code",
   "execution_count": null,
   "id": "2d01c230",
   "metadata": {},
   "outputs": [],
   "source": [
    "(True or False) and False"
   ]
  },
  {
   "cell_type": "markdown",
   "id": "8af3f642",
   "metadata": {},
   "source": [
    "<br/><br/>\n",
    "<hr style=\"border: 5px solid #003262;\" />\n",
    "<hr style=\"border: 1px solid #fdb515;\" />\n",
    "\n",
    "# Bonus/More Practice\n",
    "\n",
    "### Bonus Tutorial: Short Circuiting\n",
    "What do you think will happen if we type the following into Python? Try it out!"
   ]
  },
  {
   "cell_type": "code",
   "execution_count": null,
   "id": "d9b1329b",
   "metadata": {},
   "outputs": [],
   "source": [
    "# just run this cell\n",
    "1 / 0"
   ]
  },
  {
   "cell_type": "markdown",
   "id": "2ca2308d",
   "metadata": {},
   "source": [
    "You should see a ZeroDivisionError. But what about this expression?"
   ]
  },
  {
   "cell_type": "code",
   "execution_count": null,
   "id": "26ff31ad",
   "metadata": {},
   "outputs": [],
   "source": [
    "# just run this cell.\n",
    "True or 1 / 0"
   ]
  },
  {
   "cell_type": "markdown",
   "id": "f00bba07",
   "metadata": {},
   "source": [
    "It evaluates to True because Python's and and or operators short-circuit. That is, they don't necessarily evaluate every operand.\n",
    "\n",
    "| Operator\t| Evaluates from left to right until: | Example |\n",
    "| :--- | :---- | :--- |\n",
    "| AND\t| The first \"false-y\" value\t| `False and 1 / 0` evaluates to `False` |\n",
    "| OR\t| The first \"truth-y\" value\t| `True or 1 / 0` evaluates to `True` |\n",
    "\n",
    "If `and` and `or` do not short-circuit, they just return the last value. This means that `and` and `or` don't always return booleans when using truth-y and false-y values.\n",
    "\n",
    "Example 1:"
   ]
  },
  {
   "cell_type": "code",
   "execution_count": null,
   "id": "12a59214",
   "metadata": {},
   "outputs": [],
   "source": [
    "True and 88"
   ]
  },
  {
   "cell_type": "markdown",
   "id": "6c341dd6",
   "metadata": {},
   "source": [
    "Example 2:"
   ]
  },
  {
   "cell_type": "code",
   "execution_count": null,
   "id": "cd464ba4",
   "metadata": {},
   "outputs": [],
   "source": [
    "def divides(x, y):\n",
    "    \"\"\"\n",
    "    return True if x divides y\n",
    "    \"\"\"\n",
    "    return x and y % x == 0\n",
    "\n",
    "divides(3, 5)"
   ]
  },
  {
   "cell_type": "markdown",
   "id": "80fc9107",
   "metadata": {},
   "source": [
    "<br/><br/>\n",
    "\n",
    "---\n",
    "\n",
    "# Question 6: WWPD? Redux\n",
    "\n",
    "From [CS 88, Lab 01](https://cs88-website.github.io/sp22/lab/lab01/).\n",
    "\n",
    "**Before** running the following cells, consider what Python would do. Then, run the cells. You can use the keyboard shortcut `Shift + <Enter>` to run and step to the next cell.\n"
   ]
  },
  {
   "cell_type": "code",
   "execution_count": null,
   "id": "44d61ece",
   "metadata": {},
   "outputs": [],
   "source": [
    "True and 1 / 0 and False"
   ]
  },
  {
   "cell_type": "code",
   "execution_count": null,
   "id": "12c421b5",
   "metadata": {},
   "outputs": [],
   "source": [
    "True or 1 / 0 or False"
   ]
  },
  {
   "cell_type": "code",
   "execution_count": null,
   "id": "6fd099b8",
   "metadata": {},
   "outputs": [],
   "source": [
    "True and 0"
   ]
  },
  {
   "cell_type": "code",
   "execution_count": null,
   "id": "3164c468",
   "metadata": {},
   "outputs": [],
   "source": [
    "False or 1"
   ]
  },
  {
   "cell_type": "code",
   "execution_count": null,
   "id": "4311fdbc",
   "metadata": {},
   "outputs": [],
   "source": [
    "1 and 3 and 6 and 10 and 15"
   ]
  },
  {
   "cell_type": "code",
   "execution_count": null,
   "id": "cf3636da",
   "metadata": {},
   "outputs": [],
   "source": [
    "0 or False or 2 or 1 / 0"
   ]
  },
  {
   "cell_type": "markdown",
   "id": "579f3197",
   "metadata": {},
   "source": [
    "<br/><br/><br/>\n",
    "\n",
    "# Congratulations!\n",
    "\n",
    "You've made it! Take a break, and then move on to Lab 1B."
   ]
  }
 ],
 "metadata": {
  "kernelspec": {
   "display_name": "Python 3 (ipykernel)",
   "language": "python",
   "name": "python3"
  },
  "language_info": {
   "codemirror_mode": {
    "name": "ipython",
    "version": 3
   },
   "file_extension": ".py",
   "mimetype": "text/x-python",
   "name": "python",
   "nbconvert_exporter": "python",
   "pygments_lexer": "ipython3",
   "version": "3.11.3"
  }
 },
 "nbformat": 4,
 "nbformat_minor": 5
}
